{
 "cells": [
  {
   "cell_type": "markdown",
   "metadata": {},
   "source": [
    "# Residential Solar Panel Size Prediction"
   ]
  },
  {
   "cell_type": "markdown",
   "metadata": {},
   "source": [
    "Author: Sayantan Mitra<br>\n",
    "Chief Data Scientist, Compton & Wendler<br>\n",
    "Ph.D. candidate, Baylor College of Medicine"
   ]
  },
  {
   "cell_type": "markdown",
   "metadata": {},
   "source": [
    "#### ► <span  style=\"color:blue; font-size:15px\"> Objective: Predict size of solar panels for residential setting</span>"
   ]
  },
  {
   "cell_type": "markdown",
   "metadata": {},
   "source": [
    "# 1.A. Import libraries and load data "
   ]
  },
  {
   "cell_type": "code",
   "execution_count": 1,
   "metadata": {
    "hide_input": false
   },
   "outputs": [],
   "source": [
    "import numpy as np\n",
    "import pandas as pd\n",
    "from collections import Counter\n",
    "\n",
    "# VisualiZation\n",
    "import matplotlib.pyplot as plt\n",
    "%matplotlib inline\n",
    "import seaborn as sns\n",
    "sns.set_style(\"darkgrid\")\n",
    "\n",
    "# ignore warnings\n",
    "import warnings\n",
    "warnings.filterwarnings('ignore')"
   ]
  },
  {
   "cell_type": "markdown",
   "metadata": {},
   "source": [
    "Data selected as discussed in Part_1 notebook for data exploration"
   ]
  },
  {
   "cell_type": "code",
   "execution_count": 2,
   "metadata": {},
   "outputs": [
    {
     "data": {
      "text/html": [
       "<div>\n",
       "<style scoped>\n",
       "    .dataframe tbody tr th:only-of-type {\n",
       "        vertical-align: middle;\n",
       "    }\n",
       "\n",
       "    .dataframe tbody tr th {\n",
       "        vertical-align: top;\n",
       "    }\n",
       "\n",
       "    .dataframe thead th {\n",
       "        text-align: right;\n",
       "    }\n",
       "</style>\n",
       "<table border=\"1\" class=\"dataframe\">\n",
       "  <thead>\n",
       "    <tr style=\"text-align: right;\">\n",
       "      <th></th>\n",
       "      <th>state</th>\n",
       "      <th>date_installed</th>\n",
       "      <th>size_kw</th>\n",
       "      <th>zipcode</th>\n",
       "      <th>installer</th>\n",
       "      <th>city</th>\n",
       "      <th>tech_1</th>\n",
       "      <th>county</th>\n",
       "      <th>annual_PV_prod</th>\n",
       "    </tr>\n",
       "  </thead>\n",
       "  <tbody>\n",
       "    <tr>\n",
       "      <th>0</th>\n",
       "      <td>TX</td>\n",
       "      <td>2013-12-12</td>\n",
       "      <td>10.56</td>\n",
       "      <td>78702</td>\n",
       "      <td>NaN</td>\n",
       "      <td>AUSTIN</td>\n",
       "      <td>Poly</td>\n",
       "      <td>Travis</td>\n",
       "      <td>14999.831600</td>\n",
       "    </tr>\n",
       "    <tr>\n",
       "      <th>1</th>\n",
       "      <td>TX</td>\n",
       "      <td>2014-07-11</td>\n",
       "      <td>12.72</td>\n",
       "      <td>78702</td>\n",
       "      <td>NaN</td>\n",
       "      <td>AUSTIN</td>\n",
       "      <td>Mono</td>\n",
       "      <td>Travis</td>\n",
       "      <td>17811.574390</td>\n",
       "    </tr>\n",
       "    <tr>\n",
       "      <th>2</th>\n",
       "      <td>TX</td>\n",
       "      <td>2014-01-17</td>\n",
       "      <td>5.40</td>\n",
       "      <td>78702</td>\n",
       "      <td>NaN</td>\n",
       "      <td>AUSTIN</td>\n",
       "      <td>Mono</td>\n",
       "      <td>Travis</td>\n",
       "      <td>7833.742822</td>\n",
       "    </tr>\n",
       "    <tr>\n",
       "      <th>3</th>\n",
       "      <td>TX</td>\n",
       "      <td>2012-09-27</td>\n",
       "      <td>7.50</td>\n",
       "      <td>78702</td>\n",
       "      <td>NaN</td>\n",
       "      <td>AUSTIN</td>\n",
       "      <td>Poly</td>\n",
       "      <td>Travis</td>\n",
       "      <td>10151.709590</td>\n",
       "    </tr>\n",
       "    <tr>\n",
       "      <th>4</th>\n",
       "      <td>TX</td>\n",
       "      <td>2012-09-26</td>\n",
       "      <td>5.00</td>\n",
       "      <td>78702</td>\n",
       "      <td>NaN</td>\n",
       "      <td>AUSTIN</td>\n",
       "      <td>Poly</td>\n",
       "      <td>Travis</td>\n",
       "      <td>7307.133789</td>\n",
       "    </tr>\n",
       "  </tbody>\n",
       "</table>\n",
       "</div>"
      ],
      "text/plain": [
       "  state date_installed  size_kw  zipcode installer    city tech_1  county  \\\n",
       "0    TX     2013-12-12    10.56    78702       NaN  AUSTIN   Poly  Travis   \n",
       "1    TX     2014-07-11    12.72    78702       NaN  AUSTIN   Mono  Travis   \n",
       "2    TX     2014-01-17     5.40    78702       NaN  AUSTIN   Mono  Travis   \n",
       "3    TX     2012-09-27     7.50    78702       NaN  AUSTIN   Poly  Travis   \n",
       "4    TX     2012-09-26     5.00    78702       NaN  AUSTIN   Poly  Travis   \n",
       "\n",
       "   annual_PV_prod  \n",
       "0    14999.831600  \n",
       "1    17811.574390  \n",
       "2     7833.742822  \n",
       "3    10151.709590  \n",
       "4     7307.133789  "
      ]
     },
     "execution_count": 2,
     "metadata": {},
     "output_type": "execute_result"
    }
   ],
   "source": [
    "solar = pd.read_csv('solar_sizepred.csv', parse_dates=['date_installed']) \n",
    "# Range of residential is upto 40kWh generally\n",
    "filt1 = solar['install_type'] == 'residential'\n",
    "filt2 = (solar['size_kw'] > 0) & (solar['size_kw'] < 40)\n",
    "solar = solar[filt1 & filt2]\n",
    "\n",
    "# All residential so drop column 'install_type' # only keeping columns relevant to user input\n",
    "solar = solar.drop(columns=['install_type', 'incentive_prog_names', 'annual_insolation',\n",
    "                           'tracking_type'])\n",
    "solar.head()"
   ]
  },
  {
   "cell_type": "markdown",
   "metadata": {},
   "source": [
    "■ Detailed EDA for each feature is performed in `Part 1. SolarPanel_Data_Exploration`."
   ]
  },
  {
   "cell_type": "markdown",
   "metadata": {},
   "source": [
    "# 1.B. Feature Engineering"
   ]
  },
  {
   "cell_type": "code",
   "execution_count": 3,
   "metadata": {},
   "outputs": [],
   "source": [
    "# Zipcode: extract initial number of zipcode \n",
    "solar['zipcode_1'] = solar['zipcode'].astype('str').str[:1].astype(int)\n",
    "# DateTime column: extract year and month of installation\n",
    "date = solar['date_installed']\n",
    "solar['year'] = date.dt.year.astype('str')\n",
    "\n",
    "# Divide data into train and test # Use this test as a validation set later on\n",
    "from sklearn.model_selection import train_test_split\n",
    "solar_train, solar_val = train_test_split(solar, test_size=0.2, random_state= 0)\n",
    "solar = solar_train"
   ]
  },
  {
   "cell_type": "markdown",
   "metadata": {},
   "source": [
    "### Cardinality reduction"
   ]
  },
  {
   "cell_type": "markdown",
   "metadata": {},
   "source": [
    "► Unique values in some categorical columns such as `installer`, `city`, `county`, etc. are large. We need to apply the custom functions generated in Part_1 notebook to reduce cardinality."
   ]
  },
  {
   "cell_type": "code",
   "execution_count": 4,
   "metadata": {},
   "outputs": [
    {
     "data": {
      "text/html": [
       "<div>\n",
       "<style scoped>\n",
       "    .dataframe tbody tr th:only-of-type {\n",
       "        vertical-align: middle;\n",
       "    }\n",
       "\n",
       "    .dataframe tbody tr th {\n",
       "        vertical-align: top;\n",
       "    }\n",
       "\n",
       "    .dataframe thead th {\n",
       "        text-align: right;\n",
       "    }\n",
       "</style>\n",
       "<table border=\"1\" class=\"dataframe\">\n",
       "  <thead>\n",
       "    <tr style=\"text-align: right;\">\n",
       "      <th></th>\n",
       "      <th>count</th>\n",
       "      <th>unique</th>\n",
       "      <th>top</th>\n",
       "      <th>freq</th>\n",
       "    </tr>\n",
       "  </thead>\n",
       "  <tbody>\n",
       "    <tr>\n",
       "      <th>state</th>\n",
       "      <td>389802</td>\n",
       "      <td>12</td>\n",
       "      <td>CA</td>\n",
       "      <td>209433</td>\n",
       "    </tr>\n",
       "    <tr>\n",
       "      <th>installer</th>\n",
       "      <td>340232</td>\n",
       "      <td>11</td>\n",
       "      <td>Other</td>\n",
       "      <td>179191</td>\n",
       "    </tr>\n",
       "    <tr>\n",
       "      <th>city</th>\n",
       "      <td>389802</td>\n",
       "      <td>7</td>\n",
       "      <td>Other</td>\n",
       "      <td>354837</td>\n",
       "    </tr>\n",
       "    <tr>\n",
       "      <th>tech_1</th>\n",
       "      <td>304226</td>\n",
       "      <td>5</td>\n",
       "      <td>Poly</td>\n",
       "      <td>175819</td>\n",
       "    </tr>\n",
       "    <tr>\n",
       "      <th>county</th>\n",
       "      <td>389802</td>\n",
       "      <td>23</td>\n",
       "      <td>Other</td>\n",
       "      <td>125813</td>\n",
       "    </tr>\n",
       "    <tr>\n",
       "      <th>year</th>\n",
       "      <td>389802</td>\n",
       "      <td>10</td>\n",
       "      <td>2015</td>\n",
       "      <td>141984</td>\n",
       "    </tr>\n",
       "  </tbody>\n",
       "</table>\n",
       "</div>"
      ],
      "text/plain": [
       "            count unique    top    freq\n",
       "state      389802     12     CA  209433\n",
       "installer  340232     11  Other  179191\n",
       "city       389802      7  Other  354837\n",
       "tech_1     304226      5   Poly  175819\n",
       "county     389802     23  Other  125813\n",
       "year       389802     10   2015  141984"
      ]
     },
     "execution_count": 4,
     "metadata": {},
     "output_type": "execute_result"
    }
   ],
   "source": [
    "def group_levels_in_categoricals(df, threshold=0.01, min_freq=0, max_freq=np.Inf):\n",
    "    df0 = df.describe(include=['O']).T\n",
    "    # reduced list is name of categorical columns\n",
    "    reduced_list = df0[(df0.unique < max_freq) & (df0.unique > min_freq)].reset_index()['index'].tolist()\n",
    "    \n",
    "    #patterns will contain list of all categories of all categorical column whose occurance is more than threshold\n",
    "    patterns = []\n",
    "    other = []\n",
    "    for col in reduced_list:\n",
    "        df_normalized = df[col].value_counts(normalize=True).reset_index()\n",
    "        df_normalized.columns = ['col_name', 'normalized_value']\n",
    "        filt = df_normalized['normalized_value'] > threshold\n",
    "        # norm_list contains all the categories in a categorical column whose occurance is more than threshold    \n",
    "        norm_list = df_normalized[filt]['col_name'].tolist()\n",
    "        pattern = norm_list\n",
    "        patterns.append(norm_list)\n",
    "        # selecting categories that are present less than threshold\n",
    "        others_list = df_normalized[~filt]['col_name'].tolist()\n",
    "        other.append(others_list)\n",
    "        \n",
    "        if pattern != []: \n",
    "            df[col] = df[col].replace({x:'Other' for x in others_list})\n",
    "        else:\n",
    "            df.drop(col, inplace=True, axis=1)\n",
    "    return (df, patterns, reduced_list, other)\n",
    "\n",
    "df, patterns, reduced_list, other = group_levels_in_categoricals(solar)\n",
    "# solar training set after transformation\n",
    "solar.describe(include=['O']).T"
   ]
  },
  {
   "cell_type": "code",
   "execution_count": 5,
   "metadata": {
    "scrolled": true
   },
   "outputs": [
    {
     "data": {
      "text/html": [
       "<div>\n",
       "<style scoped>\n",
       "    .dataframe tbody tr th:only-of-type {\n",
       "        vertical-align: middle;\n",
       "    }\n",
       "\n",
       "    .dataframe tbody tr th {\n",
       "        vertical-align: top;\n",
       "    }\n",
       "\n",
       "    .dataframe thead th {\n",
       "        text-align: right;\n",
       "    }\n",
       "</style>\n",
       "<table border=\"1\" class=\"dataframe\">\n",
       "  <thead>\n",
       "    <tr style=\"text-align: right;\">\n",
       "      <th></th>\n",
       "      <th>count</th>\n",
       "      <th>unique</th>\n",
       "      <th>top</th>\n",
       "      <th>freq</th>\n",
       "    </tr>\n",
       "  </thead>\n",
       "  <tbody>\n",
       "    <tr>\n",
       "      <th>state</th>\n",
       "      <td>97451</td>\n",
       "      <td>12</td>\n",
       "      <td>CA</td>\n",
       "      <td>52440</td>\n",
       "    </tr>\n",
       "    <tr>\n",
       "      <th>installer</th>\n",
       "      <td>97451</td>\n",
       "      <td>11</td>\n",
       "      <td>Others</td>\n",
       "      <td>57231</td>\n",
       "    </tr>\n",
       "    <tr>\n",
       "      <th>city</th>\n",
       "      <td>97451</td>\n",
       "      <td>7</td>\n",
       "      <td>Others</td>\n",
       "      <td>88833</td>\n",
       "    </tr>\n",
       "    <tr>\n",
       "      <th>tech_1</th>\n",
       "      <td>97451</td>\n",
       "      <td>5</td>\n",
       "      <td>Poly</td>\n",
       "      <td>44016</td>\n",
       "    </tr>\n",
       "    <tr>\n",
       "      <th>county</th>\n",
       "      <td>97451</td>\n",
       "      <td>23</td>\n",
       "      <td>Others</td>\n",
       "      <td>31327</td>\n",
       "    </tr>\n",
       "    <tr>\n",
       "      <th>year</th>\n",
       "      <td>97451</td>\n",
       "      <td>10</td>\n",
       "      <td>2015</td>\n",
       "      <td>35686</td>\n",
       "    </tr>\n",
       "  </tbody>\n",
       "</table>\n",
       "</div>"
      ],
      "text/plain": [
       "           count unique     top   freq\n",
       "state      97451     12      CA  52440\n",
       "installer  97451     11  Others  57231\n",
       "city       97451      7  Others  88833\n",
       "tech_1     97451      5    Poly  44016\n",
       "county     97451     23  Others  31327\n",
       "year       97451     10    2015  35686"
      ]
     },
     "execution_count": 5,
     "metadata": {},
     "output_type": "execute_result"
    }
   ],
   "source": [
    "# We have to keep this consistent with test data as well\n",
    "def group_levels_in_categoricals_test(reduced_list, other, patterns, df_test):   \n",
    "    for idx, col in enumerate(reduced_list):       \n",
    "        if other[idx] != []:\n",
    "            filt = df_test[col].isin(patterns[idx])\n",
    "            df_test[col][~filt]='Others'\n",
    "        else:\n",
    "            df_test.drop(col, inplace=True, axis=1)       \n",
    "    return df_test\n",
    "\n",
    "solar_val = group_levels_in_categoricals_test(reduced_list, other, patterns, solar_val)\n",
    "# solar validation set after transformation\n",
    "solar_val.describe(include=['O']).T"
   ]
  },
  {
   "cell_type": "markdown",
   "metadata": {},
   "source": [
    "♦ Solar train and test set categorical columns have the same number of unique values."
   ]
  },
  {
   "cell_type": "markdown",
   "metadata": {},
   "source": [
    "# 1.C. Feature transformation\n",
    "Based on EDA in Part_1 notebook, we have to transform the target i.e. `size_kw` and `annual_PV_prod`"
   ]
  },
  {
   "cell_type": "code",
   "execution_count": 6,
   "metadata": {},
   "outputs": [
    {
     "data": {
      "text/plain": [
       "((389802, 83), (97451, 83))"
      ]
     },
     "execution_count": 6,
     "metadata": {},
     "output_type": "execute_result"
    }
   ],
   "source": [
    "# Target(size_kw) transformation\n",
    "solar['size_kw_L'] = np.log1p(solar['size_kw'])\n",
    "solar_val['size_kw_L'] = np.log1p(solar_val['size_kw'])\n",
    "\n",
    "# annual_PV_prod transformation\n",
    "solar['annual_PV_prod_L'] = np.log1p(solar['annual_PV_prod'])\n",
    "solar_val['annual_PV_prod_L'] = np.log1p(solar_val['annual_PV_prod'])\n",
    "# Feature emgineering\n",
    "solar['annual_PV_prod_L-s2'] = solar['annual_PV_prod_L']** 2\n",
    "solar_val['annual_PV_prod_L-s2'] = solar_val['annual_PV_prod_L']** 2\n",
    "\n",
    "# Transforming some numerical variables that are actually categorical\n",
    "solar['zipcode_1'] = solar['zipcode_1'].apply(str)\n",
    "solar_val['zipcode_1'] = solar_val['zipcode_1'].apply(str)\n",
    "\n",
    "# Categorical encoding\n",
    "solar1 = pd.get_dummies(solar)\n",
    "solar_val = pd.get_dummies(solar_val)\n",
    "solar1.shape, solar_val.shape"
   ]
  },
  {
   "cell_type": "markdown",
   "metadata": {},
   "source": [
    "# 2. Predictive Modeling"
   ]
  },
  {
   "cell_type": "code",
   "execution_count": 7,
   "metadata": {},
   "outputs": [
    {
     "data": {
      "text/plain": [
       "((272861, 77), (116941, 77), (272861,), (116941,))"
      ]
     },
     "execution_count": 7,
     "metadata": {},
     "output_type": "execute_result"
    }
   ],
   "source": [
    "# Separate dependent and independent variables\n",
    "# Dependent variable\n",
    "y_L = solar1['size_kw_L']\n",
    "y_val_L = solar_val['size_kw_L']\n",
    "\n",
    "# Independent variable\n",
    "solar1 = solar1.drop(columns=['size_kw', 'size_kw_L', 'zipcode', 'annual_PV_prod', 'annual_PV_prod_L', 'date_installed']) \n",
    "solar_val = solar_val.drop(columns=['size_kw', 'size_kw_L', 'zipcode', 'annual_PV_prod', 'annual_PV_prod_L', 'date_installed'])                         \n",
    "\n",
    "# Scaling for linear models or other models that calculate the distance\n",
    "from sklearn.preprocessing import StandardScaler\n",
    "sc = StandardScaler()\n",
    "solar1_stndz = sc.fit_transform(solar1)\n",
    "solar_val_stndz = sc.transform(solar_val)\n",
    "\n",
    "# Use solar1_stndz and y_L for CV and train-test for normal evaluation\n",
    "X_train,X_test,y_train,y_test = train_test_split(solar1_stndz, y_L, test_size = 0.3, random_state= 0)\n",
    "X_train.shape,X_test.shape,y_train.shape,y_test.shape"
   ]
  },
  {
   "cell_type": "code",
   "execution_count": 8,
   "metadata": {},
   "outputs": [],
   "source": [
    "from sklearn.dummy import DummyRegressor\n",
    "from sklearn.linear_model import LinearRegression\n",
    "from sklearn.linear_model import Ridge, Lasso, ElasticNet\n",
    "from sklearn.model_selection import GridSearchCV\n",
    "from sklearn.model_selection import KFold, cross_val_score, train_test_split\n",
    "from sklearn.metrics import r2_score, mean_squared_error, mean_squared_log_error, make_scorer\n",
    "\n",
    "# Additional validation function\n",
    "def rmsle(y_true, y_pred):\n",
    "    return np.sqrt(mean_squared_log_error(y_true, y_pred))\n",
    "# rmsle is an error, lower is better\n",
    "rmsle_scorer = make_scorer(rmsle, greater_is_better=False) "
   ]
  },
  {
   "cell_type": "markdown",
   "metadata": {},
   "source": [
    "## Create a baseline to check model performance improvement"
   ]
  },
  {
   "cell_type": "code",
   "execution_count": 9,
   "metadata": {},
   "outputs": [
    {
     "name": "stdout",
     "output_type": "stream",
     "text": [
      "Dummy Regressor_r2: -0.0\n",
      "Dummy Regressor_mean_squared_error: 0.1855\n",
      "Dummy Regressor_RMSLE: -0.1554\n"
     ]
    }
   ],
   "source": [
    "kf = KFold(n_splits=5, shuffle=True, random_state=123)\n",
    "\n",
    "dr = DummyRegressor()\n",
    "dr.fit(X_train, y_train)\n",
    "y_pred = dr.predict(X_test)\n",
    "\n",
    "print(f'Dummy Regressor_r2: {r2_score(y_test, y_pred).round(4)}')\n",
    "print(f'Dummy Regressor_mean_squared_error: {mean_squared_error(y_test, y_pred).round(4)}')\n",
    "print(f'Dummy Regressor_RMSLE: {cross_val_score(dr, solar1_stndz, y_L, cv=kf, \\\n",
    "      scoring=rmsle_scorer).mean().round(4)}')"
   ]
  },
  {
   "cell_type": "markdown",
   "metadata": {},
   "source": [
    "## 2.A. Linear Regression without regularization"
   ]
  },
  {
   "cell_type": "code",
   "execution_count": 10,
   "metadata": {},
   "outputs": [
    {
     "name": "stdout",
     "output_type": "stream",
     "text": [
      "Linear Regression_r2: 0.9859\n",
      "Linear Regression_Mean_squared_error: 0.0026\n"
     ]
    }
   ],
   "source": [
    "# Linear Regression\n",
    "lr = LinearRegression()\n",
    "lr.fit(X_train, y_train)\n",
    "y_pred = lr.predict(X_test)\n",
    "\n",
    "print(f'Linear Regression_r2: {r2_score(y_test, y_pred).round(4)}')\n",
    "print(f'Linear Regression_Mean_squared_error: {mean_squared_error(y_test, y_pred).round(4)}')"
   ]
  },
  {
   "cell_type": "markdown",
   "metadata": {},
   "source": [
    "#### Linear Regression cross validation"
   ]
  },
  {
   "cell_type": "code",
   "execution_count": 11,
   "metadata": {},
   "outputs": [
    {
     "name": "stdout",
     "output_type": "stream",
     "text": [
      "Linear regression_cv_r2: (0.9858, 0.000161)\n",
      "Linear regression_cv[with_shuffle]_r2: (0.9858, 0.00013)\n",
      "LR_cv[with_shuffle]_neg_mean_squared_error: (-0.0026, 2.7e-05)\n"
     ]
    }
   ],
   "source": [
    "scores = cross_val_score(lr, solar1_stndz, y_L, cv=5)\n",
    "print(f'Linear regression_cv_r2: {scores.mean().round(4), scores.std().round(6)}')\n",
    "\n",
    "kf = KFold(n_splits=5, shuffle=True, random_state=123)\n",
    "scores = cross_val_score(lr, solar1_stndz, y_L, cv=kf)\n",
    "print(f'Linear regression_cv[with_shuffle]_r2: {scores.mean().round(4), scores.std().round(6)}')\n",
    "\n",
    "nms_error = cross_val_score(lr, solar1_stndz, y_L, cv=kf, scoring='neg_mean_squared_error')\n",
    "print(f'LR_cv[with_shuffle]_neg_mean_squared_error: {nms_error.mean().round(4), nms_error.std().round(6)}')"
   ]
  },
  {
   "cell_type": "markdown",
   "metadata": {},
   "source": [
    "Here we see the linear regression performs great. Cross-validation and cross-validation (shuffle, shuffle helps sometime when data is ordered) didn't improve the model, as model is already pretty good. \n",
    "\n",
    "Let's try regularized regression. We can also try lasso as it reduces feature space."
   ]
  },
  {
   "cell_type": "markdown",
   "metadata": {},
   "source": [
    "#### Linear Regression performance on validation set"
   ]
  },
  {
   "cell_type": "code",
   "execution_count": 12,
   "metadata": {},
   "outputs": [
    {
     "name": "stdout",
     "output_type": "stream",
     "text": [
      "Linear Regression_r2_Validation_set: 0.98557\n",
      "Linear Regression_mean_squared_error: 0.002706\n",
      "Overall model performance with cv_Mean_r2: 0.9857 \n",
      "Overall model performance with cv_Std_deviation_r2: 0.000508\n"
     ]
    }
   ],
   "source": [
    "y_pred = lr.predict(solar_val_stndz)\n",
    "print(f'Linear Regression_r2_Validation_set: {lr.score(solar_val_stndz, y_val_L).round(6)}')\n",
    "print(f'Linear Regression_mean_squared_error: {mean_squared_error(y_val_L, y_pred).round(6)}')\n",
    "\n",
    "cv_score = cross_val_score(lr, solar_val_stndz, y_val_L, cv=kf)\n",
    "print(f'Overall model performance with cv_Mean_r2: {cv_score.mean().round(4)}', '\\n'\n",
    "f'Overall model performance with cv_Std_deviation_r2: {cv_score.std().round(6)}')"
   ]
  },
  {
   "cell_type": "markdown",
   "metadata": {},
   "source": [
    "## 2.B. Linear Regression with Ridge regularization (L2 penalty)"
   ]
  },
  {
   "cell_type": "code",
   "execution_count": 13,
   "metadata": {},
   "outputs": [
    {
     "name": "stdout",
     "output_type": "stream",
     "text": [
      "Ridge Regression_r2: 0.9859\n",
      "Overall model performance with cv_Mean_r2: 0.9858 \n",
      "Overall model performance with cv_r2_Std_deviation: 0.00013\n"
     ]
    }
   ],
   "source": [
    "# Regularized regression(ridge) without any tuning\n",
    "rg = Ridge(alpha=1)\n",
    "rg.fit(X_train, y_train)\n",
    "\n",
    "print(f'Ridge Regression_r2: {rg.score(X_test, y_test).round(4)}')\n",
    "cv_score = cross_val_score(rg, solar1_stndz, y_L, cv=kf)\n",
    "print(f'Overall model performance with cv_Mean_r2: {cv_score.mean().round(4)}', '\\n'\n",
    "f'Overall model performance with cv_r2_Std_deviation: {cv_score.std().round(6)}')"
   ]
  },
  {
   "cell_type": "markdown",
   "metadata": {},
   "source": [
    "#### Ridge regression hyperparameter tuning"
   ]
  },
  {
   "cell_type": "code",
   "execution_count": 14,
   "metadata": {},
   "outputs": [
    {
     "name": "stdout",
     "output_type": "stream",
     "text": [
      "Best_score: 0.985828\n",
      "Ridge_best_alpha: 7.077011\n",
      "Ridge Regression_r2: 0.9859\n",
      "Overall model performance with cv_Mean_r2: 0.9858 \n",
      "Overall model performance with cv_r2_Std_deviation: 0.00013\n"
     ]
    },
    {
     "data": {
      "image/png": "[encoded data removed]",
      "text/plain": [
       "<Figure size 864x288 with 2 Axes>"
      ]
     },
     "metadata": {
      "needs_background": "light"
     },
     "output_type": "display_data"
    }
   ],
   "source": [
    "# Regularized regression(ridge) with hyperparameter tuning\n",
    "alphas = np.logspace(-3, 3, num=1000) \n",
    "param_grid = {'alpha': alphas}\n",
    "gs = GridSearchCV(rg, param_grid, cv=kf)\n",
    "gs.fit(solar1_stndz, y_L)\n",
    "print(f'Best_score: {(gs.best_score_).round(6)}') \n",
    "ridge_best_alpha = gs.best_params_['alpha']\n",
    "print(f'Ridge_best_alpha: {ridge_best_alpha.round(6)}')\n",
    "\n",
    "rg = Ridge(alpha=ridge_best_alpha)\n",
    "rg.fit(X_train, y_train)\n",
    "print(f'Ridge Regression_r2: {rg.score(X_test, y_test).round(4)}')\n",
    "cv_score = cross_val_score(rg, solar1_stndz, y_L, cv=kf)\n",
    "print(f'Overall model performance with cv_Mean_r2: {cv_score.mean().round(4)}', '\\n'\n",
    "f'Overall model performance with cv_r2_Std_deviation: {cv_score.std().round(6)}')\n",
    "\n",
    "df_results = pd.DataFrame(gs.cv_results_)\n",
    "fig, axes = plt.subplots(1,2, figsize = (12,4))\n",
    "df_results.plot(x='param_alpha', y='mean_test_score', ax=axes[0])\n",
    "df_results[:700].plot(x='param_alpha', y='mean_test_score', ax=axes[1])\n",
    "axes[1].xaxis.set_tick_params(rotation=45)\n",
    "fig.suptitle('mean_test_score vs alpha', fontsize=15, y=1.01);"
   ]
  },
  {
   "cell_type": "markdown",
   "metadata": {},
   "source": [
    "Model performs very well even without hyperparameter tuning. Above plot shows as penalty increases up to `Ridge_best_alpha`, mean_test_score improves. However, with more stringent penalty on the coefficients, mean_test_score drops."
   ]
  },
  {
   "cell_type": "markdown",
   "metadata": {},
   "source": [
    "#### Feature importance based on Ridge regression"
   ]
  },
  {
   "cell_type": "code",
   "execution_count": 15,
   "metadata": {},
   "outputs": [
    {
     "name": "stdout",
     "output_type": "stream",
     "text": [
      "Ridge picked 77 features and eliminated the other 0 features\n"
     ]
    },
    {
     "data": {
      "image/png": "[encoded data removed]",
      "text/plain": [
       "<Figure size 720x216 with 1 Axes>"
      ]
     },
     "metadata": {
      "needs_background": "light"
     },
     "output_type": "display_data"
    }
   ],
   "source": [
    "# Plot important coefficients\n",
    "rg = Ridge(alpha=ridge_best_alpha)\n",
    "rg.fit(X_train, y_train)\n",
    "coefs = pd.Series(rg.coef_, index = solar1.columns)\n",
    "\n",
    "print(\"Ridge picked \" + str(sum(coefs != 0)) + \" features and eliminated the other \" +  \\\n",
    "      str(sum(coefs == 0)) + \" features\")\n",
    "imp_coefs = pd.concat([coefs.sort_values().head(2), coefs.sort_values().tail(2)])\n",
    "imp_coefs.plot(kind = \"barh\", figsize=(10, 3))\n",
    "plt.title(\"Important features in the Ridge Regression Model\")\n",
    "plt.show()"
   ]
  },
  {
   "cell_type": "markdown",
   "metadata": {},
   "source": [
    "→ As expected from EDA, `annual_PV_prod`'s derrivative is the most important feature for prediction."
   ]
  },
  {
   "cell_type": "markdown",
   "metadata": {},
   "source": [
    "#### Ridge regression performance with validation set"
   ]
  },
  {
   "cell_type": "code",
   "execution_count": 16,
   "metadata": {},
   "outputs": [
    {
     "name": "stdout",
     "output_type": "stream",
     "text": [
      "Ridge Regression_r2_Validation_set: 0.985582\n",
      "Ridge Regression_mean_squared_error: 0.002704\n",
      "Overall model performance with cv_Mean_r2: 0.9857 \n",
      "Overall model performance with cv_Std_deviation_r2: 0.000507\n"
     ]
    }
   ],
   "source": [
    "rg = Ridge(alpha=ridge_best_alpha)\n",
    "rg.fit(X_train, y_train)\n",
    "y_pred = rg.predict(solar_val_stndz)\n",
    "print(f'Ridge Regression_r2_Validation_set: {rg.score(solar_val_stndz, y_val_L).round(6)}')\n",
    "print(f'Ridge Regression_mean_squared_error: {mean_squared_error(y_val_L, y_pred).round(6)}')\n",
    "\n",
    "cv_score = cross_val_score(rg, solar_val_stndz, y_val_L, cv=kf)\n",
    "print(f'Overall model performance with cv_Mean_r2: {cv_score.mean().round(4)}', '\\n'\n",
    "f'Overall model performance with cv_Std_deviation_r2: {cv_score.std().round(6)}')"
   ]
  },
  {
   "cell_type": "markdown",
   "metadata": {},
   "source": [
    "►**Overall summary**<br>\n",
    "→ Ridge regression performs great, however it doesn't improve beyond linear regression (as LR prediction was already great). \n",
    "\n",
    "→ **Next step**: The characteristic of ridge regression is that it reduces the coefficient close to 0 but NOT 0, thus it can't act as a feature selector unlike Lasso regression. Lasso helps to remove unwanted features. As we know there are some features which might not be very important to predict `size_kw` we should try Lasso."
   ]
  },
  {
   "cell_type": "markdown",
   "metadata": {},
   "source": [
    "## 2.C. Linear Regression with Lasso regularization (L1 penalty)"
   ]
  },
  {
   "cell_type": "code",
   "execution_count": 17,
   "metadata": {},
   "outputs": [
    {
     "name": "stdout",
     "output_type": "stream",
     "text": [
      "Lasso Regression_r2: -0.0\n",
      "Overall model performance with cv_Mean: -0.0001 \n",
      "Overall model performance with cv_Std_deviation: 4.4e-05\n"
     ]
    }
   ],
   "source": [
    "# Regularized regression(lasso) without any tuning\n",
    "ls = Lasso(alpha=1)\n",
    "ls.fit(X_train, y_train)\n",
    "\n",
    "print(f'Lasso Regression_r2: {ls.score(X_test, y_test).round(4)}')\n",
    "cv_score = cross_val_score(ls, solar1_stndz, y_L, cv=kf)\n",
    "print(f'Overall model performance with cv_Mean: {cv_score.mean().round(4)}', '\\n'\n",
    "f'Overall model performance with cv_Std_deviation: {cv_score.std().round(6)}')"
   ]
  },
  {
   "cell_type": "markdown",
   "metadata": {},
   "source": [
    "Lasso performs poorly, we need to tune the `alpha` hyperparameter of lasso to improve its performance."
   ]
  },
  {
   "cell_type": "markdown",
   "metadata": {},
   "source": [
    "#### Lasso regression hyperparameter tuning"
   ]
  },
  {
   "cell_type": "code",
   "execution_count": 18,
   "metadata": {},
   "outputs": [
    {
     "name": "stdout",
     "output_type": "stream",
     "text": [
      "best_score: 0.985828\n",
      "Lasso_best_alpha: 1e-06\n",
      "Lasso Regression_r2: 0.9859\n",
      "Overall model performance with cv_Mean: 0.9858 \n",
      "Overall model performance with cv_Std_deviation: 0.00013\n"
     ]
    }
   ],
   "source": [
    "# Regularized regression(lasso) with hyperparameter tuning\n",
    "alphas = np.logspace(-6, 0, 1000)  \n",
    "param_grid = {'alpha': alphas}\n",
    "gs = GridSearchCV(ls, param_grid, cv=kf)\n",
    "gs.fit(solar1_stndz, y_L)\n",
    "print(f'best_score: {(gs.best_score_).round(6)}')\n",
    "lasso_best_alpha = gs.best_params_['alpha']\n",
    "print(f'Lasso_best_alpha: {lasso_best_alpha.round(6)}')\n",
    "\n",
    "# Regularized regression(lasso) with tuning\n",
    "ls = Lasso(alpha = lasso_best_alpha)\n",
    "ls.fit(X_train, y_train)\n",
    "print(f'Lasso Regression_r2: {rg.score(X_test, y_test).round(4)}')\n",
    "cv_score = cross_val_score(ls, solar1_stndz, y_L, cv=kf)\n",
    "print(f'Overall model performance with cv_Mean: {cv_score.mean().round(4)}', '\\n'\n",
    "f'Overall model performance with cv_Std_deviation: {cv_score.std().round(6)}')"
   ]
  },
  {
   "cell_type": "markdown",
   "metadata": {},
   "source": [
    "#### Impact of alpha strength on the coefficient of the features in Lasso Regression "
   ]
  },
  {
   "cell_type": "code",
   "execution_count": 19,
   "metadata": {},
   "outputs": [
    {
     "data": {
      "image/png": "[encoded data removed]",
      "text/plain": [
       "<Figure size 720x432 with 1 Axes>"
      ]
     },
     "metadata": {
      "needs_background": "light"
     },
     "output_type": "display_data"
    }
   ],
   "source": [
    "coefs = [] \n",
    "for alpha in alphas:\n",
    "    ls = Lasso(alpha=alpha)\n",
    "    ls.fit(X_train, y_train)\n",
    "    coefs.append(ls.coef_)\n",
    "df_coef = pd.DataFrame(index=alphas, data=np.array(coefs), columns=solar1.columns)\n",
    "\n",
    "ax = df_coef.iloc[:950,:23].plot(figsize=(10, 6), title=r'Shrinking Coefficient Values with Increasing $\\alpha$')\n",
    "ax.legend(bbox_to_anchor=(1.3, 1))\n",
    "ax.set_xlabel(r'$\\alpha$', size=25);"
   ]
  },
  {
   "cell_type": "markdown",
   "metadata": {},
   "source": [
    "#### Feature importance based on Lasso regression"
   ]
  },
  {
   "cell_type": "code",
   "execution_count": 20,
   "metadata": {},
   "outputs": [
    {
     "name": "stdout",
     "output_type": "stream",
     "text": [
      "Lasso picked 75 features and eliminated the other 2 features\n"
     ]
    },
    {
     "data": {
      "image/png": "[encoded data removed]",
      "text/plain": [
       "<Figure size 720x216 with 1 Axes>"
      ]
     },
     "metadata": {
      "needs_background": "light"
     },
     "output_type": "display_data"
    }
   ],
   "source": [
    "# Plot important coefficients\n",
    "ls = Lasso(alpha = lasso_best_alpha)\n",
    "ls.fit(X_train, y_train)\n",
    "coefs = pd.Series(ls.coef_, index = solar1.columns)\n",
    "\n",
    "print(\"Lasso picked \" + str(sum(coefs != 0)) + \" features and eliminated the other \" +  \\\n",
    "      str(sum(coefs == 0)) + \" features\")\n",
    "imp_coefs = pd.concat([coefs.sort_values().head(3), coefs.sort_values().tail(3)])\n",
    "imp_coefs.plot(kind = \"barh\",figsize=(10, 3))\n",
    "plt.title(\"Important features in the Lasso Regression Model\")\n",
    "plt.show()"
   ]
  },
  {
   "cell_type": "markdown",
   "metadata": {},
   "source": [
    "→ As expected from EDA, `annual_PV_prod`'s derrivative is the most important feature for prediction (similar to ridge)."
   ]
  },
  {
   "cell_type": "markdown",
   "metadata": {},
   "source": [
    "#### Lasso regression performance with validation set"
   ]
  },
  {
   "cell_type": "code",
   "execution_count": 21,
   "metadata": {},
   "outputs": [
    {
     "name": "stdout",
     "output_type": "stream",
     "text": [
      "Lasso Regression_r2_Validation_set: 0.985583\n",
      "Lasso Regression_mean_squared_error: 0.002704\n",
      "Overall model performance with cv_Mean_r2: 0.9857 \n",
      "Overall model performance with cv_Std_deviation_r2: 0.000508\n"
     ]
    }
   ],
   "source": [
    "ls = Lasso(alpha = lasso_best_alpha)\n",
    "ls.fit(X_train, y_train)\n",
    "y_pred = ls.predict(solar_val_stndz)\n",
    "print(f'Lasso Regression_r2_Validation_set: {ls.score(solar_val_stndz, y_val_L).round(6)}')\n",
    "print(f'Lasso Regression_mean_squared_error: {mean_squared_error(y_val_L, y_pred).round(6)}')\n",
    "\n",
    "cv_score = cross_val_score(ls, solar_val_stndz, y_val_L, cv=kf)\n",
    "print(f'Overall model performance with cv_Mean_r2: {cv_score.mean().round(4)}', '\\n'\n",
    "f'Overall model performance with cv_Std_deviation_r2: {cv_score.std().round(6)}')"
   ]
  },
  {
   "cell_type": "markdown",
   "metadata": {},
   "source": [
    "►**Overall summary**<br>\n",
    "→ Lasso regression performs poorly without hyperparameter tuning.<br>\n",
    "\n",
    "→ As alpha is tuned, lasso performance improves greatly. Lasso prediction performance is similar to ridge.<br>\n",
    "\n",
    "→ There is however a benefit of lasso over ridge. In Lasso, as penalty increases the coefficient of some of the features become 0 and thus it acts as a feature selector. However, with the best alpha that we got from hyperparameter tuning, we observe that lasso removes only 2 features. If it reduces a significant number of features, Lasso could be chosen as the final model.\n",
    "\n",
    "→ **Next step**: We run ridge when we don't want to completely eliminate a feature, lasso when we want it to remove unimportant features. But when we are not sure which one to chose (when there are too many features and we don't have time to do EDA in each one of them) we can run elastic net. I run elastic net just for fun as I have clear understanding of the features."
   ]
  },
  {
   "cell_type": "markdown",
   "metadata": {},
   "source": [
    "## 2.D. Linear Regression with ElasticNet regularization (L1 and L2 penalty)"
   ]
  },
  {
   "cell_type": "code",
   "execution_count": 22,
   "metadata": {},
   "outputs": [
    {
     "name": "stdout",
     "output_type": "stream",
     "text": [
      "ElasticNet Regression_r2: -0.0\n",
      "Overall model performance with cv_Mean: -0.0001 \n",
      "Overall model performance with cv_Std_deviation: 4.4e-05\n"
     ]
    }
   ],
   "source": [
    "# Regularized regression(ElasticNet) without any tuning\n",
    "en= ElasticNet(alpha=1)\n",
    "en.fit(X_train, y_train)\n",
    "\n",
    "print(f'ElasticNet Regression_r2: {en.score(X_test, y_test).round(4)}')\n",
    "cv_score = cross_val_score(en, solar1_stndz, y_L, cv=kf)\n",
    "print(f'Overall model performance with cv_Mean: {cv_score.mean().round(4)}', '\\n'\n",
    "f'Overall model performance with cv_Std_deviation: {cv_score.std().round(6)}')"
   ]
  },
  {
   "cell_type": "markdown",
   "metadata": {},
   "source": [
    "ElasticNet performs poorly, we need to tune the alpha hyperparameter of ElasticNet to improve its performance."
   ]
  },
  {
   "cell_type": "code",
   "execution_count": 23,
   "metadata": {},
   "outputs": [
    {
     "name": "stdout",
     "output_type": "stream",
     "text": [
      "best_score: 0.985828\n",
      "ElasticNet_best_alpha: 1e-06\n",
      "ElasticNet Regression_r2: 0.9859\n",
      "Overall model performance with cv_Mean: 0.9858 \n",
      "Overall model performance with cv_Std_deviation: 0.00013\n"
     ]
    }
   ],
   "source": [
    "# Regularized regression(ElasticNet) with hyperparameter tuning\n",
    "from sklearn.model_selection import GridSearchCV\n",
    "alphas = np.logspace(-6, 0, 100) \n",
    "param_grid = {'alpha': alphas}\n",
    "gs = GridSearchCV(en, param_grid, cv=kf)\n",
    "gs.fit(solar1_stndz, y_L) \n",
    "print(f'best_score: {(gs.best_score_).round(6)}')\n",
    "en_best_alpha = gs.best_params_['alpha']\n",
    "print(f'ElasticNet_best_alpha: {en_best_alpha.round(6)}')\n",
    "\n",
    "# Regularized regression(ElasticNet) with tuning\n",
    "en = ElasticNet(alpha = en_best_alpha)\n",
    "en.fit(X_train, y_train)\n",
    "print(f'ElasticNet Regression_r2: {en.score(X_test, y_test).round(4)}')\n",
    "cv_score = cross_val_score(en, solar1_stndz, y_L, cv=kf)\n",
    "print(f'Overall model performance with cv_Mean: {cv_score.mean().round(4)}', '\\n'\n",
    "f'Overall model performance with cv_Std_deviation: {cv_score.std().round(6)}')"
   ]
  },
  {
   "cell_type": "markdown",
   "metadata": {},
   "source": [
    "#### Impact of alpha strength on the coefficient of the features in ElasticNet"
   ]
  },
  {
   "cell_type": "code",
   "execution_count": 24,
   "metadata": {},
   "outputs": [
    {
     "data": {
      "image/png": "[encoded data removed]",
      "text/plain": [
       "<Figure size 720x432 with 1 Axes>"
      ]
     },
     "metadata": {
      "needs_background": "light"
     },
     "output_type": "display_data"
    }
   ],
   "source": [
    "coefs = []\n",
    "for alpha in alphas:\n",
    "    en = ElasticNet(alpha=alpha)\n",
    "    en.fit(X_train, y_train)\n",
    "    coefs.append(en.coef_)\n",
    "df_coef = pd.DataFrame(index=alphas, data=np.array(coefs), columns=solar1.columns)\n",
    "\n",
    "ax = df_coef.iloc[:,:23].plot(figsize=(10, 6), title=r'Shrinking Coefficient Values with Increasing $\\alpha$')\n",
    "ax.legend(bbox_to_anchor=(1.3, 1))\n",
    "ax.set_xlabel(r'$\\alpha$', size=25);"
   ]
  },
  {
   "cell_type": "markdown",
   "metadata": {},
   "source": [
    "#### Feature importance based on ElasticNet regression"
   ]
  },
  {
   "cell_type": "code",
   "execution_count": 25,
   "metadata": {},
   "outputs": [
    {
     "name": "stdout",
     "output_type": "stream",
     "text": [
      "ElasticNet picked 76 features and eliminated the other 1 features\n"
     ]
    },
    {
     "data": {
      "image/png": "[encoded data removed]",
      "text/plain": [
       "<Figure size 720x216 with 1 Axes>"
      ]
     },
     "metadata": {
      "needs_background": "light"
     },
     "output_type": "display_data"
    }
   ],
   "source": [
    "# Plot important coefficients\n",
    "en = ElasticNet(alpha = en_best_alpha)\n",
    "en.fit(X_train, y_train)\n",
    "coefs = pd.Series(en.coef_, index = solar1.columns)\n",
    "\n",
    "print(\"ElasticNet picked \" + str(sum(coefs != 0)) + \" features and eliminated the other \" +  \\\n",
    "      str(sum(coefs == 0)) + \" features\")\n",
    "imp_coefs = pd.concat([coefs.sort_values().head(3), coefs.sort_values().tail(3)])\n",
    "imp_coefs.plot(kind = \"barh\",figsize=(10, 3))\n",
    "plt.title(\"Important features in the ElasticNet Regression Model\")\n",
    "plt.show()"
   ]
  },
  {
   "cell_type": "markdown",
   "metadata": {},
   "source": [
    "→ Annual energy production's derivative is the most important feature for prediction (similar to ridge & lasso)."
   ]
  },
  {
   "cell_type": "markdown",
   "metadata": {},
   "source": [
    "#### ElasticNet regression performance with validation set"
   ]
  },
  {
   "cell_type": "code",
   "execution_count": 26,
   "metadata": {},
   "outputs": [
    {
     "name": "stdout",
     "output_type": "stream",
     "text": [
      "ElasticNet Regression_r2_Validation_set: 0.985582\n",
      "ElasticNet Regression_mean_squared_error: 0.002704\n",
      "Overall model performance with cv_Mean_r2: 0.9857 \n",
      "Overall model performance with cv_Std_deviation_r2: 0.000508\n"
     ]
    }
   ],
   "source": [
    "en = ElasticNet(alpha = en_best_alpha)\n",
    "en.fit(X_train, y_train)\n",
    "y_pred = en.predict(solar_val_stndz)\n",
    "print(f'ElasticNet Regression_r2_Validation_set: {en.score(solar_val_stndz, y_val_L).round(6)}')\n",
    "print(f'ElasticNet Regression_mean_squared_error: {mean_squared_error(y_val_L, y_pred).round(6)}')\n",
    "\n",
    "cv_score = cross_val_score(en, solar_val_stndz, y_val_L, cv=kf)\n",
    "print(f'Overall model performance with cv_Mean_r2: {cv_score.mean().round(4)}', '\\n'\n",
    "f'Overall model performance with cv_Std_deviation_r2: {cv_score.std().round(6)}')"
   ]
  },
  {
   "cell_type": "markdown",
   "metadata": {},
   "source": [
    "►**Overall summary**<br>\n",
    "→ ElasticNet regression performs poorly without hyperparameter tuning.<br>\n",
    "\n",
    "→ As alpha is tuned, ElasticNet performance improves greatly (similar to lasso). \n",
    "\n",
    "→ **Next step**: All the models perform well and show great performance with validation set. We can select either, but I will proceed with ridge regression as lasso is only eliminating 2 features."
   ]
  },
  {
   "cell_type": "code",
   "execution_count": 28,
   "metadata": {},
   "outputs": [],
   "source": [
    "# Save the model, for ridge alpha=1 performed well\n",
    "rg = Ridge(alpha=1)\n",
    "rg.fit(X_train, y_train)\n",
    "from sklearn.externals import joblib\n",
    "joblib.dump(rg, 'size_prediction_model.joblib');"
   ]
  },
  {
   "cell_type": "markdown",
   "metadata": {},
   "source": [
    "This is the end of the SolarPanel size prediction <br>\n",
    "→ Part_3 notebook will focus on predicting cost of the solar panels."
   ]
  }
 ],
 "metadata": {
  "hide_input": false,
  "kernelspec": {
   "display_name": "Python 3",
   "language": "python",
   "name": "python3"
  },
  "language_info": {
   "codemirror_mode": {
    "name": "ipython",
    "version": 3
   },
   "file_extension": ".py",
   "mimetype": "text/x-python",
   "name": "python",
   "nbconvert_exporter": "python",
   "pygments_lexer": "ipython3",
   "version": "3.6.4"
  },
  "varInspector": {
   "cols": {
    "lenName": 16,
    "lenType": 16,
    "lenVar": 40
   },
   "kernels_config": {
    "python": {
     "delete_cmd_postfix": "",
     "delete_cmd_prefix": "del ",
     "library": "var_list.py",
     "varRefreshCmd": "print(var_dic_list())"
    },
    "r": {
     "delete_cmd_postfix": ") ",
     "delete_cmd_prefix": "rm(",
     "library": "var_list.r",
     "varRefreshCmd": "cat(var_dic_list()) "
    }
   },
   "types_to_exclude": [
    "module",
    "function",
    "builtin_function_or_method",
    "instance",
    "_Feature"
   ],
   "window_display": false
  }
 },
 "nbformat": 4,
 "nbformat_minor": 2
}
