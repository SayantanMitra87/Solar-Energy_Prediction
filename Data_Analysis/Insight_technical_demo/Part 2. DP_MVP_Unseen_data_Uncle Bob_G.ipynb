{
 "cells": [
  {
   "cell_type": "markdown",
   "metadata": {},
   "source": [
    "## Executive summary:\n",
    "Overall, size and cost of solar panels for unseen data is predicted with R2~0.98, and R2~0.68 respectively (as expected from cv_scores and it's std. deviation from last notebook).\n",
    "\n",
    "→ Knowing that this model performs well, we prdict size and cost of solar panel of uncle_bob and 3 other popular characters who want to switch to solar energy from traditional energy (based on their energy consumption and other feature values)"
   ]
  },
  {
   "cell_type": "code",
   "execution_count": 1,
   "metadata": {},
   "outputs": [],
   "source": [
    "import numpy as np\n",
    "import pandas as pd\n",
    "from collections import Counter\n",
    "\n",
    "# VisualiZation\n",
    "import matplotlib.pyplot as plt\n",
    "%matplotlib inline\n",
    "import seaborn as sns\n",
    "sns.set_style(\"darkgrid\")\n",
    "\n",
    "# ignore warnings\n",
    "import warnings\n",
    "warnings.filterwarnings('ignore')"
   ]
  },
  {
   "cell_type": "markdown",
   "metadata": {},
   "source": [
    "### Goal 1: Predict size of solar panels of unseen data based on RIDGE regression model saved in notebook 1"
   ]
  },
  {
   "cell_type": "code",
   "execution_count": 2,
   "metadata": {},
   "outputs": [
    {
     "data": {
      "text/html": [
       "<div>\n",
       "<style scoped>\n",
       "    .dataframe tbody tr th:only-of-type {\n",
       "        vertical-align: middle;\n",
       "    }\n",
       "\n",
       "    .dataframe tbody tr th {\n",
       "        vertical-align: top;\n",
       "    }\n",
       "\n",
       "    .dataframe thead th {\n",
       "        text-align: right;\n",
       "    }\n",
       "</style>\n",
       "<table border=\"1\" class=\"dataframe\">\n",
       "  <thead>\n",
       "    <tr style=\"text-align: right;\">\n",
       "      <th></th>\n",
       "      <th>state</th>\n",
       "      <th>size_kw</th>\n",
       "      <th>zipcode</th>\n",
       "      <th>installer</th>\n",
       "      <th>city</th>\n",
       "      <th>tech_1</th>\n",
       "      <th>county</th>\n",
       "      <th>annual_PV_prod</th>\n",
       "      <th>cost</th>\n",
       "    </tr>\n",
       "  </thead>\n",
       "  <tbody>\n",
       "    <tr>\n",
       "      <th>0</th>\n",
       "      <td>CA</td>\n",
       "      <td>5.640000</td>\n",
       "      <td>92691</td>\n",
       "      <td>SolarCity</td>\n",
       "      <td>Mission Viejo</td>\n",
       "      <td>Poly</td>\n",
       "      <td>Orange</td>\n",
       "      <td>7786.386270</td>\n",
       "      <td>29384.4</td>\n",
       "    </tr>\n",
       "    <tr>\n",
       "      <th>1</th>\n",
       "      <td>CT</td>\n",
       "      <td>1.750000</td>\n",
       "      <td>6880</td>\n",
       "      <td>Encon</td>\n",
       "      <td>Westport</td>\n",
       "      <td>Mono</td>\n",
       "      <td>Fairfield</td>\n",
       "      <td>2292.929169</td>\n",
       "      <td>11200.0</td>\n",
       "    </tr>\n",
       "    <tr>\n",
       "      <th>2</th>\n",
       "      <td>CA</td>\n",
       "      <td>4.000000</td>\n",
       "      <td>95630</td>\n",
       "      <td>SolarCity</td>\n",
       "      <td>Folsom</td>\n",
       "      <td>Poly</td>\n",
       "      <td>Sacramento</td>\n",
       "      <td>5841.145508</td>\n",
       "      <td>19200.0</td>\n",
       "    </tr>\n",
       "    <tr>\n",
       "      <th>3</th>\n",
       "      <td>CA</td>\n",
       "      <td>5.830000</td>\n",
       "      <td>92675</td>\n",
       "      <td>SolarCity</td>\n",
       "      <td>SAN JUAN CAPO</td>\n",
       "      <td>Poly</td>\n",
       "      <td>Orange</td>\n",
       "      <td>8920.771084</td>\n",
       "      <td>29849.0</td>\n",
       "    </tr>\n",
       "    <tr>\n",
       "      <th>4</th>\n",
       "      <td>CA</td>\n",
       "      <td>8.582292</td>\n",
       "      <td>92392</td>\n",
       "      <td>Christianbelle Electric</td>\n",
       "      <td>VICTORVILLE</td>\n",
       "      <td>Mono</td>\n",
       "      <td>San Bernardino</td>\n",
       "      <td>15196.672860</td>\n",
       "      <td>38705.0</td>\n",
       "    </tr>\n",
       "  </tbody>\n",
       "</table>\n",
       "</div>"
      ],
      "text/plain": [
       "  state   size_kw  zipcode                installer           city tech_1  \\\n",
       "0    CA  5.640000    92691                SolarCity  Mission Viejo   Poly   \n",
       "1    CT  1.750000     6880                    Encon       Westport   Mono   \n",
       "2    CA  4.000000    95630                SolarCity         Folsom   Poly   \n",
       "3    CA  5.830000    92675                SolarCity  SAN JUAN CAPO   Poly   \n",
       "4    CA  8.582292    92392  Christianbelle Electric    VICTORVILLE   Mono   \n",
       "\n",
       "           county  annual_PV_prod     cost  \n",
       "0          Orange     7786.386270  29384.4  \n",
       "1       Fairfield     2292.929169  11200.0  \n",
       "2      Sacramento     5841.145508  19200.0  \n",
       "3          Orange     8920.771084  29849.0  \n",
       "4  San Bernardino    15196.672860  38705.0  "
      ]
     },
     "execution_count": 2,
     "metadata": {},
     "output_type": "execute_result"
    }
   ],
   "source": [
    "new_data = pd.read_csv('unseen_data.csv', usecols=['state', 'zipcode', 'installer', 'city', 'tech_1', \n",
    "                                               'county', 'annual_PV_prod', 'size_kw', 'cost'])\n",
    "new_data.head()"
   ]
  },
  {
   "cell_type": "markdown",
   "metadata": {},
   "source": [
    "### Data preparation"
   ]
  },
  {
   "cell_type": "code",
   "execution_count": 3,
   "metadata": {},
   "outputs": [],
   "source": [
    "# Reduce cardinality of new data based on train data\n",
    "solar_train = pd.read_csv('solar_train.csv', usecols=['state', 'zipcode', 'installer', 'city', 'zipcode_1',\n",
    "                                                'tech_1', 'county', 'annual_PV_prod', 'size_kw', 'cost'])\n",
    "# Extract 1st number of zipcode\n",
    "new_data['zipcode_1'] = new_data['zipcode'].astype('str').str[:1].astype(int)\n",
    "\n",
    "# Check cardinality\n",
    "def group_levels_in_categoricals(df, threshold=0.01, min_freq=0, max_freq=np.Inf):\n",
    "    df0 = df.describe(include=['O']).T\n",
    "    # reduced list is name of categorical columns\n",
    "    reduced_list = df0[(df0.unique < max_freq) & (df0.unique > min_freq)].reset_index()['index'].tolist()\n",
    "    \n",
    "    #patterns will contain list of all categories of all categorical column whose occurance is more than threshold\n",
    "    patterns = []\n",
    "    other = []\n",
    "    for col in reduced_list:\n",
    "        df_normalized = df[col].value_counts(normalize=True).reset_index()\n",
    "        df_normalized.columns = ['col_name', 'normalized_value']\n",
    "        filt = df_normalized['normalized_value'] > threshold\n",
    "        # norm_list contains all the categories in a categorical column whose occurance is more than threshold    \n",
    "        norm_list = df_normalized[filt]['col_name'].tolist()\n",
    "        pattern = norm_list\n",
    "        patterns.append(norm_list)\n",
    "        # selecting categories that are present less than threshold\n",
    "        others_list = df_normalized[~filt]['col_name'].tolist()\n",
    "        other.append(others_list)\n",
    "        \n",
    "        if pattern != []: \n",
    "            df[col] = df[col].replace({x:'Other' for x in others_list})\n",
    "        else:\n",
    "            df.drop(col, inplace=True, axis=1)\n",
    "    return (df, patterns, reduced_list, other)\n",
    "df, patterns, reduced_list, other = group_levels_in_categoricals(solar_train)\n",
    "\n",
    "# We have to keep this consistent with test data as well\n",
    "def group_levels_in_categoricals_test(reduced_list, other, patterns, df_test):   \n",
    "    for idx, col in enumerate(reduced_list):       \n",
    "        if other[idx] != []:\n",
    "            filt = df_test[col].isin(patterns[idx])\n",
    "            df_test[col][~filt]='Others'\n",
    "        else:\n",
    "            df_test.drop(col, inplace=True, axis=1)       \n",
    "    return df_test\n",
    "new_data = group_levels_in_categoricals_test(reduced_list, other, patterns, new_data)"
   ]
  },
  {
   "cell_type": "code",
   "execution_count": 4,
   "metadata": {},
   "outputs": [],
   "source": [
    "# Feature engineering like train set in Notebook 1\n",
    "solar_train['size_kw_L'] = np.log1p(solar_train['size_kw'])\n",
    "new_data['size_kw_L'] = np.log1p(new_data['size_kw'])\n",
    "solar_train['cost_L'] = np.log1p(solar_train['cost'])\n",
    "new_data['cost_L'] = np.log1p(new_data['cost'])\n",
    "\n",
    "solar_train['annual_PV_prod_L'] = np.log1p(solar_train['annual_PV_prod'])\n",
    "new_data['annual_PV_prod_L'] = np.log1p(new_data['annual_PV_prod'])\n",
    "\n",
    "solar_train['annual_PV_prod_L-s2'] = solar_train['annual_PV_prod_L']** 2\n",
    "new_data['annual_PV_prod_L-s2'] = new_data['annual_PV_prod_L']** 2\n",
    "\n",
    "solar_train['zipcode_1'] = solar_train['zipcode_1'].apply(str)\n",
    "new_data['zipcode_1'] = new_data['zipcode_1'].apply(str)\n",
    "\n",
    "# Categorical encoding\n",
    "solar_train1 = pd.get_dummies(solar_train)\n",
    "new_data1 = pd.get_dummies(new_data)\n",
    "\n",
    "# Dependent variable\n",
    "new_data_real_size = new_data['size_kw']\n",
    "y = new_data[['size_kw_L']]\n",
    "y1 = new_data['size_kw_L']\n",
    "\n",
    "# Independent variables\n",
    "solar_train1 = solar_train1.drop(columns=['size_kw', 'size_kw_L', 'cost', 'cost_L', 'zipcode', 'annual_PV_prod', 'annual_PV_prod_L'])                         \n",
    "new_data1 = new_data1.drop(columns=['size_kw', 'size_kw_L', 'cost', 'cost_L','zipcode', 'annual_PV_prod', 'annual_PV_prod_L']) \n",
    "\n",
    "from sklearn.preprocessing import StandardScaler\n",
    "sc = StandardScaler()\n",
    "solar_train_stndz1 = sc.fit_transform(solar_train1)\n",
    "new_data_stndz1 = sc.transform(new_data1)"
   ]
  },
  {
   "cell_type": "markdown",
   "metadata": {},
   "source": [
    "### Testing the ridge model on unseen data"
   ]
  },
  {
   "cell_type": "code",
   "execution_count": 5,
   "metadata": {},
   "outputs": [
    {
     "name": "stdout",
     "output_type": "stream",
     "text": [
      "Saved ridge_model_r2 with new_data: 0.9852\n"
     ]
    }
   ],
   "source": [
    "from sklearn.externals import joblib\n",
    "rg1 =joblib.load('size_prediction_model.joblib')\n",
    "print(f'Saved ridge_model_r2 with new_data: {rg1.score(new_data_stndz1, y).round(4)}')"
   ]
  },
  {
   "cell_type": "markdown",
   "metadata": {},
   "source": [
    "**Plotting predicted and actual size of solar panels**"
   ]
  },
  {
   "cell_type": "code",
   "execution_count": 6,
   "metadata": {},
   "outputs": [
    {
     "data": {
      "image/png": "[encoded data removed]",
      "text/plain": [
       "<Figure size 1152x360 with 1 Axes>"
      ]
     },
     "metadata": {
      "needs_background": "light"
     },
     "output_type": "display_data"
    }
   ],
   "source": [
    "# Relationship between actual solar panel and predicted solar panel size (transformed)\n",
    "fig, axes = plt.subplots(1,1, figsize = (16,5))\n",
    "y_pred_actual = np.exp(rg1.predict(new_data_stndz1))\n",
    "size_pred = pd.DataFrame({'real_size':new_data_real_size, 'predicted_size':y_pred_actual})\n",
    "size_pred.sample(n=50).plot(kind='bar', ax=axes)\n",
    "axes.set_title('Relationship between actual and predicted solar panel size')\n",
    "axes.set_xticklabels('');"
   ]
  },
  {
   "cell_type": "markdown",
   "metadata": {},
   "source": [
    "■ Prediction on real size of solar panels of unseen data is pretty accurate."
   ]
  },
  {
   "cell_type": "markdown",
   "metadata": {},
   "source": [
    "### Goal 2: Predict cost of solar panels of unseen data based on ML pipeline saved in notebook 1"
   ]
  },
  {
   "cell_type": "code",
   "execution_count": 7,
   "metadata": {},
   "outputs": [],
   "source": [
    "# Dependent variable\n",
    "new_data_real_cost = new_data['cost']\n",
    "y = new_data[['cost_L']]\n",
    "y1 = new_data['cost_L']\n",
    "\n",
    "# Independent variables\n",
    "solar_train2 = solar_train.drop(columns=['size_kw_L', 'cost', 'cost_L', 'zipcode', 'annual_PV_prod_L-s2', 'annual_PV_prod'])                         \n",
    "new_data2 = new_data.drop(columns=['size_kw_L', 'cost', 'cost_L','zipcode', 'annual_PV_prod_L-s2', 'annual_PV_prod']) "
   ]
  },
  {
   "cell_type": "markdown",
   "metadata": {},
   "source": [
    "### Testing the ridge model (ML pipeline) on unseen data"
   ]
  },
  {
   "cell_type": "code",
   "execution_count": 8,
   "metadata": {},
   "outputs": [
    {
     "name": "stdout",
     "output_type": "stream",
     "text": [
      "Saved ridge_model_r2 with new_data: 0.6814\n"
     ]
    }
   ],
   "source": [
    "from sklearn.externals import joblib\n",
    "rg2 =joblib.load('cost_prediction_pipeline.joblib')\n",
    "print(f'Saved ridge_model_r2 with new_data: {rg2.score(new_data2, y1).round(4)}')"
   ]
  },
  {
   "cell_type": "markdown",
   "metadata": {},
   "source": [
    "**Plotting predicted and actual cost of the solar panels**"
   ]
  },
  {
   "cell_type": "code",
   "execution_count": 9,
   "metadata": {},
   "outputs": [
    {
     "data": {
      "image/png": "[encoded data removed]",
      "text/plain": [
       "<Figure size 1152x360 with 1 Axes>"
      ]
     },
     "metadata": {
      "needs_background": "light"
     },
     "output_type": "display_data"
    }
   ],
   "source": [
    "# Relationship between actual solar panel and predicted solar panel cost (transformed)\n",
    "fig, axes = plt.subplots(1,1, figsize = (16,5))\n",
    "y_pred_actual = np.exp(rg2.predict(new_data))\n",
    "size_pred = pd.DataFrame({'real_cost':new_data_real_cost, 'predicted_cost':y_pred_actual})\n",
    "size_pred.sample(n=50).plot(kind='bar', ax=axes)\n",
    "axes.set_title('Relationship between actual and predicted solar panel cost')\n",
    "axes.set_xticklabels('');"
   ]
  },
  {
   "cell_type": "markdown",
   "metadata": {},
   "source": [
    "### Goal 3.A: Predicting size & cost of solar panels for Uncle_bob based on energy consumption & rest details\n",
    "\n",
    "After getting electric bill for summer, Uncle Bob decides to opt for solar energy. He checks his power consumption and provides his details:\n",
    "state= California (CA), installer=SolarCity, city=Los Angeles, tech_1=Poly, county=Los Angeles, annual power consumption=2700, zipcode=93444\n",
    "\n",
    "**Can we find out what size of solar panels he need based on energy consumption and other details and what might be solar panel cost?**\n",
    "\n",
    "**GOALS** <br>\n",
    "**→ Predicting size of the solar panel uncle Bob need to install !** <br>\n",
    "**→ Predicting cost of the solar panel uncle Bob need to install !** <br>\n",
    "**→ Finding break even point for uncle bob to recover his investments!** <br>"
   ]
  },
  {
   "cell_type": "code",
   "execution_count": 10,
   "metadata": {},
   "outputs": [],
   "source": [
    "# Widget and user information\n",
    "def make_df(state, city, county, zipcode, installer, tech_1, annual_PV_prod): \n",
    "    df = pd.DataFrame([state, city, county, zipcode, installer, tech_1, annual_PV_prod]).T\n",
    "    df.columns = ['state', 'city', 'county', 'zipcode', 'installer', 'tech_1', 'annual_PV_prod']    \n",
    "    return df\n",
    "\n",
    "from ipywidgets import interact, interactive, IntSlider, Layout, interact_manual\n",
    "from IPython.display import display\n",
    "from termcolor import colored\n",
    "p1 = interactive(make_df, state = [x for x in new_data['state'].unique()],\n",
    "                 city = [x for x in new_data['city'].unique()],\n",
    "                 county = [x for x in new_data['county'].unique()],\n",
    "                 zipcode = [x for x in new_data['zipcode'].unique()],\n",
    "                 installer = [x for x in new_data['installer'].unique()],\n",
    "                 tech_1 = [x for x in new_data['tech_1'].unique()], \n",
    "                 annual_PV_prod = (100.0,65000.0,0.01))\n",
    "\n",
    "def display_options(p1):\n",
    "    print('■'*42, '\\033[1m' + colored('User choice', 'red'), '■'*42,'\\n')\n",
    "    print('\\033[1m' + colored('Fill fill up the following boxes:', 'blue'))\n",
    "    print('■ Please select your State | City | County | Zipcode | Installer | Tech_1 | Annual energy consumption \\n')\n",
    "    print('More information on Installer and Tech_1: \\n')\n",
    "    print('→ Please select the installer: Installing company for solar panels. In case you are not aware of any, please select others\\n')\n",
    "    print('→ Please select tech_1 based on your knowledge or following description: Quality of solar panels')\n",
    "    print('     ■ MONO: Most energy efficient, space-efficient and durable but most expensive solar panels')\n",
    "    print('     ■ POLY: Less energy efficient, less space-efficient but relatively cheaper than POLY solar panels')\n",
    "    print('     ■ CRYSTALLINE: Looks attractive, good option when space is not an issue, moderate efficiency and price \\n')    \n",
    "    return display(p1)"
   ]
  },
  {
   "cell_type": "code",
   "execution_count": 11,
   "metadata": {},
   "outputs": [
    {
     "name": "stdout",
     "output_type": "stream",
     "text": [
      "■■■■■■■■■■■■■■■■■■■■■■■■■■■■■■■■■■■■■■■■■■ \u001b[1m\u001b[31mUser choice\u001b[0m ■■■■■■■■■■■■■■■■■■■■■■■■■■■■■■■■■■■■■■■■■■ \n",
      "\n",
      "\u001b[1m\u001b[34mFill fill up the following boxes:\u001b[0m\n",
      "■ Please select your State | City | County | Zipcode | Installer | Tech_1 | Annual energy consumption \n",
      "\n",
      "More information on Installer and Tech_1: \n",
      "\n",
      "→ Please select the installer: Installing company for solar panels. In case you are not aware of any, please select others\n",
      "\n",
      "→ Please select tech_1 based on your knowledge or following description: Quality of solar panels\n",
      "     ■ MONO: Most energy efficient, space-efficient and durable but most expensive solar panels\n",
      "     ■ POLY: Less energy efficient, less space-efficient but relatively cheaper than POLY solar panels\n",
      "     ■ CRYSTALLINE: Looks attractive, good option when space is not an issue, moderate efficiency and price \n",
      "\n"
     ]
    },
    {
     "data": {
      "application/vnd.jupyter.widget-view+json": {
       "model_id": "45dbd567b86743bf83304ee4ab0eda93",
       "version_major": 2,
       "version_minor": 0
      },
      "text/plain": [
       "interactive(children=(Dropdown(description='state', options=('CA', 'CT', 'MA', 'MD', 'PA', 'NY', 'AZ', 'NJ', '…"
      ]
     },
     "metadata": {},
     "output_type": "display_data"
    }
   ],
   "source": [
    "display_options(p1)\n",
    "\n",
    "def solarpanel_size_cost_breakeven(name, inputs):\n",
    "    uncle_bob = inputs.result\n",
    "    cols = ['zipcode', 'annual_PV_prod']\n",
    "    uncle_bob[cols] = uncle_bob[cols].apply(pd.to_numeric)\n",
    "    \n",
    "    # Extract 1st number of zipciode\n",
    "    uncle_bob['zipcode_1'] = uncle_bob['zipcode'].astype('str').str[:1].astype(int)  \n",
    "    new_data_ub = pd.read_csv('unseen_data.csv', usecols=['state','zipcode','installer', 'city', 'tech_1', \n",
    "                                                'county', 'annual_PV_prod', 'zipcode_1', 'size_kw', 'cost'])\n",
    "    uncle_bob_test = new_data_ub.append(uncle_bob, ignore_index=True)\n",
    "    solar_train_1 = pd.read_csv('solar_train.csv', usecols=['state','zipcode','installer', 'city', 'tech_1', \n",
    "                                                'county', 'annual_PV_prod', 'zipcode_1', 'size_kw', 'cost'])\n",
    "    # Align columns\n",
    "    uncle_bob_test = uncle_bob_test[solar_train_1.columns]\n",
    "    # Cardinality\n",
    "    df, patterns, reduced_list, other = group_levels_in_categoricals(solar_train_1)\n",
    "    uncle_bob_test  = group_levels_in_categoricals_test(reduced_list, other, patterns, uncle_bob_test)\n",
    "    # Feature engineering\n",
    "    solar_train_1['size_kw_L'] = np.log1p(solar_train_1['size_kw'])\n",
    "    uncle_bob_test['size_kw_L'] = np.log1p(uncle_bob_test['size_kw'])\n",
    "    solar_train_1['annual_PV_prod_L'] = np.log1p(solar_train_1['annual_PV_prod'])\n",
    "    uncle_bob_test['annual_PV_prod_L'] = np.log1p(uncle_bob_test['annual_PV_prod'])\n",
    "    solar_train_1['annual_PV_prod_L-s2'] = solar_train_1['annual_PV_prod_L']** 2\n",
    "    uncle_bob_test['annual_PV_prod_L-s2'] = uncle_bob_test['annual_PV_prod_L']** 2\n",
    "    solar_train_1['zipcode_1'] = solar_train_1['zipcode_1'].apply(str)\n",
    "    uncle_bob_test['zipcode_1'] = uncle_bob_test['zipcode_1'].apply(str)\n",
    "    # Categorical encoding\n",
    "    solar_train_2 = pd.get_dummies(solar_train_1)\n",
    "    uncle_bob_test1 = pd.get_dummies(uncle_bob_test)\n",
    "\n",
    "    # actual size of solar panels\n",
    "    y = uncle_bob_test1['size_kw']\n",
    "    y_new_data = y[:-1]\n",
    "    # Drop columns\n",
    "    uncle_bob_test1 = uncle_bob_test1.drop(columns=[ 'size_kw', 'size_kw_L', 'cost', 'zipcode', 'annual_PV_prod', 'annual_PV_prod_L']) \n",
    "    solar_train_2 = solar_train_2.drop(columns=[ 'size_kw', 'size_kw_L', 'zipcode',  'cost', 'annual_PV_prod', 'annual_PV_prod_L']) \n",
    "    # Scale data\n",
    "    from sklearn.preprocessing import StandardScaler\n",
    "    sc = StandardScaler()\n",
    "    solar_train_stndz_1 = sc.fit_transform(solar_train_2)\n",
    "    uncle_bob_stndz = sc.transform(uncle_bob_test1)\n",
    "    \n",
    "    # Finding solar panel size\n",
    "    uncle_bob_pred = np.exp(rg1.predict(uncle_bob_stndz))\n",
    "    size_array = pd.DataFrame(uncle_bob_pred)\n",
    "    df = pd.concat([uncle_bob_test, size_array], axis=1)\n",
    "    df.rename(columns={0: 'predicted_size'}, inplace=True)\n",
    "    \n",
    "    # Cost of solar panels\n",
    "    solar_train_1['cost_L'] = np.log1p(solar_train_1['cost'])\n",
    "    uncle_bob_test['cost_L'] = np.log1p(uncle_bob_test['cost'])\n",
    "    # Update solar panel size to predict cost\n",
    "    uncle_bob_test['size_kw'] = df.iloc[-1,-1]\n",
    "    # Drop columns\n",
    "    uncle_bob_test2 = uncle_bob_test.drop(columns=[ 'size_kw_L', 'cost',  'cost_L', 'zipcode', 'annual_PV_prod', 'annual_PV_prod_L-s2']) \n",
    "    solar_train_3 = solar_train_1.drop(columns=[ 'size_kw_L', 'zipcode',  'cost', 'cost_L', 'annual_PV_prod', 'annual_PV_prod_L-s2'])\n",
    "    # Predicitng cost\n",
    "    uncle_bob_pred = np.exp(rg2.predict(uncle_bob_test2))\n",
    "    size_array = pd.DataFrame(uncle_bob_pred)\n",
    "    df = pd.concat([uncle_bob_test, size_array], axis=1)\n",
    "    df['annual_PV_prod']  = np.exp(df['annual_PV_prod_L'])\n",
    "    df.rename(columns={0: 'predicted_cost'}, inplace=True)\n",
    "    \n",
    "    # Break-even of the investment\n",
    "    # Average cost of electricity is 20cents/kwh\n",
    "    uncle_bob_traditional_cost = (6262.51*20)/100\n",
    "    break_even = df.iloc[-1,-1] / uncle_bob_traditional_cost\n",
    "    \n",
    "    # Display\n",
    "    print(f'====================== Thanks for opting solar energy dear {name} ====================')\n",
    "    print('\\n')\n",
    "    print(f'■ {name} needs solar panel of size {df.iloc[-1,1].round(2)}kw to replace total annual traditional energy consumption of {df.iloc[-1,7].round(2)}kwh')\n",
    "    print('\\n')\n",
    "    print(f'■ {name} needs to invest ${df.iloc[-1,-1].round(2)} to install solar panels of size {df.iloc[-1,1].round(2)}kw')\n",
    "    print('\\n')\n",
    "    print(f'■ {name} needs {break_even.round(0)} years to break even for his investment to switch from traditional to solar energy.')\n",
    "    df.index = [name]* len(df)\n",
    "    return df.iloc[[-1],[7,1,-1]]"
   ]
  },
  {
   "cell_type": "code",
   "execution_count": 12,
   "metadata": {},
   "outputs": [
    {
     "data": {
      "image/png": "[encoded data removed]",
      "text/plain": [
       "<IPython.core.display.Image object>"
      ]
     },
     "metadata": {},
     "output_type": "display_data"
    }
   ],
   "source": [
    "from IPython.display import Image, display\n",
    "display(Image(filename='uncle_bob.png', embed=True))"
   ]
  },
  {
   "cell_type": "code",
   "execution_count": 13,
   "metadata": {},
   "outputs": [
    {
     "name": "stdout",
     "output_type": "stream",
     "text": [
      "====================== Thanks for opting solar energy dear Uncle bob ====================\n",
      "\n",
      "\n",
      "■ Uncle bob needs solar panel of size 2.77kw to replace total annual traditional energy consumption of 2701.0kwh\n",
      "\n",
      "\n",
      "■ Uncle bob needs to invest $13325.18 to install solar panels of size 2.77kw\n",
      "\n",
      "\n",
      "■ Uncle bob needs 11.0 years to break even for his investment to switch from traditional to solar energy.\n"
     ]
    },
    {
     "data": {
      "text/html": [
       "<div>\n",
       "<style scoped>\n",
       "    .dataframe tbody tr th:only-of-type {\n",
       "        vertical-align: middle;\n",
       "    }\n",
       "\n",
       "    .dataframe tbody tr th {\n",
       "        vertical-align: top;\n",
       "    }\n",
       "\n",
       "    .dataframe thead th {\n",
       "        text-align: right;\n",
       "    }\n",
       "</style>\n",
       "<table border=\"1\" class=\"dataframe\">\n",
       "  <thead>\n",
       "    <tr style=\"text-align: right;\">\n",
       "      <th></th>\n",
       "      <th>annual_PV_prod</th>\n",
       "      <th>size_kw</th>\n",
       "      <th>predicted_cost</th>\n",
       "    </tr>\n",
       "  </thead>\n",
       "  <tbody>\n",
       "    <tr>\n",
       "      <th>Uncle bob</th>\n",
       "      <td>2701.0</td>\n",
       "      <td>2.773689</td>\n",
       "      <td>13325.18443</td>\n",
       "    </tr>\n",
       "  </tbody>\n",
       "</table>\n",
       "</div>"
      ],
      "text/plain": [
       "           annual_PV_prod   size_kw  predicted_cost\n",
       "Uncle bob          2701.0  2.773689     13325.18443"
      ]
     },
     "execution_count": 13,
     "metadata": {},
     "output_type": "execute_result"
    }
   ],
   "source": [
    "Uncle_bob = solarpanel_size_cost_breakeven('Uncle bob', p1)\n",
    "Uncle_bob"
   ]
  },
  {
   "cell_type": "markdown",
   "metadata": {},
   "source": [
    "### Goal 3.B: Predicting size & cost of solar panels of Transformer-BumbleBee's house"
   ]
  },
  {
   "cell_type": "code",
   "execution_count": 14,
   "metadata": {},
   "outputs": [
    {
     "name": "stdout",
     "output_type": "stream",
     "text": [
      "■■■■■■■■■■■■■■■■■■■■■■■■■■■■■■■■■■■■■■■■■■ \u001b[1m\u001b[31mUser choice\u001b[0m ■■■■■■■■■■■■■■■■■■■■■■■■■■■■■■■■■■■■■■■■■■ \n",
      "\n",
      "\u001b[1m\u001b[34mFill fill up the following boxes:\u001b[0m\n",
      "■ Please select your State | City | County | Zipcode | Installer | Tech_1 | Annual energy consumption \n",
      "\n",
      "More information on Installer and Tech_1: \n",
      "\n",
      "→ Please select the installer: Installing company for solar panels. In case you are not aware of any, please select others\n",
      "\n",
      "→ Please select tech_1 based on your knowledge or following description: Quality of solar panels\n",
      "     ■ MONO: Most energy efficient, space-efficient and durable but most expensive solar panels\n",
      "     ■ POLY: Less energy efficient, less space-efficient but relatively cheaper than POLY solar panels\n",
      "     ■ CRYSTALLINE: Looks attractive, good option when space is not an issue, moderate efficiency and price \n",
      "\n"
     ]
    },
    {
     "data": {
      "application/vnd.jupyter.widget-view+json": {
       "model_id": "cf28ad1b1928432c99131952c67b887d",
       "version_major": 2,
       "version_minor": 0
      },
      "text/plain": [
       "interactive(children=(Dropdown(description='state', options=('CA', 'CT', 'MA', 'MD', 'PA', 'NY', 'AZ', 'NJ', '…"
      ]
     },
     "metadata": {},
     "output_type": "display_data"
    }
   ],
   "source": [
    "p2 = interactive(make_df, state = [x for x in new_data['state'].unique()],\n",
    "                 city = [x for x in new_data['city'].unique()],\n",
    "                 county = [x for x in new_data['county'].unique()],\n",
    "                 zipcode = [x for x in new_data['zipcode'].unique()],\n",
    "                 installer = [x for x in new_data['installer'].unique()],\n",
    "                 tech_1 = [x for x in new_data['tech_1'].unique()], \n",
    "                 annual_PV_prod = (100.0,65000.0,0.01))\n",
    "display_options(p2)"
   ]
  },
  {
   "cell_type": "code",
   "execution_count": 15,
   "metadata": {},
   "outputs": [
    {
     "data": {
      "image/png": "[encoded data removed]",
      "text/plain": [
       "<IPython.core.display.Image object>"
      ]
     },
     "metadata": {},
     "output_type": "display_data"
    }
   ],
   "source": [
    "display(Image(filename='bumble_bee.png', embed=True))"
   ]
  },
  {
   "cell_type": "code",
   "execution_count": 16,
   "metadata": {},
   "outputs": [
    {
     "name": "stdout",
     "output_type": "stream",
     "text": [
      "====================== Thanks for opting solar energy dear Transformer-BumbleBee ====================\n",
      "\n",
      "\n",
      "■ Transformer-BumbleBee needs solar panel of size 5.77kw to replace total annual traditional energy consumption of 8501.5kwh\n",
      "\n",
      "\n",
      "■ Transformer-BumbleBee needs to invest $19325.42 to install solar panels of size 5.77kw\n",
      "\n",
      "\n",
      "■ Transformer-BumbleBee needs 15.0 years to break even for his investment to switch from traditional to solar energy.\n"
     ]
    },
    {
     "data": {
      "text/html": [
       "<div>\n",
       "<style scoped>\n",
       "    .dataframe tbody tr th:only-of-type {\n",
       "        vertical-align: middle;\n",
       "    }\n",
       "\n",
       "    .dataframe tbody tr th {\n",
       "        vertical-align: top;\n",
       "    }\n",
       "\n",
       "    .dataframe thead th {\n",
       "        text-align: right;\n",
       "    }\n",
       "</style>\n",
       "<table border=\"1\" class=\"dataframe\">\n",
       "  <thead>\n",
       "    <tr style=\"text-align: right;\">\n",
       "      <th></th>\n",
       "      <th>annual_PV_prod</th>\n",
       "      <th>size_kw</th>\n",
       "      <th>predicted_cost</th>\n",
       "    </tr>\n",
       "  </thead>\n",
       "  <tbody>\n",
       "    <tr>\n",
       "      <th>Transformer-BumbleBee</th>\n",
       "      <td>8501.5</td>\n",
       "      <td>5.769521</td>\n",
       "      <td>19325.422446</td>\n",
       "    </tr>\n",
       "  </tbody>\n",
       "</table>\n",
       "</div>"
      ],
      "text/plain": [
       "                       annual_PV_prod   size_kw  predicted_cost\n",
       "Transformer-BumbleBee          8501.5  5.769521    19325.422446"
      ]
     },
     "execution_count": 16,
     "metadata": {},
     "output_type": "execute_result"
    }
   ],
   "source": [
    "Transformer_BumbleBee = solarpanel_size_cost_breakeven('Transformer-BumbleBee', p2)\n",
    "Transformer_BumbleBee"
   ]
  },
  {
   "cell_type": "markdown",
   "metadata": {},
   "source": [
    "### Goal 3.C: Predicting size & cost of solar panels of Captain America's house"
   ]
  },
  {
   "cell_type": "code",
   "execution_count": 17,
   "metadata": {},
   "outputs": [
    {
     "name": "stdout",
     "output_type": "stream",
     "text": [
      "■■■■■■■■■■■■■■■■■■■■■■■■■■■■■■■■■■■■■■■■■■ \u001b[1m\u001b[31mUser choice\u001b[0m ■■■■■■■■■■■■■■■■■■■■■■■■■■■■■■■■■■■■■■■■■■ \n",
      "\n",
      "\u001b[1m\u001b[34mFill fill up the following boxes:\u001b[0m\n",
      "■ Please select your State | City | County | Zipcode | Installer | Tech_1 | Annual energy consumption \n",
      "\n",
      "More information on Installer and Tech_1: \n",
      "\n",
      "→ Please select the installer: Installing company for solar panels. In case you are not aware of any, please select others\n",
      "\n",
      "→ Please select tech_1 based on your knowledge or following description: Quality of solar panels\n",
      "     ■ MONO: Most energy efficient, space-efficient and durable but most expensive solar panels\n",
      "     ■ POLY: Less energy efficient, less space-efficient but relatively cheaper than POLY solar panels\n",
      "     ■ CRYSTALLINE: Looks attractive, good option when space is not an issue, moderate efficiency and price \n",
      "\n"
     ]
    },
    {
     "data": {
      "application/vnd.jupyter.widget-view+json": {
       "model_id": "939ef4e07f824799b7714736e11ff619",
       "version_major": 2,
       "version_minor": 0
      },
      "text/plain": [
       "interactive(children=(Dropdown(description='state', options=('CA', 'CT', 'MA', 'MD', 'PA', 'NY', 'AZ', 'NJ', '…"
      ]
     },
     "metadata": {},
     "output_type": "display_data"
    }
   ],
   "source": [
    "p3 = interactive(make_df, state = [x for x in new_data['state'].unique()],\n",
    "                 city = [x for x in new_data['city'].unique()],\n",
    "                 county = [x for x in new_data['county'].unique()],\n",
    "                 zipcode = [x for x in new_data['zipcode'].unique()],\n",
    "                 installer = [x for x in new_data['installer'].unique()],\n",
    "                 tech_1 = [x for x in new_data['tech_1'].unique()], \n",
    "                 annual_PV_prod = (100.0,65000.0,0.01))\n",
    "display_options(p3)"
   ]
  },
  {
   "cell_type": "code",
   "execution_count": 18,
   "metadata": {},
   "outputs": [
    {
     "data": {
      "image/png": "[encoded data removed]",
      "text/plain": [
       "<IPython.core.display.Image object>"
      ]
     },
     "metadata": {},
     "output_type": "display_data"
    }
   ],
   "source": [
    "display(Image(filename='Cap_America.png', embed=True))"
   ]
  },
  {
   "cell_type": "code",
   "execution_count": 19,
   "metadata": {},
   "outputs": [
    {
     "name": "stdout",
     "output_type": "stream",
     "text": [
      "====================== Thanks for opting solar energy dear Captain America ====================\n",
      "\n",
      "\n",
      "■ Captain America needs solar panel of size 2.22kw to replace total annual traditional energy consumption of 2001.0kwh\n",
      "\n",
      "\n",
      "■ Captain America needs to invest $10990.91 to install solar panels of size 2.22kw\n",
      "\n",
      "\n",
      "■ Captain America needs 9.0 years to break even for his investment to switch from traditional to solar energy.\n"
     ]
    },
    {
     "data": {
      "text/html": [
       "<div>\n",
       "<style scoped>\n",
       "    .dataframe tbody tr th:only-of-type {\n",
       "        vertical-align: middle;\n",
       "    }\n",
       "\n",
       "    .dataframe tbody tr th {\n",
       "        vertical-align: top;\n",
       "    }\n",
       "\n",
       "    .dataframe thead th {\n",
       "        text-align: right;\n",
       "    }\n",
       "</style>\n",
       "<table border=\"1\" class=\"dataframe\">\n",
       "  <thead>\n",
       "    <tr style=\"text-align: right;\">\n",
       "      <th></th>\n",
       "      <th>annual_PV_prod</th>\n",
       "      <th>size_kw</th>\n",
       "      <th>predicted_cost</th>\n",
       "    </tr>\n",
       "  </thead>\n",
       "  <tbody>\n",
       "    <tr>\n",
       "      <th>Captain America</th>\n",
       "      <td>2001.0</td>\n",
       "      <td>2.21597</td>\n",
       "      <td>10990.91235</td>\n",
       "    </tr>\n",
       "  </tbody>\n",
       "</table>\n",
       "</div>"
      ],
      "text/plain": [
       "                 annual_PV_prod  size_kw  predicted_cost\n",
       "Captain America          2001.0  2.21597     10990.91235"
      ]
     },
     "execution_count": 19,
     "metadata": {},
     "output_type": "execute_result"
    }
   ],
   "source": [
    "Captain_America = solarpanel_size_cost_breakeven('Captain America', p3)\n",
    "Captain_America"
   ]
  },
  {
   "cell_type": "markdown",
   "metadata": {},
   "source": [
    "### Goal 3.D: Predicting size & cost of solar panels of Thanos's house"
   ]
  },
  {
   "cell_type": "code",
   "execution_count": 20,
   "metadata": {},
   "outputs": [
    {
     "name": "stdout",
     "output_type": "stream",
     "text": [
      "■■■■■■■■■■■■■■■■■■■■■■■■■■■■■■■■■■■■■■■■■■ \u001b[1m\u001b[31mUser choice\u001b[0m ■■■■■■■■■■■■■■■■■■■■■■■■■■■■■■■■■■■■■■■■■■ \n",
      "\n",
      "\u001b[1m\u001b[34mFill fill up the following boxes:\u001b[0m\n",
      "■ Please select your State | City | County | Zipcode | Installer | Tech_1 | Annual energy consumption \n",
      "\n",
      "More information on Installer and Tech_1: \n",
      "\n",
      "→ Please select the installer: Installing company for solar panels. In case you are not aware of any, please select others\n",
      "\n",
      "→ Please select tech_1 based on your knowledge or following description: Quality of solar panels\n",
      "     ■ MONO: Most energy efficient, space-efficient and durable but most expensive solar panels\n",
      "     ■ POLY: Less energy efficient, less space-efficient but relatively cheaper than POLY solar panels\n",
      "     ■ CRYSTALLINE: Looks attractive, good option when space is not an issue, moderate efficiency and price \n",
      "\n"
     ]
    },
    {
     "data": {
      "application/vnd.jupyter.widget-view+json": {
       "model_id": "435e0814680745b6a8a763083f933e20",
       "version_major": 2,
       "version_minor": 0
      },
      "text/plain": [
       "interactive(children=(Dropdown(description='state', options=('CA', 'CT', 'MA', 'MD', 'PA', 'NY', 'AZ', 'NJ', '…"
      ]
     },
     "metadata": {},
     "output_type": "display_data"
    }
   ],
   "source": [
    "p4 = interactive(make_df, state = [x for x in new_data['state'].unique()],\n",
    "                 city = [x for x in new_data['city'].unique()],\n",
    "                 county = [x for x in new_data['county'].unique()],\n",
    "                 zipcode = [x for x in new_data['zipcode'].unique()],\n",
    "                 installer = [x for x in new_data['installer'].unique()],\n",
    "                 tech_1 = [x for x in new_data['tech_1'].unique()], \n",
    "                 annual_PV_prod = (100.0,65000.0,0.01))\n",
    "display_options(p4)"
   ]
  },
  {
   "cell_type": "markdown",
   "metadata": {},
   "source": [
    "**Thanos being the villain he is, uses a lot of energy**"
   ]
  },
  {
   "cell_type": "code",
   "execution_count": 21,
   "metadata": {},
   "outputs": [
    {
     "data": {
      "image/png": "[encoded data removed]",
      "text/plain": [
       "<IPython.core.display.Image object>"
      ]
     },
     "metadata": {},
     "output_type": "display_data"
    }
   ],
   "source": [
    "display(Image(filename='Thanos.png', embed=True))"
   ]
  },
  {
   "cell_type": "code",
   "execution_count": 22,
   "metadata": {},
   "outputs": [
    {
     "name": "stdout",
     "output_type": "stream",
     "text": [
      "====================== Thanks for opting solar energy dear Thanos ====================\n",
      "\n",
      "\n",
      "■ Thanos needs solar panel of size 11.52kw to replace total annual traditional energy consumption of 18264.61kwh\n",
      "\n",
      "\n",
      "■ Thanos needs to invest $26385.98 to install solar panels of size 11.52kw\n",
      "\n",
      "\n",
      "■ Thanos needs 21.0 years to break even for his investment to switch from traditional to solar energy.\n"
     ]
    },
    {
     "data": {
      "text/html": [
       "<div>\n",
       "<style scoped>\n",
       "    .dataframe tbody tr th:only-of-type {\n",
       "        vertical-align: middle;\n",
       "    }\n",
       "\n",
       "    .dataframe tbody tr th {\n",
       "        vertical-align: top;\n",
       "    }\n",
       "\n",
       "    .dataframe thead th {\n",
       "        text-align: right;\n",
       "    }\n",
       "</style>\n",
       "<table border=\"1\" class=\"dataframe\">\n",
       "  <thead>\n",
       "    <tr style=\"text-align: right;\">\n",
       "      <th></th>\n",
       "      <th>annual_PV_prod</th>\n",
       "      <th>size_kw</th>\n",
       "      <th>predicted_cost</th>\n",
       "    </tr>\n",
       "  </thead>\n",
       "  <tbody>\n",
       "    <tr>\n",
       "      <th>Thanos</th>\n",
       "      <td>18264.61</td>\n",
       "      <td>11.522657</td>\n",
       "      <td>26385.980537</td>\n",
       "    </tr>\n",
       "  </tbody>\n",
       "</table>\n",
       "</div>"
      ],
      "text/plain": [
       "        annual_PV_prod    size_kw  predicted_cost\n",
       "Thanos        18264.61  11.522657    26385.980537"
      ]
     },
     "execution_count": 22,
     "metadata": {},
     "output_type": "execute_result"
    }
   ],
   "source": [
    "Thanos = solarpanel_size_cost_breakeven('Thanos', p4)\n",
    "Thanos"
   ]
  },
  {
   "cell_type": "markdown",
   "metadata": {},
   "source": [
    "■ Next step is to add a DASH based app. <br>\n",
    "→ It might be also difficult to spend ~26k at one shot based on the person's economic situation. So in app I would like to give the option to what % the person wants to convert to solar energy. For example- if he wants to use only 20% of his energy from solar power then he need less solar panels (solar panel size) and thus he will have to spend less money. This can act as a batch test and if it works for the person in question he can slowly transition more towards solar energy. "
   ]
  }
 ],
 "metadata": {
  "kernelspec": {
   "display_name": "Python 3",
   "language": "python",
   "name": "python3"
  },
  "language_info": {
   "codemirror_mode": {
    "name": "ipython",
    "version": 3
   },
   "file_extension": ".py",
   "mimetype": "text/x-python",
   "name": "python",
   "nbconvert_exporter": "python",
   "pygments_lexer": "ipython3",
   "version": "3.7.3"
  }
 },
 "nbformat": 4,
 "nbformat_minor": 2
}
