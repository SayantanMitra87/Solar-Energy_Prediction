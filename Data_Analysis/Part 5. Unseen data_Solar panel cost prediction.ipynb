{
 "cells": [
  {
   "cell_type": "markdown",
   "metadata": {},
   "source": [
    "Author: Sayantan Mitra <br>\n",
    "Chief Data Scientist, Compton & Wendler<br>\n",
    "Ph.D. candidate, Baylor College of Medicine"
   ]
  },
  {
   "cell_type": "code",
   "execution_count": 1,
   "metadata": {},
   "outputs": [],
   "source": [
    "import numpy as np\n",
    "import pandas as pd\n",
    "from collections import Counter\n",
    "\n",
    "# VisualiZation\n",
    "import matplotlib.pyplot as plt\n",
    "%matplotlib inline\n",
    "import seaborn as sns\n",
    "sns.set_style(\"darkgrid\")\n",
    "\n",
    "# ignore warnings\n",
    "import warnings\n",
    "warnings.filterwarnings('ignore')"
   ]
  },
  {
   "cell_type": "markdown",
   "metadata": {},
   "source": [
    "### Goal 1: Predict cost of solar panels of unseen data based on ML pipeline saved in notebook 3"
   ]
  },
  {
   "cell_type": "code",
   "execution_count": 2,
   "metadata": {},
   "outputs": [
    {
     "data": {
      "text/html": [
       "<div>\n",
       "<style scoped>\n",
       "    .dataframe tbody tr th:only-of-type {\n",
       "        vertical-align: middle;\n",
       "    }\n",
       "\n",
       "    .dataframe tbody tr th {\n",
       "        vertical-align: top;\n",
       "    }\n",
       "\n",
       "    .dataframe thead th {\n",
       "        text-align: right;\n",
       "    }\n",
       "</style>\n",
       "<table border=\"1\" class=\"dataframe\">\n",
       "  <thead>\n",
       "    <tr style=\"text-align: right;\">\n",
       "      <th></th>\n",
       "      <th>state</th>\n",
       "      <th>zipcode</th>\n",
       "      <th>installer</th>\n",
       "      <th>cost</th>\n",
       "      <th>city</th>\n",
       "      <th>tech_1</th>\n",
       "      <th>county</th>\n",
       "      <th>annual_PV_prod</th>\n",
       "      <th>year</th>\n",
       "    </tr>\n",
       "  </thead>\n",
       "  <tbody>\n",
       "    <tr>\n",
       "      <th>0</th>\n",
       "      <td>CA</td>\n",
       "      <td>90046</td>\n",
       "      <td>California Green Designs</td>\n",
       "      <td>76530.0</td>\n",
       "      <td>Los Angeles</td>\n",
       "      <td>Poly</td>\n",
       "      <td>Los Angeles</td>\n",
       "      <td>23142.420310</td>\n",
       "      <td>2012</td>\n",
       "    </tr>\n",
       "    <tr>\n",
       "      <th>1</th>\n",
       "      <td>CA</td>\n",
       "      <td>95451</td>\n",
       "      <td>RGS/Real Goods</td>\n",
       "      <td>67211.0</td>\n",
       "      <td>Kelseyville</td>\n",
       "      <td>Mono</td>\n",
       "      <td>Lake</td>\n",
       "      <td>14890.919010</td>\n",
       "      <td>2012</td>\n",
       "    </tr>\n",
       "    <tr>\n",
       "      <th>2</th>\n",
       "      <td>MA</td>\n",
       "      <td>1606</td>\n",
       "      <td>SolarCity</td>\n",
       "      <td>17160.0</td>\n",
       "      <td>Worcester</td>\n",
       "      <td>NaN</td>\n",
       "      <td>Worcester</td>\n",
       "      <td>4079.730586</td>\n",
       "      <td>2015</td>\n",
       "    </tr>\n",
       "    <tr>\n",
       "      <th>3</th>\n",
       "      <td>AZ</td>\n",
       "      <td>85379</td>\n",
       "      <td>SolarCity</td>\n",
       "      <td>23625.0</td>\n",
       "      <td>SURPRISE</td>\n",
       "      <td>Poly</td>\n",
       "      <td>Maricopa</td>\n",
       "      <td>8973.857300</td>\n",
       "      <td>2013</td>\n",
       "    </tr>\n",
       "    <tr>\n",
       "      <th>4</th>\n",
       "      <td>CA</td>\n",
       "      <td>92692</td>\n",
       "      <td>Verengo</td>\n",
       "      <td>23650.0</td>\n",
       "      <td>MISSION VIEJO</td>\n",
       "      <td>Poly</td>\n",
       "      <td>Orange</td>\n",
       "      <td>8268.739153</td>\n",
       "      <td>2015</td>\n",
       "    </tr>\n",
       "  </tbody>\n",
       "</table>\n",
       "</div>"
      ],
      "text/plain": [
       "  state  zipcode                 installer     cost           city tech_1  \\\n",
       "0    CA    90046  California Green Designs  76530.0    Los Angeles   Poly   \n",
       "1    CA    95451            RGS/Real Goods  67211.0    Kelseyville   Mono   \n",
       "2    MA     1606                 SolarCity  17160.0      Worcester    NaN   \n",
       "3    AZ    85379                 SolarCity  23625.0       SURPRISE   Poly   \n",
       "4    CA    92692                   Verengo  23650.0  MISSION VIEJO   Poly   \n",
       "\n",
       "        county  annual_PV_prod  year  \n",
       "0  Los Angeles    23142.420310  2012  \n",
       "1         Lake    14890.919010  2012  \n",
       "2    Worcester     4079.730586  2015  \n",
       "3     Maricopa     8973.857300  2013  \n",
       "4       Orange     8268.739153  2015  "
      ]
     },
     "execution_count": 2,
     "metadata": {},
     "output_type": "execute_result"
    }
   ],
   "source": [
    "new_data = pd.read_csv('new_data_cost.csv', usecols=['state', 'cost', 'zipcode', 'installer', 'city', \n",
    "                                                'tech_1', 'county', 'annual_PV_prod', 'year'])\n",
    "new_data.head()"
   ]
  },
  {
   "cell_type": "code",
   "execution_count": 3,
   "metadata": {},
   "outputs": [],
   "source": [
    "solar_train = pd.read_csv('solar_train_cost.csv', usecols=['state', 'cost', 'zipcode', 'installer', 'city', \n",
    "                                                'tech_1', 'county', 'annual_PV_prod', 'year'])\n",
    "# Extract 1st number of zipcode\n",
    "solar_train['zipcode_1'] = solar_train['zipcode'].astype('str').str[:1]\n",
    "new_data['zipcode_1'] = new_data['zipcode'].astype('str').str[:1]\n",
    "# year as a categorical column to take care of cardinality\n",
    "solar_train['year'] = solar_train['year'].astype('str')\n",
    "new_data['year'] = new_data['year'].astype('str')\n",
    "\n",
    "# Check cardinality\n",
    "def group_levels_in_categoricals(df, threshold=0.01, min_freq=0, max_freq=np.Inf):\n",
    "    df0 = df.describe(include=['O']).T\n",
    "    # reduced list is name of categorical columns\n",
    "    reduced_list = df0[(df0.unique < max_freq) & (df0.unique > min_freq)].reset_index()['index'].tolist()\n",
    "    \n",
    "    #patterns will contain list of all categories of all categorical column whose occurance is more than threshold\n",
    "    patterns = []\n",
    "    other = []\n",
    "    for col in reduced_list:\n",
    "        df_normalized = df[col].value_counts(normalize=True).reset_index()\n",
    "        df_normalized.columns = ['col_name', 'normalized_value']\n",
    "        filt = df_normalized['normalized_value'] > threshold\n",
    "        # norm_list contains all the categories in a categorical column whose occurance is more than threshold    \n",
    "        norm_list = df_normalized[filt]['col_name'].tolist()\n",
    "        pattern = norm_list\n",
    "        patterns.append(norm_list)\n",
    "        # selecting categories that are present less than threshold\n",
    "        others_list = df_normalized[~filt]['col_name'].tolist()\n",
    "        other.append(others_list)\n",
    "        \n",
    "        if pattern != []: \n",
    "            df[col] = df[col].replace({x:'Other' for x in others_list})\n",
    "        else:\n",
    "            df.drop(col, inplace=True, axis=1)\n",
    "    return (df, patterns, reduced_list, other)\n",
    "df, patterns, reduced_list, other = group_levels_in_categoricals(solar_train)\n",
    "\n",
    "# We have to keep this consistent with test data as well\n",
    "def group_levels_in_categoricals_test(reduced_list, other, patterns, df_test):   \n",
    "    for idx, col in enumerate(reduced_list):       \n",
    "        if other[idx] != []:\n",
    "            filt = df_test[col].isin(patterns[idx])\n",
    "            df_test[col][~filt]='Others'\n",
    "        else:\n",
    "            df_test.drop(col, inplace=True, axis=1)       \n",
    "    return df_test\n",
    "new_data = group_levels_in_categoricals_test(reduced_list, other, patterns, new_data)"
   ]
  },
  {
   "cell_type": "markdown",
   "metadata": {},
   "source": [
    "**Data Preparation**"
   ]
  },
  {
   "cell_type": "code",
   "execution_count": 4,
   "metadata": {},
   "outputs": [],
   "source": [
    "# Feature engineering like train set in Notebook 2\n",
    "solar_train['cost_L'] = np.log1p(solar_train['cost'])\n",
    "new_data['cost_L'] = np.log1p(new_data['cost'])\n",
    "solar_train['annual_PV_prod_L'] = np.log1p(solar_train['annual_PV_prod'])\n",
    "new_data['annual_PV_prod_L'] = np.log1p(new_data['annual_PV_prod'])\n",
    "\n",
    "# Dependent variable\n",
    "new_data_real_cost = new_data['cost']\n",
    "y = new_data[['cost_L']]\n",
    "y1 = new_data['cost_L']\n",
    "# Independent variables\n",
    "solar_train = solar_train.drop(columns=['cost', 'cost_L', 'zipcode', 'annual_PV_prod'])                         \n",
    "new_data = new_data.drop(columns=['cost', 'cost_L', 'zipcode', 'annual_PV_prod']) "
   ]
  },
  {
   "cell_type": "markdown",
   "metadata": {},
   "source": [
    "### Testing the ridge model (ML pipeline) on unseen data"
   ]
  },
  {
   "cell_type": "code",
   "execution_count": 5,
   "metadata": {},
   "outputs": [
    {
     "name": "stdout",
     "output_type": "stream",
     "text": [
      "Saved ridge_model_r2 with new_data: 0.7939\n"
     ]
    }
   ],
   "source": [
    "from sklearn.externals import joblib\n",
    "rg1 =joblib.load('cost_prediction_model.joblib')\n",
    "print(f'Saved ridge_model_r2 with new_data: {rg1.score(new_data, y1).round(4)}')"
   ]
  },
  {
   "cell_type": "markdown",
   "metadata": {},
   "source": [
    "**Plotting predicted and actual cost of the solar panels**"
   ]
  },
  {
   "cell_type": "code",
   "execution_count": 6,
   "metadata": {},
   "outputs": [
    {
     "data": {
      "image/png": "[encoded data removed]",
      "text/plain": [
       "<Figure size 1152x432 with 1 Axes>"
      ]
     },
     "metadata": {
      "needs_background": "light"
     },
     "output_type": "display_data"
    }
   ],
   "source": [
    "# Relationship between actual solar panel and predicted solar panel size (transformed)\n",
    "fig, axes = plt.subplots(1,1, figsize = (16,6))\n",
    "y_pred_actual = np.exp(rg1.predict(new_data))\n",
    "size_pred = pd.DataFrame({'real_size':new_data_real_cost, 'predicted_size':y_pred_actual})\n",
    "size_pred.sample(n=50).plot(kind='bar', ax=axes)\n",
    "axes.set_title('Relationship between actual and predicted solar panel size')\n",
    "axes.set_xticklabels('')\n",
    "axes.set_yticklabels('Cost of solar panels');"
   ]
  },
  {
   "cell_type": "markdown",
   "metadata": {},
   "source": [
    "■ Prediction for the cost of solar panels is in line with notebook 3."
   ]
  },
  {
   "cell_type": "markdown",
   "metadata": {},
   "source": [
    "### Goal 2: Let's see whether uncle Bob can afford his new solar panel !\n",
    "\n",
    "→ Details of uncle_bob specification in notebook 4"
   ]
  },
  {
   "cell_type": "code",
   "execution_count": 10,
   "metadata": {},
   "outputs": [
    {
     "data": {
      "text/html": [
       "<div>\n",
       "<style scoped>\n",
       "    .dataframe tbody tr th:only-of-type {\n",
       "        vertical-align: middle;\n",
       "    }\n",
       "\n",
       "    .dataframe tbody tr th {\n",
       "        vertical-align: top;\n",
       "    }\n",
       "\n",
       "    .dataframe thead th {\n",
       "        text-align: right;\n",
       "    }\n",
       "</style>\n",
       "<table border=\"1\" class=\"dataframe\">\n",
       "  <thead>\n",
       "    <tr style=\"text-align: right;\">\n",
       "      <th></th>\n",
       "      <th>state</th>\n",
       "      <th>zipcode</th>\n",
       "      <th>installer</th>\n",
       "      <th>city</th>\n",
       "      <th>tech_1</th>\n",
       "      <th>county</th>\n",
       "      <th>annual_PV_prod</th>\n",
       "      <th>year</th>\n",
       "      <th>zipcode_1</th>\n",
       "    </tr>\n",
       "  </thead>\n",
       "  <tbody>\n",
       "    <tr>\n",
       "      <th>0</th>\n",
       "      <td>CA</td>\n",
       "      <td>93444</td>\n",
       "      <td>SolarCity</td>\n",
       "      <td>Nipomo</td>\n",
       "      <td>Poly</td>\n",
       "      <td>San Luis Obispo</td>\n",
       "      <td>6262.51</td>\n",
       "      <td>2014</td>\n",
       "      <td>9</td>\n",
       "    </tr>\n",
       "  </tbody>\n",
       "</table>\n",
       "</div>"
      ],
      "text/plain": [
       "  state  zipcode  installer    city tech_1           county  annual_PV_prod  \\\n",
       "0    CA    93444  SolarCity  Nipomo   Poly  San Luis Obispo         6262.51   \n",
       "\n",
       "   year zipcode_1  \n",
       "0  2014         9  "
      ]
     },
     "execution_count": 10,
     "metadata": {},
     "output_type": "execute_result"
    }
   ],
   "source": [
    "uncle_bob  =pd.DataFrame({'state': 'CA', 'zipcode':93444, 'installer':'SolarCity', \n",
    "                          'city':'Nipomo', 'tech_1': 'Poly', 'county':'San Luis Obispo', \n",
    "                          'annual_PV_prod': 6262.51, 'year':'2014'}, index=[0])\n",
    "# Extract 1st number of zipciode\n",
    "uncle_bob['zipcode_1'] = uncle_bob['zipcode'].astype('str').str[:1]\n",
    "uncle_bob"
   ]
  },
  {
   "cell_type": "markdown",
   "metadata": {},
   "source": [
    "**Data preparation**"
   ]
  },
  {
   "cell_type": "code",
   "execution_count": 11,
   "metadata": {},
   "outputs": [],
   "source": [
    "new_data = pd.read_csv('new_data_cost.csv', usecols=['state', 'cost', 'zipcode', 'installer', 'city', \n",
    "                                                'tech_1', 'county', 'annual_PV_prod', 'year'])\n",
    "solar_train = pd.read_csv('solar_train_cost.csv', usecols=['state', 'cost', 'zipcode', 'installer', 'city', \n",
    "                                                'tech_1', 'county', 'annual_PV_prod', 'year'])\n",
    "new_data['zipcode_1'] = new_data['zipcode'].astype('str').str[:1]\n",
    "solar_train['zipcode_1'] = solar_train['zipcode'].astype('str').str[:1]\n",
    "uncle_bob_test = new_data.append(uncle_bob, ignore_index=True)\n",
    "# year as a categorical column to take care of cardinality\n",
    "solar_train['year'] = solar_train['year'].astype('str')\n",
    "uncle_bob_test['year'] = uncle_bob_test['year'].astype('str')\n",
    "# Align columns\n",
    "uncle_bob_test = uncle_bob_test[solar_train.columns]\n",
    "\n",
    "# cardinality\n",
    "df, patterns, reduced_list, other = group_levels_in_categoricals(solar_train)\n",
    "uncle_bob_test = group_levels_in_categoricals_test(reduced_list, other, patterns, uncle_bob_test)\n",
    "\n",
    "# Feature engineering like train set in Notebook 2\n",
    "#solar_train['cost_L'] = np.log1p(solar_train['cost'])\n",
    "uncle_bob_test['cost_L'] = np.log1p(uncle_bob_test['cost'])\n",
    "#solar_train['annual_PV_prod_L'] = np.log1p(solar_train['annual_PV_prod'])\n",
    "uncle_bob_test['annual_PV_prod_L'] = np.log1p(uncle_bob_test['annual_PV_prod'])\n",
    "\n",
    "#solar_train = solar_train.drop(columns=['cost', 'cost_L', 'zipcode', 'annual_PV_prod'])                         \n",
    "uncle_bob_test = uncle_bob_test.drop(columns=['cost', 'cost_L', 'zipcode', 'annual_PV_prod']) "
   ]
  },
  {
   "cell_type": "markdown",
   "metadata": {},
   "source": [
    "### Predicting cost of the solar panel uncle Bob need to install based on power consumption !"
   ]
  },
  {
   "cell_type": "code",
   "execution_count": 12,
   "metadata": {},
   "outputs": [
    {
     "data": {
      "text/html": [
       "<div>\n",
       "<style scoped>\n",
       "    .dataframe tbody tr th:only-of-type {\n",
       "        vertical-align: middle;\n",
       "    }\n",
       "\n",
       "    .dataframe tbody tr th {\n",
       "        vertical-align: top;\n",
       "    }\n",
       "\n",
       "    .dataframe thead th {\n",
       "        text-align: right;\n",
       "    }\n",
       "</style>\n",
       "<table border=\"1\" class=\"dataframe\">\n",
       "  <thead>\n",
       "    <tr style=\"text-align: right;\">\n",
       "      <th></th>\n",
       "      <th>annual_PV_prod</th>\n",
       "      <th>predicted_cost</th>\n",
       "    </tr>\n",
       "  </thead>\n",
       "  <tbody>\n",
       "    <tr>\n",
       "      <th>78053</th>\n",
       "      <td>6263.51</td>\n",
       "      <td>22254.175477</td>\n",
       "    </tr>\n",
       "  </tbody>\n",
       "</table>\n",
       "</div>"
      ],
      "text/plain": [
       "       annual_PV_prod  predicted_cost\n",
       "78053         6263.51    22254.175477"
      ]
     },
     "execution_count": 12,
     "metadata": {},
     "output_type": "execute_result"
    }
   ],
   "source": [
    "uncle_bob_pred = np.exp(rg1.predict(uncle_bob_test))\n",
    "size_array = pd.DataFrame(uncle_bob_pred)\n",
    "df = pd.concat([uncle_bob_test, size_array], axis=1)\n",
    "df['annual_PV_prod']  = np.exp(df['annual_PV_prod_L'])\n",
    "df.rename(columns={0: 'predicted_cost'}, inplace=True)\n",
    "df.iloc[[-1],[-1,-2]]"
   ]
  },
  {
   "cell_type": "markdown",
   "metadata": {},
   "source": [
    "Uncle bob need to invest **~$20k** to install solar panel of 5.32kw (from notebook 4) to replace total annual traditional energy consumption of 6262.51kwh.\n",
    "\n",
    "■ Next step is to add a DASH based app."
   ]
  }
 ],
 "metadata": {
  "kernelspec": {
   "display_name": "Python 3",
   "language": "python",
   "name": "python3"
  },
  "language_info": {
   "codemirror_mode": {
    "name": "ipython",
    "version": 3
   },
   "file_extension": ".py",
   "mimetype": "text/x-python",
   "name": "python",
   "nbconvert_exporter": "python",
   "pygments_lexer": "ipython3",
   "version": "3.7.3"
  }
 },
 "nbformat": 4,
 "nbformat_minor": 2
}
