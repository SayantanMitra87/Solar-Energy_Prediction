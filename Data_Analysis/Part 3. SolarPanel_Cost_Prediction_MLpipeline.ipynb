{
 "cells": [
  {
   "cell_type": "markdown",
   "metadata": {},
   "source": [
    "# Residential Solar Panel Cost Prediction"
   ]
  },
  {
   "cell_type": "markdown",
   "metadata": {},
   "source": [
    "Author: Sayantan Mitra<br>\n",
    "Chief Data Scientist, Crompton & Wendler<br>\n",
    "Ph.D. candidate, Baylor College of Medicine"
   ]
  },
  {
   "cell_type": "markdown",
   "metadata": {},
   "source": [
    "#### ► <span  style=\"color:blue; font-size:15px\"> Objective: Predict cost of solar panels for residential setting</span>"
   ]
  },
  {
   "cell_type": "markdown",
   "metadata": {},
   "source": [
    "# 1.A. Import libraries and load data"
   ]
  },
  {
   "cell_type": "code",
   "execution_count": 1,
   "metadata": {},
   "outputs": [],
   "source": [
    "import numpy as np\n",
    "import pandas as pd\n",
    "from collections import Counter\n",
    "\n",
    "# VisualiZation\n",
    "import matplotlib.pyplot as plt\n",
    "%matplotlib inline\n",
    "import seaborn as sns\n",
    "sns.set_style(\"darkgrid\")\n",
    "\n",
    "# ignore warnings\n",
    "import warnings\n",
    "warnings.filterwarnings('ignore')"
   ]
  },
  {
   "cell_type": "markdown",
   "metadata": {},
   "source": [
    "Data selected as discussed in Part_1 notebook for data exploration"
   ]
  },
  {
   "cell_type": "code",
   "execution_count": 2,
   "metadata": {},
   "outputs": [
    {
     "data": {
      "text/html": [
       "<div>\n",
       "<style scoped>\n",
       "    .dataframe tbody tr th:only-of-type {\n",
       "        vertical-align: middle;\n",
       "    }\n",
       "\n",
       "    .dataframe tbody tr th {\n",
       "        vertical-align: top;\n",
       "    }\n",
       "\n",
       "    .dataframe thead th {\n",
       "        text-align: right;\n",
       "    }\n",
       "</style>\n",
       "<table border=\"1\" class=\"dataframe\">\n",
       "  <thead>\n",
       "    <tr style=\"text-align: right;\">\n",
       "      <th></th>\n",
       "      <th>state</th>\n",
       "      <th>date_installed</th>\n",
       "      <th>zipcode</th>\n",
       "      <th>installer</th>\n",
       "      <th>cost</th>\n",
       "      <th>city</th>\n",
       "      <th>tech_1</th>\n",
       "      <th>county</th>\n",
       "      <th>annual_PV_prod</th>\n",
       "    </tr>\n",
       "  </thead>\n",
       "  <tbody>\n",
       "    <tr>\n",
       "      <th>0</th>\n",
       "      <td>TX</td>\n",
       "      <td>2013-12-12</td>\n",
       "      <td>78702</td>\n",
       "      <td>NaN</td>\n",
       "      <td>30600.53</td>\n",
       "      <td>AUSTIN</td>\n",
       "      <td>Poly</td>\n",
       "      <td>Travis</td>\n",
       "      <td>14999.831600</td>\n",
       "    </tr>\n",
       "    <tr>\n",
       "      <th>1</th>\n",
       "      <td>TX</td>\n",
       "      <td>2014-07-11</td>\n",
       "      <td>78702</td>\n",
       "      <td>NaN</td>\n",
       "      <td>40000.00</td>\n",
       "      <td>AUSTIN</td>\n",
       "      <td>Mono</td>\n",
       "      <td>Travis</td>\n",
       "      <td>17811.574390</td>\n",
       "    </tr>\n",
       "    <tr>\n",
       "      <th>2</th>\n",
       "      <td>TX</td>\n",
       "      <td>2014-01-17</td>\n",
       "      <td>78702</td>\n",
       "      <td>NaN</td>\n",
       "      <td>22665.58</td>\n",
       "      <td>AUSTIN</td>\n",
       "      <td>Mono</td>\n",
       "      <td>Travis</td>\n",
       "      <td>7833.742822</td>\n",
       "    </tr>\n",
       "    <tr>\n",
       "      <th>3</th>\n",
       "      <td>TX</td>\n",
       "      <td>2012-09-27</td>\n",
       "      <td>78702</td>\n",
       "      <td>NaN</td>\n",
       "      <td>28125.00</td>\n",
       "      <td>AUSTIN</td>\n",
       "      <td>Poly</td>\n",
       "      <td>Travis</td>\n",
       "      <td>10151.709590</td>\n",
       "    </tr>\n",
       "    <tr>\n",
       "      <th>4</th>\n",
       "      <td>TX</td>\n",
       "      <td>2012-09-26</td>\n",
       "      <td>78702</td>\n",
       "      <td>NaN</td>\n",
       "      <td>19250.00</td>\n",
       "      <td>AUSTIN</td>\n",
       "      <td>Poly</td>\n",
       "      <td>Travis</td>\n",
       "      <td>7307.133789</td>\n",
       "    </tr>\n",
       "  </tbody>\n",
       "</table>\n",
       "</div>"
      ],
      "text/plain": [
       "  state date_installed  zipcode installer      cost    city tech_1  county  \\\n",
       "0    TX     2013-12-12    78702       NaN  30600.53  AUSTIN   Poly  Travis   \n",
       "1    TX     2014-07-11    78702       NaN  40000.00  AUSTIN   Mono  Travis   \n",
       "2    TX     2014-01-17    78702       NaN  22665.58  AUSTIN   Mono  Travis   \n",
       "3    TX     2012-09-27    78702       NaN  28125.00  AUSTIN   Poly  Travis   \n",
       "4    TX     2012-09-26    78702       NaN  19250.00  AUSTIN   Poly  Travis   \n",
       "\n",
       "   annual_PV_prod  \n",
       "0    14999.831600  \n",
       "1    17811.574390  \n",
       "2     7833.742822  \n",
       "3    10151.709590  \n",
       "4     7307.133789  "
      ]
     },
     "execution_count": 2,
     "metadata": {},
     "output_type": "execute_result"
    }
   ],
   "source": [
    "solar = pd.read_csv('solar_costpred.csv', parse_dates=['date_installed']) \n",
    "# Selecting only residential setting\n",
    "solar = solar[solar['install_type'] == 'residential']\n",
    "# All residential so drop column 'install_type' # only keeping columns relevant to user input\n",
    "solar = solar.drop(columns=['install_type', 'incentive_prog_names', \n",
    "                           'tracking_type', 'annual_insolation'])\n",
    "solar.head()"
   ]
  },
  {
   "cell_type": "markdown",
   "metadata": {},
   "source": [
    "■ We have done detailed EDA of every feature in `Part 1. SolarPanel_SizePrediction`. Only difference here is the target i.e. `cost of solar panels` instead of `size of solar panels`.\n",
    "\n",
    "■ We will only perform EDA on `cost of solar panels` to check whether it needs transformation similar to `size of solar panels` in Part 2 to make it into a gaussian distribution.\n",
    "\n",
    "■ As rest would be same, we will use ML Pipeline."
   ]
  },
  {
   "cell_type": "code",
   "execution_count": 3,
   "metadata": {},
   "outputs": [
    {
     "data": {
      "text/plain": [
       "state             0.000\n",
       "date_installed    0.000\n",
       "zipcode           0.000\n",
       "installer         0.127\n",
       "cost              0.000\n",
       "city              0.000\n",
       "tech_1            0.220\n",
       "county            0.000\n",
       "annual_PV_prod    0.000\n",
       "dtype: float64"
      ]
     },
     "execution_count": 3,
     "metadata": {},
     "output_type": "execute_result"
    }
   ],
   "source": [
    "# missing values in the data\n",
    "solar.isna().mean().round(3)"
   ]
  },
  {
   "cell_type": "markdown",
   "metadata": {},
   "source": [
    "Check whether the missing value might have any predictive power on cost of the solar panels "
   ]
  },
  {
   "cell_type": "code",
   "execution_count": 4,
   "metadata": {},
   "outputs": [
    {
     "name": "stdout",
     "output_type": "stream",
     "text": [
      "Overall solar panel cost in residential housing without missing values: 27955.2\n",
      "\n",
      "Overall solar panel cost in when installer data is missing: 30811.3\n",
      "\n",
      "Overall solar panel cost in when tech_1 data is missing: 31080.0\n",
      "\n"
     ]
    }
   ],
   "source": [
    "a = solar.dropna()['cost'].median()\n",
    "b = solar.loc[solar['installer'].isna(),['cost']].median()[0].round(2)\n",
    "c = solar.loc[solar['tech_1'].isna(),['cost']].median()[0].round(2)\n",
    "\n",
    "print(f'Overall solar panel cost in residential housing without missing values: {a}\\n')\n",
    "print(f'Overall solar panel cost in when installer data is missing: {b}\\n')\n",
    "print(f'Overall solar panel cost in when tech_1 data is missing: {c}\\n')"
   ]
  },
  {
   "cell_type": "markdown",
   "metadata": {},
   "source": [
    "# 1.B. Feature Engineering"
   ]
  },
  {
   "cell_type": "code",
   "execution_count": 5,
   "metadata": {},
   "outputs": [
    {
     "data": {
      "text/plain": [
       "((390260, 11), (97566, 11))"
      ]
     },
     "execution_count": 5,
     "metadata": {},
     "output_type": "execute_result"
    }
   ],
   "source": [
    "# Zipcode: extract first number of zipcode \n",
    "solar['zipcode_1'] = solar['zipcode'].astype('str').str[:1]#.astype(int)\n",
    "# DateTime column: extract year and month of installation\n",
    "date = solar['date_installed']\n",
    "solar['year'] =  date.dt.year.astype('str')\n",
    "\n",
    "# Divide data into train and test # Use this test as a validation set later on\n",
    "from sklearn.model_selection import train_test_split\n",
    "solar_train, solar_val = train_test_split(solar, test_size=0.2, random_state= 0)\n",
    "solar = solar_train\n",
    "solar.shape, solar_val.shape"
   ]
  },
  {
   "cell_type": "markdown",
   "metadata": {},
   "source": [
    "**Reduce Cardinality** <br>"
   ]
  },
  {
   "cell_type": "code",
   "execution_count": 6,
   "metadata": {},
   "outputs": [
    {
     "data": {
      "text/html": [
       "<div>\n",
       "<style scoped>\n",
       "    .dataframe tbody tr th:only-of-type {\n",
       "        vertical-align: middle;\n",
       "    }\n",
       "\n",
       "    .dataframe tbody tr th {\n",
       "        vertical-align: top;\n",
       "    }\n",
       "\n",
       "    .dataframe thead th {\n",
       "        text-align: right;\n",
       "    }\n",
       "</style>\n",
       "<table border=\"1\" class=\"dataframe\">\n",
       "  <thead>\n",
       "    <tr style=\"text-align: right;\">\n",
       "      <th></th>\n",
       "      <th>count</th>\n",
       "      <th>unique</th>\n",
       "      <th>top</th>\n",
       "      <th>freq</th>\n",
       "    </tr>\n",
       "  </thead>\n",
       "  <tbody>\n",
       "    <tr>\n",
       "      <th>state</th>\n",
       "      <td>390260</td>\n",
       "      <td>12</td>\n",
       "      <td>CA</td>\n",
       "      <td>209789</td>\n",
       "    </tr>\n",
       "    <tr>\n",
       "      <th>installer</th>\n",
       "      <td>340769</td>\n",
       "      <td>11</td>\n",
       "      <td>Other</td>\n",
       "      <td>179467</td>\n",
       "    </tr>\n",
       "    <tr>\n",
       "      <th>city</th>\n",
       "      <td>390260</td>\n",
       "      <td>7</td>\n",
       "      <td>Other</td>\n",
       "      <td>355358</td>\n",
       "    </tr>\n",
       "    <tr>\n",
       "      <th>tech_1</th>\n",
       "      <td>304531</td>\n",
       "      <td>5</td>\n",
       "      <td>Poly</td>\n",
       "      <td>176045</td>\n",
       "    </tr>\n",
       "    <tr>\n",
       "      <th>county</th>\n",
       "      <td>390260</td>\n",
       "      <td>22</td>\n",
       "      <td>Other</td>\n",
       "      <td>129721</td>\n",
       "    </tr>\n",
       "    <tr>\n",
       "      <th>zipcode_1</th>\n",
       "      <td>390260</td>\n",
       "      <td>7</td>\n",
       "      <td>9</td>\n",
       "      <td>211323</td>\n",
       "    </tr>\n",
       "    <tr>\n",
       "      <th>year</th>\n",
       "      <td>390260</td>\n",
       "      <td>10</td>\n",
       "      <td>2015</td>\n",
       "      <td>142228</td>\n",
       "    </tr>\n",
       "  </tbody>\n",
       "</table>\n",
       "</div>"
      ],
      "text/plain": [
       "            count unique    top    freq\n",
       "state      390260     12     CA  209789\n",
       "installer  340769     11  Other  179467\n",
       "city       390260      7  Other  355358\n",
       "tech_1     304531      5   Poly  176045\n",
       "county     390260     22  Other  129721\n",
       "zipcode_1  390260      7      9  211323\n",
       "year       390260     10   2015  142228"
      ]
     },
     "execution_count": 6,
     "metadata": {},
     "output_type": "execute_result"
    }
   ],
   "source": [
    "# Reduce cardinality as explained in the Part_1 notebook\n",
    "def group_levels_in_categoricals(df, threshold=0.01, min_freq=0, max_freq=np.Inf):\n",
    "    df0 = df.describe(include=['O']).T\n",
    "    # reduced list is name of categorical columns\n",
    "    reduced_list = df0[(df0.unique < max_freq) & (df0.unique > min_freq)].reset_index()['index'].tolist()\n",
    "    \n",
    "    #patterns will contain list of all categories of all categorical column whose occurance is more than threshold\n",
    "    patterns = []\n",
    "    other = []\n",
    "    for col in reduced_list:\n",
    "        df_normalized = df[col].value_counts(normalize=True).reset_index()\n",
    "        df_normalized.columns = ['col_name', 'normalized_value']\n",
    "        filt = df_normalized['normalized_value'] > threshold\n",
    "        # norm_list contains all the categories in a categorical column whose occurance is more than threshold    \n",
    "        norm_list = df_normalized[filt]['col_name'].tolist()\n",
    "        pattern = norm_list\n",
    "        patterns.append(norm_list)\n",
    "        # selecting categories that are present less than threshold\n",
    "        others_list = df_normalized[~filt]['col_name'].tolist()\n",
    "        other.append(others_list)\n",
    "        \n",
    "        if pattern != []: \n",
    "            df[col] = df[col].replace({x:'Other' for x in others_list})\n",
    "        else:\n",
    "            df.drop(col, inplace=True, axis=1)\n",
    "    return (df, patterns, reduced_list, other)\n",
    "\n",
    "df, patterns, reduced_list, other = group_levels_in_categoricals(solar)\n",
    "# solar training set after transformation\n",
    "solar.describe(include=['O']).T"
   ]
  },
  {
   "cell_type": "code",
   "execution_count": 7,
   "metadata": {},
   "outputs": [
    {
     "data": {
      "text/html": [
       "<div>\n",
       "<style scoped>\n",
       "    .dataframe tbody tr th:only-of-type {\n",
       "        vertical-align: middle;\n",
       "    }\n",
       "\n",
       "    .dataframe tbody tr th {\n",
       "        vertical-align: top;\n",
       "    }\n",
       "\n",
       "    .dataframe thead th {\n",
       "        text-align: right;\n",
       "    }\n",
       "</style>\n",
       "<table border=\"1\" class=\"dataframe\">\n",
       "  <thead>\n",
       "    <tr style=\"text-align: right;\">\n",
       "      <th></th>\n",
       "      <th>count</th>\n",
       "      <th>unique</th>\n",
       "      <th>top</th>\n",
       "      <th>freq</th>\n",
       "    </tr>\n",
       "  </thead>\n",
       "  <tbody>\n",
       "    <tr>\n",
       "      <th>state</th>\n",
       "      <td>97566</td>\n",
       "      <td>12</td>\n",
       "      <td>CA</td>\n",
       "      <td>52467</td>\n",
       "    </tr>\n",
       "    <tr>\n",
       "      <th>installer</th>\n",
       "      <td>97566</td>\n",
       "      <td>11</td>\n",
       "      <td>Others</td>\n",
       "      <td>57506</td>\n",
       "    </tr>\n",
       "    <tr>\n",
       "      <th>city</th>\n",
       "      <td>97566</td>\n",
       "      <td>7</td>\n",
       "      <td>Others</td>\n",
       "      <td>88852</td>\n",
       "    </tr>\n",
       "    <tr>\n",
       "      <th>tech_1</th>\n",
       "      <td>97566</td>\n",
       "      <td>5</td>\n",
       "      <td>Poly</td>\n",
       "      <td>44050</td>\n",
       "    </tr>\n",
       "    <tr>\n",
       "      <th>county</th>\n",
       "      <td>97566</td>\n",
       "      <td>22</td>\n",
       "      <td>Others</td>\n",
       "      <td>32447</td>\n",
       "    </tr>\n",
       "    <tr>\n",
       "      <th>zipcode_1</th>\n",
       "      <td>97566</td>\n",
       "      <td>7</td>\n",
       "      <td>9</td>\n",
       "      <td>52849</td>\n",
       "    </tr>\n",
       "    <tr>\n",
       "      <th>year</th>\n",
       "      <td>97566</td>\n",
       "      <td>10</td>\n",
       "      <td>2015</td>\n",
       "      <td>35520</td>\n",
       "    </tr>\n",
       "  </tbody>\n",
       "</table>\n",
       "</div>"
      ],
      "text/plain": [
       "           count unique     top   freq\n",
       "state      97566     12      CA  52467\n",
       "installer  97566     11  Others  57506\n",
       "city       97566      7  Others  88852\n",
       "tech_1     97566      5    Poly  44050\n",
       "county     97566     22  Others  32447\n",
       "zipcode_1  97566      7       9  52849\n",
       "year       97566     10    2015  35520"
      ]
     },
     "execution_count": 7,
     "metadata": {},
     "output_type": "execute_result"
    }
   ],
   "source": [
    "# Keep this consistent with test data as well\n",
    "def group_levels_in_categoricals_test(reduced_list, other, patterns, df_test):   \n",
    "    for idx, col in enumerate(reduced_list):       \n",
    "        if other[idx] != []:\n",
    "            filt = df_test[col].isin(patterns[idx])\n",
    "            df_test[col][~filt]='Others'\n",
    "        else:\n",
    "            df_test.drop(col, inplace=True, axis=1)       \n",
    "    return df_test\n",
    "\n",
    "solar_val = group_levels_in_categoricals_test(reduced_list, other, patterns, solar_val)\n",
    "# solar validation set after transformation\n",
    "solar_val.describe(include=['O']).T"
   ]
  },
  {
   "cell_type": "markdown",
   "metadata": {},
   "source": [
    "# 2.A. Explore target variable: `cost`"
   ]
  },
  {
   "cell_type": "code",
   "execution_count": 8,
   "metadata": {},
   "outputs": [
    {
     "data": {
      "image/png": "[encoded data removed]",
      "text/plain": [
       "<Figure size 1008x360 with 2 Axes>"
      ]
     },
     "metadata": {
      "needs_background": "light"
     },
     "output_type": "display_data"
    },
    {
     "name": "stdout",
     "output_type": "stream",
     "text": [
      "mu = 32855.44 and sigma = 31102.99\n",
      "\n",
      "Skewness: 37.791336\n",
      "Kurtosis: 2983.535844\n",
      "\n",
      "\n"
     ]
    },
    {
     "data": {
      "image/png": "[encoded data removed]",
      "text/plain": [
       "<Figure size 1008x360 with 2 Axes>"
      ]
     },
     "metadata": {
      "needs_background": "light"
     },
     "output_type": "display_data"
    },
    {
     "name": "stdout",
     "output_type": "stream",
     "text": [
      "\n",
      " mu = 15.52 and sigma = 1.21\n",
      "\n",
      "Skewness: 0.027574\n",
      "Kurtosis: 2.120818\n"
     ]
    }
   ],
   "source": [
    "import scipy.stats as st\n",
    "from scipy.stats import norm, skew # for some statistics\n",
    "from scipy.stats import boxcox\n",
    "fig, axes = plt.subplots(1,2, figsize = (14,5))\n",
    "\n",
    "# Distribution of target\n",
    "sns.distplot(solar['cost'], fit=norm, ax=axes[0])\n",
    "# QQ-plot to check normality\n",
    "res = st.probplot(solar['cost'], plot=plt)\n",
    "fig.suptitle('Distribution of cost (Target) before transformation', size=15)\n",
    "plt.show()\n",
    "# Skewness and Kurtosis\n",
    "(mu, sigma) = norm.fit(solar['cost'])\n",
    "print( 'mu = {:.2f} and sigma = {:.2f}\\n'.format(mu, sigma))\n",
    "print(\"Skewness: %f\" % solar['cost'].skew())\n",
    "print(\"Kurtosis: %f\" % solar['cost'].kurt())\n",
    "print('\\n')\n",
    "\n",
    "# We can use log transformation or box-cox transformation\n",
    "#solar['cost_L'] = np.log1p(solar['cost'])\n",
    "#solar_val['cost_L'] = np.log1p(solar_val['cost'])\n",
    "solar['cost_L'], param = boxcox(solar['cost'])\n",
    "solar_val['cost_L'], param = boxcox(solar_val['cost'])\n",
    "fig, axes = plt.subplots(1,2, figsize = (14,5))\n",
    "#Check the new distribution \n",
    "sns.distplot(solar['cost_L'], fit=norm, ax=axes[0])\n",
    "# QQ-plot to check normality\n",
    "res = st.probplot(solar['cost_L'], plot=plt)\n",
    "fig.suptitle('Distribution of cost (Target) after transformation', size=15)\n",
    "plt.show()\n",
    "# Skewness and Kurtosis\n",
    "(mu, sigma) = norm.fit(solar['cost_L'])\n",
    "print( '\\n mu = {:.2f} and sigma = {:.2f}\\n'.format(mu, sigma))\n",
    "print(\"Skewness: %f\" % solar['cost_L'].skew())\n",
    "print(\"Kurtosis: %f\" % solar['cost_L'].kurt())"
   ]
  },
  {
   "cell_type": "markdown",
   "metadata": {},
   "source": [
    "→ After box-cox transformation, target variable follows normal distribution."
   ]
  },
  {
   "cell_type": "markdown",
   "metadata": {},
   "source": [
    "we know `annual_PV_prod` doesn't follow gaussian distribution from Part_1 notebook: data exploration.  For linear model, one of the assumption is to have predictors in the gaussian distribution. Thus, we need to transform annual_PV_prod (as it is a good predictor) feature into a gaussian distribution."
   ]
  },
  {
   "cell_type": "code",
   "execution_count": 9,
   "metadata": {},
   "outputs": [],
   "source": [
    "# Transform independent variables\n",
    "solar['annual_PV_prod_L'], param = boxcox(solar['annual_PV_prod'])\n",
    "solar_val['annual_PV_prod_L'], param = boxcox(solar_val['annual_PV_prod'])"
   ]
  },
  {
   "cell_type": "markdown",
   "metadata": {},
   "source": [
    "# 2.B. Column-wise relationship\n",
    "\n",
    "We can expect cost and annual_PV_prod (energy production) to be highly correlated. Generally more solar panels required to produce more energy and more solar panels mean more cost."
   ]
  },
  {
   "cell_type": "code",
   "execution_count": 10,
   "metadata": {},
   "outputs": [
    {
     "data": {
      "image/png": "[encoded data removed]",
      "text/plain": [
       "<Figure size 1008x360 with 3 Axes>"
      ]
     },
     "metadata": {},
     "output_type": "display_data"
    }
   ],
   "source": [
    "# Correlation matrix among all features will inform us relationship between features\n",
    "sns.set(style='white', font_scale = 1)\n",
    "fig, axes = plt.subplots(1,2, figsize = (14,5))\n",
    "# Correlation matrix\n",
    "corr = solar.corr().round(3)\n",
    "# Generate mask for the upper triangle\n",
    "mask = np.zeros_like(corr, dtype=np.bool)\n",
    "mask[np.triu_indices_from(mask)] = True\n",
    "fig.suptitle('Correlation among features', x=0.42, y=.99, fontsize = 20)\n",
    "\n",
    "# Generate custom diverging colormap\n",
    "cmap = sns.diverging_palette(220, 10, as_cmap=True)\n",
    "# Draw heatmap with the mask and correct aspect ratio\n",
    "sns.heatmap(corr, annot=True, annot_kws={'size': 12}, mask=mask, cmap=cmap, vmax=.3, \n",
    "                                    center=0, square=True, \n",
    "            linewidths=.5, cbar_kws={'shrink':.5}, ax=axes[0])\n",
    "# EDA: Correlation with target\n",
    "plt.style.use('ggplot')\n",
    "solar2 = solar.drop(columns=['cost', 'cost_L']) #, 'annual_PV_prod_L'\n",
    "solar2.corrwith(solar['cost_L']).plot.bar(title = 'Feature corrlation with COST (Target)',\n",
    "                                               fontsize = 12, rot = 45,ax=axes[1]);"
   ]
  },
  {
   "cell_type": "markdown",
   "metadata": {},
   "source": [
    "♦ **Initial observation:** <br>\n",
    "→ As expected `cost_L` and `annual_PV_prod_L` are highly correlated. <br>"
   ]
  },
  {
   "cell_type": "markdown",
   "metadata": {},
   "source": [
    "# 3. Predictive Modeling"
   ]
  },
  {
   "cell_type": "code",
   "execution_count": 11,
   "metadata": {},
   "outputs": [
    {
     "data": {
      "text/plain": [
       "((390260, 9), (390260,), (97566, 9), (97566,))"
      ]
     },
     "execution_count": 11,
     "metadata": {},
     "output_type": "execute_result"
    }
   ],
   "source": [
    "# dependent variable \n",
    "y_L = solar['cost_L']\n",
    "y_val_L = solar_val['cost_L']\n",
    "# independent variables\n",
    "solar = solar.drop(columns=['cost', 'cost_L', 'zipcode', 'annual_PV_prod']) \n",
    "solar_val = solar_val.drop(columns=['cost', 'cost_L', 'zipcode', 'annual_PV_prod' ])                       \n",
    "solar.shape,y_L.shape, solar_val.shape, y_val_L.shape"
   ]
  },
  {
   "cell_type": "markdown",
   "metadata": {},
   "source": [
    "### Machine Learning Pipeline"
   ]
  },
  {
   "cell_type": "markdown",
   "metadata": {},
   "source": [
    "#### **Making a PIPELINE with BOTH NUMERIC and CATEGORICAL columns separately**<br>\n",
    "**STEPS**:\n",
    "* `ColumnTransformer` will be used to create two pipelines that transform the numeric and categorical features separately. \n",
    "* We then create another pipeline hooking up this pipeline with a machine learning model."
   ]
  },
  {
   "cell_type": "code",
   "execution_count": 12,
   "metadata": {},
   "outputs": [
    {
     "name": "stdout",
     "output_type": "stream",
     "text": [
      "Numeric columns are: ['annual_PV_prod_L'] \n",
      "\n",
      "Categorical columns are: ['state', 'installer', 'city', 'tech_1', 'county', 'zipcode_1', 'year']\n"
     ]
    }
   ],
   "source": [
    "# Separate into numerical and categorical columns\n",
    "num_col = solar.select_dtypes('number').columns.tolist()\n",
    "print(f'Numeric columns are: {num_col}','\\n')\n",
    "cat_col = solar.select_dtypes('object').columns.tolist()\n",
    "print(f'Categorical columns are: {cat_col}')"
   ]
  },
  {
   "cell_type": "code",
   "execution_count": 13,
   "metadata": {},
   "outputs": [
    {
     "name": "stdout",
     "output_type": "stream",
     "text": [
      "0\n"
     ]
    },
    {
     "data": {
      "text/plain": [
       "state        0.00\n",
       "installer    0.13\n",
       "city         0.00\n",
       "tech_1       0.22\n",
       "county       0.00\n",
       "zipcode_1    0.00\n",
       "year         0.00\n",
       "dtype: float64"
      ]
     },
     "execution_count": 13,
     "metadata": {},
     "output_type": "execute_result"
    }
   ],
   "source": [
    "# categorical column has missing values, that will be imputed by 'missing'\n",
    "print(solar[num_col].isna().sum().sum())\n",
    "solar[cat_col].isna().mean().round(2)"
   ]
  },
  {
   "cell_type": "code",
   "execution_count": 14,
   "metadata": {},
   "outputs": [],
   "source": [
    "from sklearn.preprocessing import OneHotEncoder\n",
    "from sklearn.compose import ColumnTransformer\n",
    "from sklearn.impute import SimpleImputer\n",
    "from sklearn.preprocessing import StandardScaler\n",
    "from sklearn.pipeline import Pipeline\n",
    "\n",
    "from sklearn.linear_model import Ridge \n",
    "from sklearn.ensemble import RandomForestRegressor\n",
    "from sklearn.model_selection import cross_val_score, KFold\n",
    "from sklearn.model_selection import GridSearchCV\n",
    "from sklearn.model_selection import RandomizedSearchCV"
   ]
  },
  {
   "cell_type": "code",
   "execution_count": 15,
   "metadata": {
    "scrolled": true
   },
   "outputs": [
    {
     "name": "stdout",
     "output_type": "stream",
     "text": [
      "Ridge regression performance without hyperparameter tuning\n",
      "cross-val score_R2: 0.8054, standard deviation: 0.000917\n",
      "Validation set cross-val score_R2: 0.8048, standard deviation: 0.002082\n"
     ]
    }
   ],
   "source": [
    "# Numeric column pipeline\n",
    "#si = SimpleImputer(strategy='median')\n",
    "ss = StandardScaler()\n",
    "steps = [('scale', ss)] #('impute', si), \n",
    "numeric_pipe = Pipeline(steps)\n",
    "\n",
    "# Categorical column pipeline\n",
    "si = SimpleImputer(strategy='constant', fill_value='UNKNOWN')\n",
    "ohe = OneHotEncoder(sparse=False, handle_unknown='ignore')\n",
    "steps = [('impute', si), ('ohe', ohe)]\n",
    "cat_pipe = Pipeline(steps)\n",
    "\n",
    "# Transform both Numeric and Categorical columns\n",
    "transformers = [('numeric_pipe', numeric_pipe, num_col), ('cat_pipe', cat_pipe, cat_col)]\n",
    "ct = ColumnTransformer(transformers)\n",
    "# Save transformed data\n",
    "X = ct.fit_transform(solar)\n",
    "\n",
    "#Put ML in the final pipeline\n",
    "rg = Ridge(alpha=1)\n",
    "final_pipe = Pipeline([('ct', ct), ('rg', rg)])\n",
    "\n",
    "# Performance without hyperparameter tuning\n",
    "kf = KFold(n_splits=5, shuffle=True, random_state=0)\n",
    "cv_scores = cross_val_score(final_pipe, solar, y_L, cv=kf)\n",
    "print(f'Ridge regression performance without hyperparameter tuning')\n",
    "print(f'cross-val score_R2: {cv_scores.mean().round(4)}, standard deviation: {cv_scores.std().round(6)}')\n",
    "\n",
    "# Performance with validation set\n",
    "cv_scores = cross_val_score(final_pipe, solar_val, y_val_L, cv=kf)\n",
    "print(f'Validation set cross-val score_R2: {cv_scores.mean().round(4)}, standard deviation: {cv_scores.std().round(6)}')"
   ]
  },
  {
   "cell_type": "markdown",
   "metadata": {},
   "source": [
    "**Let's try to improve R2 by hyperparameter tuning**\n",
    "We can grid search with a pipeline object as well. We need to precede the parameter value one would like to tune by two underscores and the name of the step. For instance, to tune the strategy parameter of the imputer, you must use the name (IMPUTE), thus it will be impute__strategy"
   ]
  },
  {
   "cell_type": "code",
   "execution_count": 16,
   "metadata": {},
   "outputs": [
    {
     "name": "stdout",
     "output_type": "stream",
     "text": [
      "Ridge regression performance after hyperparameter tuning\n",
      "best_score: 0.805394\n",
      "ridge_best_alpha: 5.994843\n",
      "cross-val score_R2: 0.8054, standard deviation: 0.000918\n",
      "Validation set cross-val score_R2: 0.8048, standard deviation: 0.002086\n"
     ]
    }
   ],
   "source": [
    "grid = {'rg__alpha': np.logspace(-3, 3, 1000)} \n",
    "gs = GridSearchCV(final_pipe, grid, cv=kf)\n",
    "gs.fit(solar, y_L)\n",
    "print(f'Ridge regression performance after hyperparameter tuning')\n",
    "print(f'best_score: {(gs.best_score_).round(6)}')\n",
    "ridge_best_alpha = gs.best_params_['rg__alpha']\n",
    "print(f'ridge_best_alpha: {ridge_best_alpha.round(6)}')\n",
    "\n",
    "# Regularized regression(lasso) after tuning\n",
    "rg = Ridge(alpha = ridge_best_alpha)\n",
    "final_pipe = Pipeline([('ct', ct), ('rg', rg)])\n",
    "\n",
    "# Performance with hyperparameter tuning\n",
    "cv_scores = cross_val_score(final_pipe, solar, y_L, cv=kf)\n",
    "print(f'cross-val score_R2: {cv_scores.mean().round(4)}, standard deviation: {cv_scores.std().round(6)}')\n",
    "\n",
    "# Peformance with validation set \n",
    "cv_scores = cross_val_score(final_pipe, solar_val, y_val_L, cv=kf)\n",
    "print(f'Validation set cross-val score_R2: {cv_scores.mean().round(4)}, standard deviation: {cv_scores.std().round(6)}')"
   ]
  },
  {
   "cell_type": "code",
   "execution_count": 20,
   "metadata": {},
   "outputs": [
    {
     "data": {
      "image/png": "[encoded data removed]",
      "text/plain": [
       "<Figure size 864x288 with 2 Axes>"
      ]
     },
     "metadata": {},
     "output_type": "display_data"
    }
   ],
   "source": [
    "# Plot to show how alpha(penalty) impacts model performance\n",
    "df_results = pd.DataFrame(gs.cv_results_)\n",
    "fig, axes = plt.subplots(1,2, figsize = (12,4))\n",
    "df_results.plot(x='param_rg__alpha', y='mean_test_score', ax=axes[0])\n",
    "df_results[:685].plot(x='param_rg__alpha', y='mean_test_score', ax=axes[1]) \n",
    "axes[1].xaxis.set_tick_params(rotation=45)\n",
    "fig.suptitle('mean_test_score vs alpha', fontsize=15, y=1.01);"
   ]
  },
  {
   "cell_type": "markdown",
   "metadata": {},
   "source": [
    "As penalty increases (upto around 4.2) performance improves and after that with stronger penalty, performance reduces due to weight of the penalty."
   ]
  },
  {
   "cell_type": "markdown",
   "metadata": {},
   "source": [
    "**Overall summary**<br>\n",
    "■ We built the ML pipeline with ridge regression and it performed with a R2 of 80%, CV showed limited standard deviation.<br>\n",
    "■ In part 3 of the notebook we will focus on conceiving a data-product idea, where an user can give his energy usage and his/her location (zipcode, county, city etc) to get predicted size of solar panels needed, and predicted cost of the solar panels."
   ]
  }
 ],
 "metadata": {
  "hide_input": false,
  "kernelspec": {
   "display_name": "Python 3",
   "language": "python",
   "name": "python3"
  },
  "language_info": {
   "codemirror_mode": {
    "name": "ipython",
    "version": 3
   },
   "file_extension": ".py",
   "mimetype": "text/x-python",
   "name": "python",
   "nbconvert_exporter": "python",
   "pygments_lexer": "ipython3",
   "version": "3.6.4"
  },
  "varInspector": {
   "cols": {
    "lenName": 16,
    "lenType": 16,
    "lenVar": 40
   },
   "kernels_config": {
    "python": {
     "delete_cmd_postfix": "",
     "delete_cmd_prefix": "del ",
     "library": "var_list.py",
     "varRefreshCmd": "print(var_dic_list())"
    },
    "r": {
     "delete_cmd_postfix": ") ",
     "delete_cmd_prefix": "rm(",
     "library": "var_list.r",
     "varRefreshCmd": "cat(var_dic_list()) "
    }
   },
   "types_to_exclude": [
    "module",
    "function",
    "builtin_function_or_method",
    "instance",
    "_Feature"
   ],
   "window_display": false
  }
 },
 "nbformat": 4,
 "nbformat_minor": 2
}
