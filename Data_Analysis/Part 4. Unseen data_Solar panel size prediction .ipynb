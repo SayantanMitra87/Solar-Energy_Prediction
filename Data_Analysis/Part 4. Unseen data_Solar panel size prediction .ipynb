{
 "cells": [
  {
   "cell_type": "markdown",
   "metadata": {},
   "source": [
    "Author: Sayantan Mitra <br>\n",
    "Chief Data Scientist, Compton & Wendler<br>\n",
    "Ph.D. candidate, Baylor College of Medicine"
   ]
  },
  {
   "cell_type": "code",
   "execution_count": 1,
   "metadata": {},
   "outputs": [],
   "source": [
    "import numpy as np\n",
    "import pandas as pd\n",
    "from collections import Counter\n",
    "\n",
    "# VisualiZation\n",
    "import matplotlib.pyplot as plt\n",
    "%matplotlib inline\n",
    "import seaborn as sns\n",
    "sns.set_style(\"darkgrid\")\n",
    "\n",
    "# ignore warnings\n",
    "import warnings\n",
    "warnings.filterwarnings('ignore')"
   ]
  },
  {
   "cell_type": "markdown",
   "metadata": {},
   "source": [
    "### Goal 1: Predict size of solar panels of unseen data based on RIDGE regression model saved in notebook 2"
   ]
  },
  {
   "cell_type": "code",
   "execution_count": 2,
   "metadata": {},
   "outputs": [
    {
     "data": {
      "text/html": [
       "<div>\n",
       "<style scoped>\n",
       "    .dataframe tbody tr th:only-of-type {\n",
       "        vertical-align: middle;\n",
       "    }\n",
       "\n",
       "    .dataframe tbody tr th {\n",
       "        vertical-align: top;\n",
       "    }\n",
       "\n",
       "    .dataframe thead th {\n",
       "        text-align: right;\n",
       "    }\n",
       "</style>\n",
       "<table border=\"1\" class=\"dataframe\">\n",
       "  <thead>\n",
       "    <tr style=\"text-align: right;\">\n",
       "      <th></th>\n",
       "      <th>state</th>\n",
       "      <th>size_kw</th>\n",
       "      <th>zipcode</th>\n",
       "      <th>installer</th>\n",
       "      <th>city</th>\n",
       "      <th>tech_1</th>\n",
       "      <th>county</th>\n",
       "      <th>annual_PV_prod</th>\n",
       "      <th>year</th>\n",
       "    </tr>\n",
       "  </thead>\n",
       "  <tbody>\n",
       "    <tr>\n",
       "      <th>0</th>\n",
       "      <td>CA</td>\n",
       "      <td>4.675</td>\n",
       "      <td>91915</td>\n",
       "      <td>Rec Solar</td>\n",
       "      <td>CHULA VISTA</td>\n",
       "      <td>Poly</td>\n",
       "      <td>San Diego</td>\n",
       "      <td>7195.092078</td>\n",
       "      <td>2015</td>\n",
       "    </tr>\n",
       "    <tr>\n",
       "      <th>1</th>\n",
       "      <td>CA</td>\n",
       "      <td>4.050</td>\n",
       "      <td>93021</td>\n",
       "      <td>Advanced Solar Electric</td>\n",
       "      <td>Moorpark</td>\n",
       "      <td>Mono</td>\n",
       "      <td>Ventura</td>\n",
       "      <td>5890.233582</td>\n",
       "      <td>2009</td>\n",
       "    </tr>\n",
       "    <tr>\n",
       "      <th>2</th>\n",
       "      <td>CA</td>\n",
       "      <td>10.080</td>\n",
       "      <td>95608</td>\n",
       "      <td>Sierra Pacific Home &amp; Comfort</td>\n",
       "      <td>Carmichael</td>\n",
       "      <td>Poly</td>\n",
       "      <td>Sacramento</td>\n",
       "      <td>14574.754690</td>\n",
       "      <td>2012</td>\n",
       "    </tr>\n",
       "    <tr>\n",
       "      <th>3</th>\n",
       "      <td>NY</td>\n",
       "      <td>5.750</td>\n",
       "      <td>11795</td>\n",
       "      <td>NaN</td>\n",
       "      <td>West Islip</td>\n",
       "      <td>Poly</td>\n",
       "      <td>Suffolk</td>\n",
       "      <td>7537.072205</td>\n",
       "      <td>2015</td>\n",
       "    </tr>\n",
       "    <tr>\n",
       "      <th>4</th>\n",
       "      <td>CA</td>\n",
       "      <td>3.750</td>\n",
       "      <td>93444</td>\n",
       "      <td>SolarCity</td>\n",
       "      <td>Nipomo</td>\n",
       "      <td>Poly</td>\n",
       "      <td>San Luis Obispo</td>\n",
       "      <td>6262.514191</td>\n",
       "      <td>2014</td>\n",
       "    </tr>\n",
       "  </tbody>\n",
       "</table>\n",
       "</div>"
      ],
      "text/plain": [
       "  state  size_kw  zipcode                      installer         city tech_1  \\\n",
       "0    CA    4.675    91915                      Rec Solar  CHULA VISTA   Poly   \n",
       "1    CA    4.050    93021        Advanced Solar Electric     Moorpark   Mono   \n",
       "2    CA   10.080    95608  Sierra Pacific Home & Comfort   Carmichael   Poly   \n",
       "3    NY    5.750    11795                            NaN   West Islip   Poly   \n",
       "4    CA    3.750    93444                      SolarCity       Nipomo   Poly   \n",
       "\n",
       "            county  annual_PV_prod  year  \n",
       "0        San Diego     7195.092078  2015  \n",
       "1          Ventura     5890.233582  2009  \n",
       "2       Sacramento    14574.754690  2012  \n",
       "3          Suffolk     7537.072205  2015  \n",
       "4  San Luis Obispo     6262.514191  2014  "
      ]
     },
     "execution_count": 2,
     "metadata": {},
     "output_type": "execute_result"
    }
   ],
   "source": [
    "new_data = pd.read_csv('new_data.csv', usecols=['state', 'size_kw', 'zipcode', 'installer', 'city', \n",
    "                                                'tech_1', 'county', 'annual_PV_prod', 'year'])\n",
    "new_data.head()"
   ]
  },
  {
   "cell_type": "code",
   "execution_count": 3,
   "metadata": {},
   "outputs": [],
   "source": [
    "solar_train = pd.read_csv('solar_train.csv')\n",
    "# Extract 1st number of zipcode\n",
    "new_data['zipcode_1'] = new_data['zipcode'].astype('str').str[:1].astype(int)\n",
    "# year as a categorical column to take care of cardinality\n",
    "solar_train['year'] = solar_train['year'].astype('str')\n",
    "new_data['year'] = new_data['year'].astype('str')\n",
    "\n",
    "def group_levels_in_categoricals(df, threshold=0.01, min_freq=0, max_freq=np.Inf):\n",
    "    df0 = df.describe(include=['O']).T\n",
    "    # reduced list is name of categorical columns\n",
    "    reduced_list = df0[(df0.unique < max_freq) & (df0.unique > min_freq)].reset_index()['index'].tolist()\n",
    "    \n",
    "    #patterns will contain list of all categories of all categorical column whose occurance is more than threshold\n",
    "    patterns = []\n",
    "    other = []\n",
    "    for col in reduced_list:\n",
    "        df_normalized = df[col].value_counts(normalize=True).reset_index()\n",
    "        df_normalized.columns = ['col_name', 'normalized_value']\n",
    "        filt = df_normalized['normalized_value'] > threshold\n",
    "        # norm_list contains all the categories in a categorical column whose occurance is more than threshold    \n",
    "        norm_list = df_normalized[filt]['col_name'].tolist()\n",
    "        pattern = norm_list\n",
    "        patterns.append(norm_list)\n",
    "        # selecting categories that are present less than threshold\n",
    "        others_list = df_normalized[~filt]['col_name'].tolist()\n",
    "        other.append(others_list)\n",
    "        \n",
    "        if pattern != []: \n",
    "            df[col] = df[col].replace({x:'Other' for x in others_list})\n",
    "        else:\n",
    "            df.drop(col, inplace=True, axis=1)\n",
    "    return (df, patterns, reduced_list, other)\n",
    "df, patterns, reduced_list, other = group_levels_in_categoricals(solar_train)\n",
    "\n",
    "# We have to keep this consistent with test data as well\n",
    "def group_levels_in_categoricals_test(reduced_list, other, patterns, df_test):   \n",
    "    for idx, col in enumerate(reduced_list):       \n",
    "        if other[idx] != []:\n",
    "            filt = df_test[col].isin(patterns[idx])\n",
    "            df_test[col][~filt]='Others'\n",
    "        else:\n",
    "            df_test.drop(col, inplace=True, axis=1)       \n",
    "    return df_test\n",
    "new_data = group_levels_in_categoricals_test(reduced_list, other, patterns, new_data)"
   ]
  },
  {
   "cell_type": "markdown",
   "metadata": {},
   "source": [
    "**Data Preparation**"
   ]
  },
  {
   "cell_type": "code",
   "execution_count": 4,
   "metadata": {},
   "outputs": [],
   "source": [
    "# Feature engineering like train set in Notebook 2\n",
    "solar_train['size_kw_L'] = np.log1p(solar_train['size_kw'])\n",
    "new_data['size_kw_L'] = np.log1p(new_data['size_kw'])\n",
    "\n",
    "solar_train['annual_PV_prod_L'] = np.log1p(solar_train['annual_PV_prod'])\n",
    "new_data['annual_PV_prod_L'] = np.log1p(new_data['annual_PV_prod'])\n",
    "\n",
    "solar_train['annual_PV_prod_L-s2'] = solar_train['annual_PV_prod_L']** 2\n",
    "new_data['annual_PV_prod_L-s2'] = new_data['annual_PV_prod_L']** 2\n",
    "\n",
    "solar_train['zipcode_1'] = solar_train['zipcode_1'].apply(str)\n",
    "new_data['zipcode_1'] = new_data['zipcode_1'].apply(str)\n",
    "\n",
    "# Categorical encoding\n",
    "solar_train = pd.get_dummies(solar_train)\n",
    "new_data = pd.get_dummies(new_data)\n",
    "\n",
    "# Dependent variable\n",
    "new_data_real_size = new_data['size_kw']\n",
    "y = new_data[['size_kw_L']]\n",
    "y1 = new_data['size_kw_L']\n",
    "\n",
    "# Independent variables\n",
    "solar_train = solar_train.drop(columns=['size_kw', 'size_kw_L', 'zipcode', 'annual_PV_prod', 'annual_PV_prod_L'])                         \n",
    "new_data = new_data.drop(columns=['size_kw', 'size_kw_L', 'zipcode', 'annual_PV_prod', 'annual_PV_prod_L']) \n",
    "\n",
    "from sklearn.preprocessing import StandardScaler\n",
    "sc = StandardScaler()\n",
    "solar_train_stndz = sc.fit_transform(solar_train)\n",
    "new_data_stndz = sc.transform(new_data)"
   ]
  },
  {
   "cell_type": "markdown",
   "metadata": {},
   "source": [
    "### Testing the ridge model on unseen data"
   ]
  },
  {
   "cell_type": "code",
   "execution_count": 5,
   "metadata": {},
   "outputs": [
    {
     "name": "stdout",
     "output_type": "stream",
     "text": [
      "Saved ridge_model_r2 with new_data: 0.9644\n"
     ]
    }
   ],
   "source": [
    "from sklearn.externals import joblib\n",
    "rg1 =joblib.load('size_prediction_model.joblib')\n",
    "print(f'Saved ridge_model_r2 with new_data: {rg1.score(new_data_stndz, y).round(4)}')"
   ]
  },
  {
   "cell_type": "markdown",
   "metadata": {},
   "source": [
    "**Plotting predicted and actual size of solar panels**"
   ]
  },
  {
   "cell_type": "code",
   "execution_count": 6,
   "metadata": {},
   "outputs": [
    {
     "data": {
      "image/png": "[encoded data removed]",
      "text/plain": [
       "<Figure size 1152x432 with 1 Axes>"
      ]
     },
     "metadata": {
      "needs_background": "light"
     },
     "output_type": "display_data"
    }
   ],
   "source": [
    "# Relationship between actual solar panel and predicted solar panel size (transformed)\n",
    "fig, axes = plt.subplots(1,1, figsize = (16,6))\n",
    "y_pred_actual = np.exp(rg1.predict(new_data_stndz))\n",
    "size_pred = pd.DataFrame({'real_size':new_data_real_size, 'predicted_size':y_pred_actual})\n",
    "size_pred.sample(n=30).plot(kind='bar', ax=axes)\n",
    "axes.set_title('Relationship between actual and predicted solar panel size')\n",
    "axes.set_xticklabels('');"
   ]
  },
  {
   "cell_type": "markdown",
   "metadata": {},
   "source": [
    "■ Prediction on real size of solar panels of unseen data is pretty accurate."
   ]
  },
  {
   "cell_type": "markdown",
   "metadata": {},
   "source": [
    "### Goal 2: Predicting size of solar panel for an individual based on energy consumption<br>\n",
    "After getting electric bill for summer, Uncle Bob decides to opt for solar energy. He checks his power consumption and provides his details:<br>\n",
    "state= California (CA), installer=SolarCity, city=Nipomo, tech_1=Poly, county=San Luis Obispo, annual power consumption=6262.51, zipcode first number=9"
   ]
  },
  {
   "cell_type": "code",
   "execution_count": 7,
   "metadata": {},
   "outputs": [
    {
     "data": {
      "text/html": [
       "<div>\n",
       "<style scoped>\n",
       "    .dataframe tbody tr th:only-of-type {\n",
       "        vertical-align: middle;\n",
       "    }\n",
       "\n",
       "    .dataframe tbody tr th {\n",
       "        vertical-align: top;\n",
       "    }\n",
       "\n",
       "    .dataframe thead th {\n",
       "        text-align: right;\n",
       "    }\n",
       "</style>\n",
       "<table border=\"1\" class=\"dataframe\">\n",
       "  <thead>\n",
       "    <tr style=\"text-align: right;\">\n",
       "      <th></th>\n",
       "      <th>state</th>\n",
       "      <th>zipcode</th>\n",
       "      <th>installer</th>\n",
       "      <th>city</th>\n",
       "      <th>tech_1</th>\n",
       "      <th>county</th>\n",
       "      <th>annual_PV_prod</th>\n",
       "      <th>year</th>\n",
       "      <th>zipcode_1</th>\n",
       "    </tr>\n",
       "  </thead>\n",
       "  <tbody>\n",
       "    <tr>\n",
       "      <th>0</th>\n",
       "      <td>CA</td>\n",
       "      <td>93444</td>\n",
       "      <td>SolarCity</td>\n",
       "      <td>Nipomo</td>\n",
       "      <td>Poly</td>\n",
       "      <td>San Luis Obispo</td>\n",
       "      <td>6262.51</td>\n",
       "      <td>2014</td>\n",
       "      <td>9</td>\n",
       "    </tr>\n",
       "  </tbody>\n",
       "</table>\n",
       "</div>"
      ],
      "text/plain": [
       "  state  zipcode  installer    city tech_1           county  annual_PV_prod  \\\n",
       "0    CA    93444  SolarCity  Nipomo   Poly  San Luis Obispo         6262.51   \n",
       "\n",
       "   year  zipcode_1  \n",
       "0  2014          9  "
      ]
     },
     "execution_count": 7,
     "metadata": {},
     "output_type": "execute_result"
    }
   ],
   "source": [
    "uncle_bob  =pd.DataFrame({'state': 'CA', 'zipcode':93444, 'installer':'SolarCity', \n",
    "                          'city':'Nipomo', 'tech_1': 'Poly', 'county':'San Luis Obispo', \n",
    "                          'annual_PV_prod': 6262.51, 'year':'2014'}, index=[0])\n",
    "# Extract 1st number of zipciode\n",
    "uncle_bob['zipcode_1'] = uncle_bob['zipcode'].astype('str').str[:1].astype(int)\n",
    "uncle_bob"
   ]
  },
  {
   "cell_type": "markdown",
   "metadata": {},
   "source": [
    "**Data preparation**"
   ]
  },
  {
   "cell_type": "code",
   "execution_count": 8,
   "metadata": {},
   "outputs": [],
   "source": [
    "new_data = pd.read_csv('new_data.csv')\n",
    "new_data = pd.read_csv('new_data.csv', usecols=['state','zipcode','installer', 'city', 'tech_1', \n",
    "                                                'size_kw', 'county', 'annual_PV_prod', 'year', 'zipcode_1'])\n",
    "uncle_bob_test = new_data.append(uncle_bob, ignore_index=True)\n",
    "uncle_bob_test['year'] = uncle_bob_test['year'].astype('str')\n",
    "solar_train = pd.read_csv('solar_train.csv')\n",
    "solar_train['year'] = solar_train['year'].astype('str')\n",
    "\n",
    "# cardinality\n",
    "df, patterns, reduced_list, other = group_levels_in_categoricals(solar_train)\n",
    "uncle_bob_test  = group_levels_in_categoricals_test(reduced_list, other, patterns, uncle_bob_test)\n",
    "# Align columns\n",
    "uncle_bob_test = uncle_bob_test[solar_train.columns]\n",
    "\n",
    "# Feature engineering like train set in Notebook 2\n",
    "solar_train['size_kw_L'] = np.log1p(solar_train['size_kw'])\n",
    "uncle_bob_test['size_kw_L'] = np.log1p(uncle_bob_test['size_kw'])\n",
    "uncle_bob_test['annual_PV_prod_L'] = np.log1p(uncle_bob_test['annual_PV_prod'])\n",
    "solar_train['annual_PV_prod_L'] = np.log1p(solar_train['annual_PV_prod'])\n",
    "uncle_bob_test['annual_PV_prod_L-s2'] = uncle_bob_test['annual_PV_prod_L']** 2\n",
    "solar_train['annual_PV_prod_L-s2'] = solar_train['annual_PV_prod_L']** 2\n",
    "uncle_bob_test['zipcode_1'] = uncle_bob_test['zipcode_1'].apply(str)\n",
    "solar_train['zipcode_1'] = solar_train['zipcode_1'].apply(str)\n",
    "\n",
    "# Categorical encoding\n",
    "solar_train = pd.get_dummies(solar_train)\n",
    "uncle_bob_test1 = pd.get_dummies(uncle_bob_test)\n",
    "solar_train.shape, uncle_bob_test1.shape\n",
    "\n",
    "# actual size of solar panels\n",
    "y = uncle_bob_test1['size_kw']\n",
    "y_new_data = y[:-1]\n",
    "\n",
    "# Drop columns\n",
    "uncle_bob_test1 = uncle_bob_test1.drop(columns=[ 'size_kw', 'size_kw_L', 'zipcode', 'annual_PV_prod', 'annual_PV_prod_L']) \n",
    "solar_train = solar_train.drop(columns=[ 'size_kw', 'size_kw_L', 'zipcode', 'annual_PV_prod', 'annual_PV_prod_L']) \n",
    "solar_train.shape, uncle_bob_test1.shape\n",
    "\n",
    "# Scale data\n",
    "from sklearn.preprocessing import StandardScaler\n",
    "sc = StandardScaler()\n",
    "solar_train_stndz = sc.fit_transform(solar_train)\n",
    "uncle_bob_stndz = sc.transform(uncle_bob_test1)"
   ]
  },
  {
   "cell_type": "markdown",
   "metadata": {},
   "source": [
    "### Predicting size of the solar panel uncle Bob need to install based on  power consumption !"
   ]
  },
  {
   "cell_type": "code",
   "execution_count": 9,
   "metadata": {},
   "outputs": [
    {
     "data": {
      "text/html": [
       "<div>\n",
       "<style scoped>\n",
       "    .dataframe tbody tr th:only-of-type {\n",
       "        vertical-align: middle;\n",
       "    }\n",
       "\n",
       "    .dataframe tbody tr th {\n",
       "        vertical-align: top;\n",
       "    }\n",
       "\n",
       "    .dataframe thead th {\n",
       "        text-align: right;\n",
       "    }\n",
       "</style>\n",
       "<table border=\"1\" class=\"dataframe\">\n",
       "  <thead>\n",
       "    <tr style=\"text-align: right;\">\n",
       "      <th></th>\n",
       "      <th>annual_PV_prod</th>\n",
       "      <th>predicted_size</th>\n",
       "    </tr>\n",
       "  </thead>\n",
       "  <tbody>\n",
       "    <tr>\n",
       "      <th>97451</th>\n",
       "      <td>6262.51</td>\n",
       "      <td>5.325729</td>\n",
       "    </tr>\n",
       "  </tbody>\n",
       "</table>\n",
       "</div>"
      ],
      "text/plain": [
       "       annual_PV_prod  predicted_size\n",
       "97451         6262.51        5.325729"
      ]
     },
     "execution_count": 9,
     "metadata": {},
     "output_type": "execute_result"
    }
   ],
   "source": [
    "uncle_bob_pred = np.exp(rg1.predict(uncle_bob_stndz))\n",
    "size_array = pd.DataFrame(uncle_bob_pred)\n",
    "df = pd.concat([uncle_bob_test, size_array], axis=1)\n",
    "df.rename(columns={0: 'predicted_size'}, inplace=True)\n",
    "df.iloc[[-1],[7,-1]]"
   ]
  },
  {
   "cell_type": "markdown",
   "metadata": {},
   "source": [
    "Uncle bob needs to install solar panel of 5.3kw to replace total annual traditional energy consumption of 6262.51kwh."
   ]
  }
 ],
 "metadata": {
  "kernelspec": {
   "display_name": "Python 3",
   "language": "python",
   "name": "python3"
  },
  "language_info": {
   "codemirror_mode": {
    "name": "ipython",
    "version": 3
   },
   "file_extension": ".py",
   "mimetype": "text/x-python",
   "name": "python",
   "nbconvert_exporter": "python",
   "pygments_lexer": "ipython3",
   "version": "3.7.3"
  }
 },
 "nbformat": 4,
 "nbformat_minor": 2
}
