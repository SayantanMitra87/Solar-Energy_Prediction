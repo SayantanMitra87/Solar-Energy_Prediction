{
 "cells": [
  {
   "cell_type": "code",
   "execution_count": 1,
   "metadata": {},
   "outputs": [],
   "source": [
    "import numpy as np\n",
    "import pandas as pd\n",
    "import seaborn as sns\n",
    "import matplotlib.pyplot as plt"
   ]
  },
  {
   "cell_type": "code",
   "execution_count": 2,
   "metadata": {},
   "outputs": [
    {
     "data": {
      "text/plain": [
       "(7956, 21)"
      ]
     },
     "execution_count": 2,
     "metadata": {},
     "output_type": "execute_result"
    }
   ],
   "source": [
    "solar = pd.read_csv('solar.csv') \n",
    "solar.head(2)\n",
    "solar.shape"
   ]
  },
  {
   "cell_type": "code",
   "execution_count": 3,
   "metadata": {},
   "outputs": [
    {
     "data": {
      "text/html": [
       "<div>\n",
       "<style scoped>\n",
       "    .dataframe tbody tr th:only-of-type {\n",
       "        vertical-align: middle;\n",
       "    }\n",
       "\n",
       "    .dataframe tbody tr th {\n",
       "        vertical-align: top;\n",
       "    }\n",
       "\n",
       "    .dataframe thead th {\n",
       "        text-align: right;\n",
       "    }\n",
       "</style>\n",
       "<table border=\"1\" class=\"dataframe\">\n",
       "  <thead>\n",
       "    <tr style=\"text-align: right;\">\n",
       "      <th></th>\n",
       "      <th>Unnamed: 0</th>\n",
       "      <th>state</th>\n",
       "      <th>date_installed</th>\n",
       "      <th>incentive_prog_names</th>\n",
       "      <th>size_kw</th>\n",
       "      <th>zipcode</th>\n",
       "      <th>install_type</th>\n",
       "      <th>installer</th>\n",
       "      <th>cost_per_watt</th>\n",
       "      <th>cost</th>\n",
       "      <th>...</th>\n",
       "      <th>utility_clean</th>\n",
       "      <th>tech_1</th>\n",
       "      <th>model1_clean</th>\n",
       "      <th>county</th>\n",
       "      <th>annual_PV_prod</th>\n",
       "      <th>annual_insolation</th>\n",
       "      <th>rebate</th>\n",
       "      <th>sales_tax_cost</th>\n",
       "      <th>tracking_type</th>\n",
       "      <th>reported_annual_energy_prod</th>\n",
       "    </tr>\n",
       "  </thead>\n",
       "  <tbody>\n",
       "    <tr>\n",
       "      <th>0</th>\n",
       "      <td>0</td>\n",
       "      <td>TX</td>\n",
       "      <td>12/12/2013</td>\n",
       "      <td>Austin Energy</td>\n",
       "      <td>10.56</td>\n",
       "      <td>78702</td>\n",
       "      <td>residential</td>\n",
       "      <td>NaN</td>\n",
       "      <td>2.897777</td>\n",
       "      <td>30600.53</td>\n",
       "      <td>...</td>\n",
       "      <td>Austin Energy</td>\n",
       "      <td>Poly</td>\n",
       "      <td>CHSM6610P-240</td>\n",
       "      <td>Travis</td>\n",
       "      <td>14999.831600</td>\n",
       "      <td>5.157692</td>\n",
       "      <td>15000.0</td>\n",
       "      <td>1151.693704</td>\n",
       "      <td>Fixed</td>\n",
       "      <td>13836.0</td>\n",
       "    </tr>\n",
       "    <tr>\n",
       "      <th>1</th>\n",
       "      <td>1</td>\n",
       "      <td>TX</td>\n",
       "      <td>7/11/2014</td>\n",
       "      <td>Austin Energy</td>\n",
       "      <td>12.72</td>\n",
       "      <td>78702</td>\n",
       "      <td>residential</td>\n",
       "      <td>NaN</td>\n",
       "      <td>3.144654</td>\n",
       "      <td>40000.00</td>\n",
       "      <td>...</td>\n",
       "      <td>Austin Energy</td>\n",
       "      <td>Mono</td>\n",
       "      <td>SLA265M3A</td>\n",
       "      <td>Travis</td>\n",
       "      <td>17811.574390</td>\n",
       "      <td>5.085633</td>\n",
       "      <td>15000.0</td>\n",
       "      <td>1507.165990</td>\n",
       "      <td>Fixed</td>\n",
       "      <td>16419.0</td>\n",
       "    </tr>\n",
       "    <tr>\n",
       "      <th>2</th>\n",
       "      <td>2</td>\n",
       "      <td>TX</td>\n",
       "      <td>1/17/2014</td>\n",
       "      <td>Austin Energy</td>\n",
       "      <td>5.40</td>\n",
       "      <td>78702</td>\n",
       "      <td>residential</td>\n",
       "      <td>NaN</td>\n",
       "      <td>4.197330</td>\n",
       "      <td>22665.58</td>\n",
       "      <td>...</td>\n",
       "      <td>Austin Energy</td>\n",
       "      <td>Mono</td>\n",
       "      <td>PLM-300M-72</td>\n",
       "      <td>Travis</td>\n",
       "      <td>7833.742822</td>\n",
       "      <td>5.262714</td>\n",
       "      <td>7735.5</td>\n",
       "      <td>854.019783</td>\n",
       "      <td>Fixed</td>\n",
       "      <td>7235.0</td>\n",
       "    </tr>\n",
       "    <tr>\n",
       "      <th>3</th>\n",
       "      <td>3</td>\n",
       "      <td>TX</td>\n",
       "      <td>9/27/2012</td>\n",
       "      <td>Austin Energy</td>\n",
       "      <td>7.50</td>\n",
       "      <td>78702</td>\n",
       "      <td>residential</td>\n",
       "      <td>NaN</td>\n",
       "      <td>3.750000</td>\n",
       "      <td>28125.00</td>\n",
       "      <td>...</td>\n",
       "      <td>Austin Energy</td>\n",
       "      <td>Poly</td>\n",
       "      <td>multiple matches</td>\n",
       "      <td>Travis</td>\n",
       "      <td>10151.709590</td>\n",
       "      <td>4.920972</td>\n",
       "      <td>14550.0</td>\n",
       "      <td>1058.523673</td>\n",
       "      <td>Fixed</td>\n",
       "      <td>9340.0</td>\n",
       "    </tr>\n",
       "    <tr>\n",
       "      <th>4</th>\n",
       "      <td>4</td>\n",
       "      <td>TX</td>\n",
       "      <td>9/26/2012</td>\n",
       "      <td>Austin Energy</td>\n",
       "      <td>5.00</td>\n",
       "      <td>78702</td>\n",
       "      <td>residential</td>\n",
       "      <td>NaN</td>\n",
       "      <td>3.850000</td>\n",
       "      <td>19250.00</td>\n",
       "      <td>...</td>\n",
       "      <td>Austin Energy</td>\n",
       "      <td>Poly</td>\n",
       "      <td>multiple matches</td>\n",
       "      <td>Travis</td>\n",
       "      <td>7307.133789</td>\n",
       "      <td>5.304778</td>\n",
       "      <td>9600.0</td>\n",
       "      <td>724.500647</td>\n",
       "      <td>Fixed</td>\n",
       "      <td>6729.0</td>\n",
       "    </tr>\n",
       "  </tbody>\n",
       "</table>\n",
       "<p>5 rows × 21 columns</p>\n",
       "</div>"
      ],
      "text/plain": [
       "   Unnamed: 0 state  date_installed incentive_prog_names  size_kw  zipcode  \\\n",
       "0           0     TX     12/12/2013        Austin Energy    10.56    78702   \n",
       "1           1     TX      7/11/2014        Austin Energy    12.72    78702   \n",
       "2           2     TX      1/17/2014        Austin Energy     5.40    78702   \n",
       "3           3     TX      9/27/2012        Austin Energy     7.50    78702   \n",
       "4           4     TX      9/26/2012        Austin Energy     5.00    78702   \n",
       "\n",
       "  install_type installer  cost_per_watt      cost             ...              \\\n",
       "0  residential       NaN       2.897777  30600.53             ...               \n",
       "1  residential       NaN       3.144654  40000.00             ...               \n",
       "2  residential       NaN       4.197330  22665.58             ...               \n",
       "3  residential       NaN       3.750000  28125.00             ...               \n",
       "4  residential       NaN       3.850000  19250.00             ...               \n",
       "\n",
       "   utility_clean tech_1      model1_clean  county annual_PV_prod  \\\n",
       "0  Austin Energy   Poly     CHSM6610P-240  Travis   14999.831600   \n",
       "1  Austin Energy   Mono         SLA265M3A  Travis   17811.574390   \n",
       "2  Austin Energy   Mono       PLM-300M-72  Travis    7833.742822   \n",
       "3  Austin Energy   Poly  multiple matches  Travis   10151.709590   \n",
       "4  Austin Energy   Poly  multiple matches  Travis    7307.133789   \n",
       "\n",
       "   annual_insolation   rebate  sales_tax_cost  tracking_type  \\\n",
       "0           5.157692  15000.0     1151.693704          Fixed   \n",
       "1           5.085633  15000.0     1507.165990          Fixed   \n",
       "2           5.262714   7735.5      854.019783          Fixed   \n",
       "3           4.920972  14550.0     1058.523673          Fixed   \n",
       "4           5.304778   9600.0      724.500647          Fixed   \n",
       "\n",
       "  reported_annual_energy_prod  \n",
       "0                     13836.0  \n",
       "1                     16419.0  \n",
       "2                      7235.0  \n",
       "3                      9340.0  \n",
       "4                      6729.0  \n",
       "\n",
       "[5 rows x 21 columns]"
      ]
     },
     "execution_count": 3,
     "metadata": {},
     "output_type": "execute_result"
    }
   ],
   "source": [
    "solar.head()"
   ]
  },
  {
   "cell_type": "code",
   "execution_count": 4,
   "metadata": {},
   "outputs": [
    {
     "data": {
      "text/html": [
       "<div>\n",
       "<style scoped>\n",
       "    .dataframe tbody tr th:only-of-type {\n",
       "        vertical-align: middle;\n",
       "    }\n",
       "\n",
       "    .dataframe tbody tr th {\n",
       "        vertical-align: top;\n",
       "    }\n",
       "\n",
       "    .dataframe thead th {\n",
       "        text-align: right;\n",
       "    }\n",
       "</style>\n",
       "<table border=\"1\" class=\"dataframe\">\n",
       "  <thead>\n",
       "    <tr style=\"text-align: right;\">\n",
       "      <th></th>\n",
       "      <th>Description</th>\n",
       "    </tr>\n",
       "    <tr>\n",
       "      <th>Column Name</th>\n",
       "      <th></th>\n",
       "    </tr>\n",
       "  </thead>\n",
       "  <tbody>\n",
       "    <tr>\n",
       "      <th>state</th>\n",
       "      <td>This data is from state Texas</td>\n",
       "    </tr>\n",
       "    <tr>\n",
       "      <th>date_installed</th>\n",
       "      <td>it represents the approximate time when installation was done</td>\n",
       "    </tr>\n",
       "    <tr>\n",
       "      <th>incentive_prog_names</th>\n",
       "      <td>Sources</td>\n",
       "    </tr>\n",
       "    <tr>\n",
       "      <th>size_kw</th>\n",
       "      <td>Size of solar panels</td>\n",
       "    </tr>\n",
       "    <tr>\n",
       "      <th>zipcode</th>\n",
       "      <td>Host customer zipcode</td>\n",
       "    </tr>\n",
       "    <tr>\n",
       "      <th>install_type</th>\n",
       "      <td>Consumer types for solar panels</td>\n",
       "    </tr>\n",
       "    <tr>\n",
       "      <th>installer</th>\n",
       "      <td>Companies that install solar panels</td>\n",
       "    </tr>\n",
       "    <tr>\n",
       "      <th>cost_per_watt</th>\n",
       "      <td>The average price per watt for solar panels</td>\n",
       "    </tr>\n",
       "    <tr>\n",
       "      <th>cost</th>\n",
       "      <td>The reported cost of modules.</td>\n",
       "    </tr>\n",
       "    <tr>\n",
       "      <th>city</th>\n",
       "      <td>Host customer city in Texas</td>\n",
       "    </tr>\n",
       "    <tr>\n",
       "      <th>utility_clean</th>\n",
       "      <td>municipal electric utility companies serving the cities of Texas</td>\n",
       "    </tr>\n",
       "    <tr>\n",
       "      <th>tech_1</th>\n",
       "      <td>Types of solar panel</td>\n",
       "    </tr>\n",
       "    <tr>\n",
       "      <th>model1_clean</th>\n",
       "      <td>Solar panels modules used</td>\n",
       "    </tr>\n",
       "    <tr>\n",
       "      <th>county</th>\n",
       "      <td>Host customer county.</td>\n",
       "    </tr>\n",
       "    <tr>\n",
       "      <th>annual_PV_prod</th>\n",
       "      <td>Annual photovoltaic energy production</td>\n",
       "    </tr>\n",
       "    <tr>\n",
       "      <th>annual_insolation</th>\n",
       "      <td>Annual solar Insolation is the amount of electromagnetic energy (solar radiation) incident on the surface of the earth.</td>\n",
       "    </tr>\n",
       "    <tr>\n",
       "      <th>rebate</th>\n",
       "      <td>The pre-tax value of any up-front rebate or grant provided by the entity</td>\n",
       "    </tr>\n",
       "    <tr>\n",
       "      <th>sales_tax_cost</th>\n",
       "      <td>The calculated cost of sales taxes.</td>\n",
       "    </tr>\n",
       "    <tr>\n",
       "      <th>tracking_type</th>\n",
       "      <td>Indicates if tracking equipment is single-axis or dual-axis</td>\n",
       "    </tr>\n",
       "    <tr>\n",
       "      <th>reported_annual_energy_prod</th>\n",
       "      <td>Annual energy production by the solar panels</td>\n",
       "    </tr>\n",
       "  </tbody>\n",
       "</table>\n",
       "</div>"
      ],
      "text/plain": [
       "                                                                                                                                         Description\n",
       "Column Name                                                                                                                                         \n",
       "state                                                                                                                  This data is from state Texas\n",
       "date_installed                                                                         it represents the approximate time when installation was done\n",
       "incentive_prog_names                                                                                                                        Sources \n",
       "size_kw                                                                                                                         Size of solar panels\n",
       "zipcode                                                                                                                        Host customer zipcode\n",
       "install_type                                                                                                         Consumer types for solar panels\n",
       "installer                                                                                                        Companies that install solar panels\n",
       "cost_per_watt                                                                                           The average price per watt for solar panels \n",
       "cost                                                                                                                   The reported cost of modules.\n",
       "city                                                                                                                     Host customer city in Texas\n",
       "utility_clean                                                                      municipal electric utility companies serving the cities of Texas \n",
       "tech_1                                                                                                                         Types of solar panel \n",
       "model1_clean                                                                                                               Solar panels modules used\n",
       "county                                                                                                                        Host customer county. \n",
       "annual_PV_prod                                                                                                 Annual photovoltaic energy production\n",
       "annual_insolation            Annual solar Insolation is the amount of electromagnetic energy (solar radiation) incident on the surface of the earth.\n",
       "rebate                                                                      The pre-tax value of any up-front rebate or grant provided by the entity\n",
       "sales_tax_cost                                                                                                   The calculated cost of sales taxes.\n",
       "tracking_type                                                                            Indicates if tracking equipment is single-axis or dual-axis\n",
       "reported_annual_energy_prod                                                                             Annual energy production by the solar panels"
      ]
     },
     "execution_count": 4,
     "metadata": {},
     "output_type": "execute_result"
    }
   ],
   "source": [
    "pd.options.display.max_colwidth = 130\n",
    "solar_dictionary = pd.read_excel('solar_dictionary.xlsx', index_col='Column Name')\n",
    "solar_dictionary"
   ]
  },
  {
   "cell_type": "code",
   "execution_count": 5,
   "metadata": {},
   "outputs": [
    {
     "data": {
      "image/png": "[encoded data removed]",
      "text/plain": [
       "<Figure size 1152x864 with 2 Axes>"
      ]
     },
     "metadata": {
      "needs_background": "light"
     },
     "output_type": "display_data"
    }
   ],
   "source": [
    "sns.heatmap(solar.corr(),annot=True,cmap='viridis',linewidths=0.2,annot_kws={'size':15})\n",
    "fig=plt.gcf()\n",
    "fig.set_size_inches(16,12)\n",
    "plt.xticks(fontsize=14)\n",
    "plt.yticks(fontsize=14)\n",
    "plt.show()"
   ]
  },
  {
   "cell_type": "code",
   "execution_count": 6,
   "metadata": {},
   "outputs": [
    {
     "data": {
      "text/plain": [
       "Unnamed: 0                        0\n",
       "state                             0\n",
       "date_installed                    0\n",
       "incentive_prog_names              0\n",
       "size_kw                           0\n",
       "zipcode                           0\n",
       "install_type                      0\n",
       "installer                      4675\n",
       "cost_per_watt                     2\n",
       "cost                              2\n",
       "city                              0\n",
       "utility_clean                     0\n",
       "tech_1                         1153\n",
       "model1_clean                   1153\n",
       "county                         3252\n",
       "annual_PV_prod                  251\n",
       "annual_insolation               251\n",
       "rebate                           51\n",
       "sales_tax_cost                    2\n",
       "tracking_type                  3299\n",
       "reported_annual_energy_prod       0\n",
       "dtype: int64"
      ]
     },
     "execution_count": 6,
     "metadata": {},
     "output_type": "execute_result"
    }
   ],
   "source": [
    "solar.isna().sum()"
   ]
  },
  {
   "cell_type": "code",
   "execution_count": 7,
   "metadata": {},
   "outputs": [
    {
     "data": {
      "text/plain": [
       "Unnamed: 0                     7956\n",
       "state                             1\n",
       "date_installed                 1819\n",
       "incentive_prog_names              2\n",
       "size_kw                        1082\n",
       "zipcode                         138\n",
       "install_type                      4\n",
       "installer                        70\n",
       "cost_per_watt                  5357\n",
       "cost                           5564\n",
       "city                              6\n",
       "utility_clean                     2\n",
       "tech_1                            8\n",
       "model1_clean                    574\n",
       "county                            3\n",
       "annual_PV_prod                 4669\n",
       "annual_insolation              1844\n",
       "rebate                         3941\n",
       "sales_tax_cost                 5960\n",
       "tracking_type                     1\n",
       "reported_annual_energy_prod    5351\n",
       "dtype: int64"
      ]
     },
     "execution_count": 7,
     "metadata": {},
     "output_type": "execute_result"
    }
   ],
   "source": [
    "solar.nunique()"
   ]
  },
  {
   "cell_type": "code",
   "execution_count": 8,
   "metadata": {},
   "outputs": [
    {
     "data": {
      "text/plain": [
       "Austin Energy    4672\n",
       "CPS Energy       3284\n",
       "Name: incentive_prog_names, dtype: int64"
      ]
     },
     "execution_count": 8,
     "metadata": {},
     "output_type": "execute_result"
    }
   ],
   "source": [
    "# col1 \n",
    "solar['incentive_prog_names'].value_counts()"
   ]
  },
  {
   "cell_type": "markdown",
   "metadata": {},
   "source": [
    "In texas these 2 incentive programs <br/>\n",
    "**Austin Energy** - If you live in Austin, you can get a rebate that ranges from $0.50 to $0.80 per Watt (W) of solar power installed on your home.<br/>\n",
    "**CPS Energy** - If you’re a CPS Energy customer, you can receive up to $1.20/W of solar panels that you install on your roof."
   ]
  },
  {
   "cell_type": "code",
   "execution_count": 11,
   "metadata": {},
   "outputs": [
    {
     "data": {
      "text/plain": [
       "(0.16, 400.0)"
      ]
     },
     "execution_count": 11,
     "metadata": {},
     "output_type": "execute_result"
    }
   ],
   "source": [
    "# col2\n",
    "solar['size_kw'].min(), solar['size_kw'].max() # amount of energy produced \n",
    "# higher size_KW more energy will be produced"
   ]
  },
  {
   "cell_type": "code",
   "execution_count": 13,
   "metadata": {},
   "outputs": [
    {
     "data": {
      "text/html": [
       "<div>\n",
       "<style scoped>\n",
       "    .dataframe tbody tr th:only-of-type {\n",
       "        vertical-align: middle;\n",
       "    }\n",
       "\n",
       "    .dataframe tbody tr th {\n",
       "        vertical-align: top;\n",
       "    }\n",
       "\n",
       "    .dataframe thead th {\n",
       "        text-align: right;\n",
       "    }\n",
       "</style>\n",
       "<table border=\"1\" class=\"dataframe\">\n",
       "  <thead>\n",
       "    <tr style=\"text-align: right;\">\n",
       "      <th></th>\n",
       "      <th>cost</th>\n",
       "      <th>cost_per_watt</th>\n",
       "      <th>annual_PV_prod</th>\n",
       "      <th>reported_annual_energy_prod</th>\n",
       "    </tr>\n",
       "  </thead>\n",
       "  <tbody>\n",
       "    <tr>\n",
       "      <th>7333</th>\n",
       "      <td>1446.0</td>\n",
       "      <td>9.0375</td>\n",
       "      <td>202.553731</td>\n",
       "      <td>185.0</td>\n",
       "    </tr>\n",
       "  </tbody>\n",
       "</table>\n",
       "</div>"
      ],
      "text/plain": [
       "        cost  cost_per_watt  annual_PV_prod  reported_annual_energy_prod\n",
       "7333  1446.0         9.0375      202.553731                        185.0"
      ]
     },
     "execution_count": 13,
     "metadata": {},
     "output_type": "execute_result"
    }
   ],
   "source": [
    "filt = solar['size_kw']==0.16\n",
    "solar[filt][['cost', 'cost_per_watt', 'annual_PV_prod', 'reported_annual_energy_prod']]"
   ]
  },
  {
   "cell_type": "code",
   "execution_count": 14,
   "metadata": {},
   "outputs": [
    {
     "data": {
      "text/html": [
       "<div>\n",
       "<style scoped>\n",
       "    .dataframe tbody tr th:only-of-type {\n",
       "        vertical-align: middle;\n",
       "    }\n",
       "\n",
       "    .dataframe tbody tr th {\n",
       "        vertical-align: top;\n",
       "    }\n",
       "\n",
       "    .dataframe thead th {\n",
       "        text-align: right;\n",
       "    }\n",
       "</style>\n",
       "<table border=\"1\" class=\"dataframe\">\n",
       "  <thead>\n",
       "    <tr style=\"text-align: right;\">\n",
       "      <th></th>\n",
       "      <th>cost</th>\n",
       "      <th>cost_per_watt</th>\n",
       "      <th>annual_PV_prod</th>\n",
       "      <th>reported_annual_energy_prod</th>\n",
       "    </tr>\n",
       "  </thead>\n",
       "  <tbody>\n",
       "    <tr>\n",
       "      <th>2090</th>\n",
       "      <td>1615756.88</td>\n",
       "      <td>4.039392</td>\n",
       "      <td>595664.2578</td>\n",
       "      <td>503220.0</td>\n",
       "    </tr>\n",
       "  </tbody>\n",
       "</table>\n",
       "</div>"
      ],
      "text/plain": [
       "            cost  cost_per_watt  annual_PV_prod  reported_annual_energy_prod\n",
       "2090  1615756.88       4.039392     595664.2578                     503220.0"
      ]
     },
     "execution_count": 14,
     "metadata": {},
     "output_type": "execute_result"
    }
   ],
   "source": [
    "filt = solar['size_kw']==400\n",
    "solar[filt][['cost', 'cost_per_watt', 'annual_PV_prod', 'reported_annual_energy_prod']]"
   ]
  },
  {
   "cell_type": "markdown",
   "metadata": {},
   "source": [
    "#### Knowing anuual production will be like cheating. Confirm with Vivek whether removing this column will make the problem more meaningful towards a dataproduct"
   ]
  },
  {
   "cell_type": "code",
   "execution_count": 16,
   "metadata": {},
   "outputs": [
    {
     "data": {
      "text/plain": [
       "residential    7581\n",
       "commercial      331\n",
       "educational      29\n",
       "government       15\n",
       "Name: install_type, dtype: int64"
      ]
     },
     "execution_count": 16,
     "metadata": {},
     "output_type": "execute_result"
    }
   ],
   "source": [
    "# col3\n",
    "solar['install_type'].value_counts()"
   ]
  },
  {
   "cell_type": "code",
   "execution_count": 18,
   "metadata": {},
   "outputs": [
    {
     "data": {
      "text/plain": [
       "Advanced Solar & Electric    884\n",
       "Cam Solar                    207\n",
       "Imagine Homes                202\n",
       "Freedom Solar Power          157\n",
       "IES Residential              149\n",
       "Name: installer, dtype: int64"
      ]
     },
     "execution_count": 18,
     "metadata": {},
     "output_type": "execute_result"
    }
   ],
   "source": [
    "# col4\n",
    "solar['installer'].value_counts().head() #different companies that install solar panels"
   ]
  },
  {
   "cell_type": "code",
   "execution_count": 26,
   "metadata": {},
   "outputs": [
    {
     "data": {
      "text/plain": [
       "4.2783915222069275"
      ]
     },
     "execution_count": 26,
     "metadata": {},
     "output_type": "execute_result"
    }
   ],
   "source": [
    "# col5\n",
    "solar['cost_per_watt'].mean()#value_counts()#.tail()"
   ]
  },
  {
   "cell_type": "markdown",
   "metadata": {},
   "source": [
    "# Question1 col6. Cost column-Not clear about cost term. Also, should this be target or annual energy production?"
   ]
  },
  {
   "cell_type": "code",
   "execution_count": 27,
   "metadata": {},
   "outputs": [
    {
     "data": {
      "text/plain": [
       "Austin Energy    4672\n",
       "CPS Energy       3284\n",
       "Name: utility_clean, dtype: int64"
      ]
     },
     "execution_count": 27,
     "metadata": {},
     "output_type": "execute_result"
    }
   ],
   "source": [
    "# col7\n",
    "solar['utility_clean'].value_counts()"
   ]
  },
  {
   "cell_type": "markdown",
   "metadata": {},
   "source": [
    "same as solar['incentive_prog_names']. Remove it?"
   ]
  },
  {
   "cell_type": "code",
   "execution_count": 32,
   "metadata": {},
   "outputs": [
    {
     "name": "stdout",
     "output_type": "stream",
     "text": [
      "7956\n"
     ]
    },
    {
     "data": {
      "text/plain": [
       "7956"
      ]
     },
     "execution_count": 32,
     "metadata": {},
     "output_type": "execute_result"
    }
   ],
   "source": [
    "print((solar['utility_clean']== solar['incentive_prog_names']).sum())\n",
    "len(solar['utility_clean']== solar['incentive_prog_names'])"
   ]
  },
  {
   "cell_type": "code",
   "execution_count": 35,
   "metadata": {},
   "outputs": [
    {
     "data": {
      "text/plain": [
       "Index(['Poly', 'Mono', 'CIGS', 'crystalline', 'Mono + a-Si', 'a-Si + Micro-c',\n",
       "       'multiple', 'a-Si'],\n",
       "      dtype='object')"
      ]
     },
     "execution_count": 35,
     "metadata": {},
     "output_type": "execute_result"
    }
   ],
   "source": [
    "# col8\n",
    "solar['tech_1'].value_counts().index\n",
    "# different types of sillicon based solar panels"
   ]
  },
  {
   "cell_type": "code",
   "execution_count": 37,
   "metadata": {},
   "outputs": [
    {
     "data": {
      "text/html": [
       "<div>\n",
       "<style scoped>\n",
       "    .dataframe tbody tr th:only-of-type {\n",
       "        vertical-align: middle;\n",
       "    }\n",
       "\n",
       "    .dataframe tbody tr th {\n",
       "        vertical-align: top;\n",
       "    }\n",
       "\n",
       "    .dataframe thead th {\n",
       "        text-align: right;\n",
       "    }\n",
       "</style>\n",
       "<table border=\"1\" class=\"dataframe\">\n",
       "  <thead>\n",
       "    <tr style=\"text-align: right;\">\n",
       "      <th></th>\n",
       "      <th>reported_annual_energy_prod</th>\n",
       "    </tr>\n",
       "    <tr>\n",
       "      <th>tech_1</th>\n",
       "      <th></th>\n",
       "    </tr>\n",
       "  </thead>\n",
       "  <tbody>\n",
       "    <tr>\n",
       "      <th>CIGS</th>\n",
       "      <td>7373.808743</td>\n",
       "    </tr>\n",
       "    <tr>\n",
       "      <th>Mono</th>\n",
       "      <td>7646.362805</td>\n",
       "    </tr>\n",
       "    <tr>\n",
       "      <th>Mono + a-Si</th>\n",
       "      <td>11329.550000</td>\n",
       "    </tr>\n",
       "    <tr>\n",
       "      <th>Poly</th>\n",
       "      <td>8655.895408</td>\n",
       "    </tr>\n",
       "    <tr>\n",
       "      <th>a-Si</th>\n",
       "      <td>12071.625000</td>\n",
       "    </tr>\n",
       "    <tr>\n",
       "      <th>a-Si + Micro-c</th>\n",
       "      <td>6694.347826</td>\n",
       "    </tr>\n",
       "    <tr>\n",
       "      <th>crystalline</th>\n",
       "      <td>11926.378571</td>\n",
       "    </tr>\n",
       "    <tr>\n",
       "      <th>multiple</th>\n",
       "      <td>6399.562500</td>\n",
       "    </tr>\n",
       "  </tbody>\n",
       "</table>\n",
       "</div>"
      ],
      "text/plain": [
       "                reported_annual_energy_prod\n",
       "tech_1                                     \n",
       "CIGS                            7373.808743\n",
       "Mono                            7646.362805\n",
       "Mono + a-Si                    11329.550000\n",
       "Poly                            8655.895408\n",
       "a-Si                           12071.625000\n",
       "a-Si + Micro-c                  6694.347826\n",
       "crystalline                    11926.378571\n",
       "multiple                        6399.562500"
      ]
     },
     "execution_count": 37,
     "metadata": {},
     "output_type": "execute_result"
    }
   ],
   "source": [
    "solar.groupby('tech_1').agg({'reported_annual_energy_prod':'mean'}) # might be a determinant"
   ]
  },
  {
   "cell_type": "code",
   "execution_count": 46,
   "metadata": {},
   "outputs": [
    {
     "data": {
      "text/plain": [
       "multiple matches    1426\n",
       "ET-P672300WBG        409\n",
       "SPR-E20-327          125\n",
       "SW270 Mono Black     120\n",
       "SPR-X21-345           90\n",
       "Name: model1_clean, dtype: int64"
      ]
     },
     "execution_count": 46,
     "metadata": {},
     "output_type": "execute_result"
    }
   ],
   "source": [
    "# col9\n",
    "#(solar['model1_clean'].value_counts()==1).sum() - Map these into an unique category\n",
    "# different types of sillicon based solar panels\n",
    "solar['model1_clean'].value_counts().head()"
   ]
  },
  {
   "cell_type": "markdown",
   "metadata": {},
   "source": [
    "use RegEx to extract upto `-` and then see whther there is any impact"
   ]
  },
  {
   "cell_type": "code",
   "execution_count": 49,
   "metadata": {},
   "outputs": [
    {
     "data": {
      "text/plain": [
       "Travis        4620\n",
       "Williamson      54\n",
       "Bexar           30\n",
       "Name: county, dtype: int64"
      ]
     },
     "execution_count": 49,
     "metadata": {},
     "output_type": "execute_result"
    }
   ],
   "source": [
    "# col10\n",
    "solar['county'].value_counts()"
   ]
  },
  {
   "cell_type": "markdown",
   "metadata": {},
   "source": [
    "Probably based on county there won't be any impact. But rebate and size of the installation and installer company etc might change"
   ]
  },
  {
   "cell_type": "code",
   "execution_count": 52,
   "metadata": {},
   "outputs": [
    {
     "data": {
      "text/plain": [
       "8934.963867     210\n",
       "10721.956640    134\n",
       "2978.321289     128\n",
       "13402.445800    103\n",
       "1103.580220      63\n",
       "Name: annual_PV_prod, dtype: int64"
      ]
     },
     "execution_count": 52,
     "metadata": {},
     "output_type": "execute_result"
    }
   ],
   "source": [
    "# col11\n",
    "solar['annual_PV_prod'].value_counts().head()"
   ]
  },
  {
   "cell_type": "markdown",
   "metadata": {},
   "source": [
    "# Question2\n",
    "This is predicted energy production while target is reported_annual_energy_prod. They are very similar. **Should I remove that?**. Prediction can be there based on size of installation etc. But it would make the problem very simple!"
   ]
  },
  {
   "cell_type": "code",
   "execution_count": 54,
   "metadata": {},
   "outputs": [],
   "source": [
    "# col12\n",
    "#solar['annual_insolation'].value_counts()#.head()"
   ]
  },
  {
   "cell_type": "code",
   "execution_count": 57,
   "metadata": {},
   "outputs": [
    {
     "data": {
      "text/plain": [
       "15000.00    293\n",
       "13537.13    119\n",
       "827.97       63\n",
       "18000.00     57\n",
       "1103.96      56\n",
       "Name: rebate, dtype: int64"
      ]
     },
     "execution_count": 57,
     "metadata": {},
     "output_type": "execute_result"
    }
   ],
   "source": [
    "# col13\n",
    "solar['rebate'].value_counts().head()"
   ]
  },
  {
   "cell_type": "markdown",
   "metadata": {},
   "source": [
    "Bigger the solar energy production, bigger would be the rebate. Thats why they are highly correlated "
   ]
  },
  {
   "cell_type": "code",
   "execution_count": 60,
   "metadata": {},
   "outputs": [
    {
     "data": {
      "text/plain": [
       "291.649526    87\n",
       "83.666358     56\n",
       "111.567561    48\n",
       "788.106159    47\n",
       "777.697651    47\n",
       "Name: sales_tax_cost, dtype: int64"
      ]
     },
     "execution_count": 60,
     "metadata": {},
     "output_type": "execute_result"
    }
   ],
   "source": [
    "# col14\n",
    "solar['sales_tax_cost'].value_counts().head()"
   ]
  },
  {
   "cell_type": "code",
   "execution_count": null,
   "metadata": {},
   "outputs": [],
   "source": [
    "Sales tax generally higher with higher size installation and thus production would be higher too"
   ]
  },
  {
   "cell_type": "code",
   "execution_count": 61,
   "metadata": {},
   "outputs": [
    {
     "data": {
      "text/plain": [
       "Fixed    4657\n",
       "Name: tracking_type, dtype: int64"
      ]
     },
     "execution_count": 61,
     "metadata": {},
     "output_type": "execute_result"
    }
   ],
   "source": [
    "# col15\n",
    "solar['tracking_type'].value_counts()"
   ]
  },
  {
   "cell_type": "code",
   "execution_count": 67,
   "metadata": {},
   "outputs": [
    {
     "data": {
      "text/plain": [
       "Fixed       4657\n",
       "NotFixed    3299\n",
       "Name: tracking_type, dtype: int64"
      ]
     },
     "execution_count": 67,
     "metadata": {},
     "output_type": "execute_result"
    }
   ],
   "source": [
    "# we can check what happens when it is non fixed \n",
    "solar['tracking_type'].fillna('NotFixed', inplace=True)\n",
    "solar['tracking_type'].value_counts()"
   ]
  },
  {
   "cell_type": "code",
   "execution_count": 68,
   "metadata": {},
   "outputs": [
    {
     "data": {
      "text/html": [
       "<div>\n",
       "<style scoped>\n",
       "    .dataframe tbody tr th:only-of-type {\n",
       "        vertical-align: middle;\n",
       "    }\n",
       "\n",
       "    .dataframe tbody tr th {\n",
       "        vertical-align: top;\n",
       "    }\n",
       "\n",
       "    .dataframe thead th {\n",
       "        text-align: right;\n",
       "    }\n",
       "</style>\n",
       "<table border=\"1\" class=\"dataframe\">\n",
       "  <thead>\n",
       "    <tr style=\"text-align: right;\">\n",
       "      <th></th>\n",
       "      <th>reported_annual_energy_prod</th>\n",
       "    </tr>\n",
       "    <tr>\n",
       "      <th>tracking_type</th>\n",
       "      <th></th>\n",
       "    </tr>\n",
       "  </thead>\n",
       "  <tbody>\n",
       "    <tr>\n",
       "      <th>Fixed</th>\n",
       "      <td>5739.077091</td>\n",
       "    </tr>\n",
       "    <tr>\n",
       "      <th>NotFixed</th>\n",
       "      <td>13501.704759</td>\n",
       "    </tr>\n",
       "  </tbody>\n",
       "</table>\n",
       "</div>"
      ],
      "text/plain": [
       "               reported_annual_energy_prod\n",
       "tracking_type                             \n",
       "Fixed                          5739.077091\n",
       "NotFixed                      13501.704759"
      ]
     },
     "execution_count": 68,
     "metadata": {},
     "output_type": "execute_result"
    }
   ],
   "source": [
    "solar.groupby('tracking_type').agg({'reported_annual_energy_prod':'mean'})"
   ]
  },
  {
   "cell_type": "code",
   "execution_count": 69,
   "metadata": {},
   "outputs": [],
   "source": [
    "# Interesting :)"
   ]
  },
  {
   "cell_type": "code",
   "execution_count": 70,
   "metadata": {},
   "outputs": [],
   "source": [
    "# col16: Target"
   ]
  },
  {
   "cell_type": "code",
   "execution_count": null,
   "metadata": {},
   "outputs": [],
   "source": [
    "# state, date_installed, zipcode, city - no need to explore right now"
   ]
  }
 ],
 "metadata": {
  "kernelspec": {
   "display_name": "Python 3",
   "language": "python",
   "name": "python3"
  },
  "language_info": {
   "codemirror_mode": {
    "name": "ipython",
    "version": 3
   },
   "file_extension": ".py",
   "mimetype": "text/x-python",
   "name": "python",
   "nbconvert_exporter": "python",
   "pygments_lexer": "ipython3",
   "version": "3.6.4"
  },
  "varInspector": {
   "cols": {
    "lenName": 16,
    "lenType": 16,
    "lenVar": 40
   },
   "kernels_config": {
    "python": {
     "delete_cmd_postfix": "",
     "delete_cmd_prefix": "del ",
     "library": "var_list.py",
     "varRefreshCmd": "print(var_dic_list())"
    },
    "r": {
     "delete_cmd_postfix": ") ",
     "delete_cmd_prefix": "rm(",
     "library": "var_list.r",
     "varRefreshCmd": "cat(var_dic_list()) "
    }
   },
   "types_to_exclude": [
    "module",
    "function",
    "builtin_function_or_method",
    "instance",
    "_Feature"
   ],
   "window_display": false
  }
 },
 "nbformat": 4,
 "nbformat_minor": 2
}
